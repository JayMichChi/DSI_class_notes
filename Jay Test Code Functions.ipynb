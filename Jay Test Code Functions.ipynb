{
 "cells": [
  {
   "cell_type": "code",
   "execution_count": null,
   "metadata": {
    "collapsed": false
   },
   "outputs": [],
   "source": [
    "\n",
    "\n",
    "def happyBirthdayEmily():\n",
    "    print(\"Happy Birthday to you!\")\n",
    "    print(\"Happy Birthday to you!\")\n",
    "    print(\"Happy Birthday, dear Emily.\")\n",
    "    print(\"Happy Birthday to you!\")\n",
    "\n",
    "# happyBirthdayEmily()\n",
    "'\\n'\n",
    "def happyBirthdayAndre():\n",
    "    print(\"Happy Birthday to you!\")\n",
    "    print(\"Happy Birthday to you!\")\n",
    "    print(\"Happy Birthday, dear Andre.\")\n",
    "    print(\"Happy Birthday to you!\")\n",
    "\n",
    "# happyBirthdayAndre()\n",
    "'\\n'\n",
    "def main():\n",
    "    happyBirthdayEmily()\n",
    "    happyBirthdayAndre()\n",
    "'\\n'\n",
    "happyBirthdayAndre()\n",
    "'\\n'"
   ]
  },
  {
   "cell_type": "code",
   "execution_count": null,
   "metadata": {
    "collapsed": false
   },
   "outputs": [],
   "source": [
    "def f():\n",
    "    print('In function f')\n",
    "    print('When does this print?')\n",
    "f()"
   ]
  },
  {
   "cell_type": "code",
   "execution_count": null,
   "metadata": {
    "collapsed": false
   },
   "outputs": [],
   "source": [
    "def f():\n",
    "    print('In function f')\n",
    "print('When does this print?')\n",
    "f()"
   ]
  },
  {
   "cell_type": "code",
   "execution_count": 73,
   "metadata": {
    "collapsed": false
   },
   "outputs": [
    {
     "name": "stdout",
     "output_type": "stream",
     "text": [
      "Two roads diverged in a yellow wood, And sorry I could not travel both And be one traveler, long I stood And looked down one as far as I could To where it bent in the undergrowth;\n",
      " Then took the other, as just as fair, And having perhaps the better claim, Because it was grassy and wanted wear; Though as for that the passing there Had worn them really about the same,\n",
      " And both that morning equally lay In leaves no step had trodden black. Oh, I kept the first for another day! Yet knowing how way leads on to way, I doubted if I should ever come back.\n",
      "I shall be telling this with a sigh\n",
      "Somewhere ages and ages hence:\n",
      "Two roads diverged in a wood, and I—\n",
      "I took the one less traveled by,\n",
      "And that has made all the difference.\n",
      "\n",
      "Two roads diverged in a yellow wood, And sorry I could not travel both And be one traveler, long I stood And looked down one as far as I could To where it bent in the undergrowth;\n",
      " Then took the other, as just as fair, And having perhaps the better claim, Because it was grassy and wanted wear; Though as for that the passing there Had worn them really about the same,\n",
      " And both that morning equally lay In leaves no step had trodden black. Oh, I kept the first for another day! Yet knowing how way leads on to way, I doubted if I should ever come back.\n",
      "I shall be telling this with a sigh\n",
      "Somewhere ages and ages hence:\n",
      "Two roads diverged in a wood, and I—\n",
      "I took the one less traveled by,\n",
      "And that has made all the difference.\n",
      "\n",
      "Two roads diverged in a yellow wood, And sorry I could not travel both And be one traveler, long I stood And looked down one as far as I could To where it bent in the undergrowth;\n",
      " Then took the other, as just as fair, And having perhaps the better claim, Because it was grassy and wanted wear; Though as for that the passing there Had worn them really about the same,\n",
      " And both that morning equally lay In leaves no step had trodden black. Oh, I kept the first for another day! Yet knowing how way leads on to way, I doubted if I should ever come back.\n",
      "I shall be telling this with a sigh\n",
      "Somewhere ages and ages hence:\n",
      "Two roads diverged in a wood, and I—\n",
      "I took the one less traveled by,\n",
      "And that has made all the difference.\n"
     ]
    }
   ],
   "source": [
    "def rf_poem_4():\n",
    "    print 'I shall be telling this with a sigh'\n",
    "    print 'Somewhere ages and ages hence:'\n",
    "    print 'Two roads diverged in a wood, and I—'\n",
    "    print 'I took the one less traveled by,'\n",
    "    print 'And that has made all the difference.'\n",
    "    \n",
    "def rf_poem_1():\n",
    "    print 'Two roads diverged in a yellow wood, And sorry I could not travel both And be one traveler, long I stood And looked down one as far as I could To where it bent in the undergrowth;'\n",
    "    \n",
    "def rf_poem_2():\n",
    "    print ' Then took the other, as just as fair, And having perhaps the better claim, Because it was grassy and wanted wear; Though as for that the passing there Had worn them really about the same,'\n",
    "\n",
    "def rf_poem_3():\n",
    "    print ' And both that morning equally lay In leaves no step had trodden black. Oh, I kept the first for another day! Yet knowing how way leads on to way, I doubted if I should ever come back.'\n",
    "    \n",
    "def read_rf_poem():\n",
    "    rf_poem_1() \n",
    "    rf_poem_2() \n",
    "    rf_poem_3() \n",
    "    rf_poem_4() \n",
    "\n",
    "read_rf_poem()\n",
    "print \"\"\n",
    "read_rf_poem()\n",
    "print ''\n",
    "read_rf_poem()"
   ]
  },
  {
   "cell_type": "code",
   "execution_count": null,
   "metadata": {
    "collapsed": false
   },
   "outputs": [],
   "source": [
    "def happyBirthday(person):\n",
    "    print(\"Happy Birthday to you!\")\n",
    "    print(\"Happy Birthday to you!\")\n",
    "    print('Happy Birthday, dear ' + person + '.')\n",
    "    print(\"Happy Birthday to you!\")\n",
    "    \n",
    "happyBirthday('Jason')"
   ]
  },
  {
   "cell_type": "code",
   "execution_count": null,
   "metadata": {
    "collapsed": false
   },
   "outputs": [],
   "source": [
    "def happyBirthday(person):\n",
    "    print(\"Happy Birthday to you!\")\n",
    "    print(\"Happy Birthday to you!\")\n",
    "    print(\"Happy Birthday, dear \" + person + \".\")\n",
    "    print(\"Happy Birthday to you!\")\n",
    "\n",
    "def main():\n",
    "    userName = input(\"Enter the Birthday person's name: \")\n",
    "    happyBirthday(userName)\n",
    "\n",
    "main()"
   ]
  },
  {
   "cell_type": "markdown",
   "metadata": {},
   "source": [
    "1.11.4.1. Birthday Function Exercise\n",
    "Make your own further change to birthday7.py and save it as birthdayMany.py: Add a function call (but not another function definition), so Maria gets a verse, in addition to Emily and Andre. Also print a blank line between verses. (You may either do this by adding a print line to the function definition, or by adding a print line between all calls to the function.)\n",
    "\n",
    "[1]\tI have given the explicit terminology “formal parameter” and “actual parameter”. In various places you may see either of these terms replaced by just “parameter” or maybe “argument”. In that case you must determine from context which is being discussed: a definition and formal parameter or a function call and an actual parameter."
   ]
  },
  {
   "cell_type": "code",
   "execution_count": 72,
   "metadata": {
    "collapsed": false
   },
   "outputs": [
    {
     "name": "stdout",
     "output_type": "stream",
     "text": [
      "Happy Birthday to you!\n",
      "Happy Birthday to you!\n",
      "Happy Birthday, dear Emily.\n",
      "Happy Birthday to you!\n",
      "Happy Birthday to you!\n",
      "Happy Birthday to you!\n",
      "Happy Birthday, dear Andre.\n",
      "Happy Birthday to you!\n",
      "Happy Birthday to you!\n",
      "Happy Birthday to you!\n",
      "Happy Birthday, dear Mary.\n",
      "Happy Birthday to you!\n",
      "Happy Birthday to you!\n",
      "Happy Birthday to you!\n",
      "Happy Birthday, dear Smitty.\n",
      "Happy Birthday to you!\n"
     ]
    }
   ],
   "source": [
    "x = [\"Emily\", 'Andre', 'Mary', 'Smitty']\n",
    "\n",
    "def happyBirthday(person):\n",
    "    print(\"Happy Birthday to you!\")\n",
    "    print(\"Happy Birthday to you!\")\n",
    "    print(\"Happy Birthday, dear \" + person + \".\")\n",
    "    print(\"Happy Birthday to you!\")\n",
    "\n",
    "def main():\n",
    "    for fuch in x:\n",
    "        happyBirthday(fuch)\n",
    "\n",
    "main()"
   ]
  },
  {
   "cell_type": "code",
   "execution_count": null,
   "metadata": {
    "collapsed": false
   },
   "outputs": [],
   "source": [
    "import pandas as pd\n",
    "import numpy as np\n",
    "\n",
    "df = pd.DataFrame({'Type':list('ABBC'), 'Set':list('ZZXY')})\n",
    "df['color'] = np.where(df['Set']=='Z', 0, 1)\n",
    "print(df)\n"
   ]
  },
  {
   "cell_type": "code",
   "execution_count": null,
   "metadata": {
    "collapsed": true
   },
   "outputs": [],
   "source": []
  }
 ],
 "metadata": {
  "kernelspec": {
   "display_name": "Python [Root]",
   "language": "python",
   "name": "Python [Root]"
  },
  "language_info": {
   "codemirror_mode": {
    "name": "ipython",
    "version": 2
   },
   "file_extension": ".py",
   "mimetype": "text/x-python",
   "name": "python",
   "nbconvert_exporter": "python",
   "pygments_lexer": "ipython2",
   "version": "2.7.12"
  }
 },
 "nbformat": 4,
 "nbformat_minor": 0
}
