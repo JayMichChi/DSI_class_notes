{
 "cells": [
  {
   "cell_type": "code",
   "execution_count": 1,
   "metadata": {
    "collapsed": true
   },
   "outputs": [],
   "source": [
    "%matplotlib inline\n",
    "from matplotlib import pyplot as plt\n",
    "import seaborn as sns\n",
    "from sklearn import datasets\n",
    "import pandas as pd\n"
   ]
  },
  {
   "cell_type": "code",
   "execution_count": 12,
   "metadata": {
    "collapsed": false
   },
   "outputs": [
    {
     "data": {
      "text/plain": [
       "'/Users/ugp/week03'"
      ]
     },
     "execution_count": 12,
     "metadata": {},
     "output_type": "execute_result"
    }
   ],
   "source": [
    "import os\n",
    "os.getcwd()\n"
   ]
  },
  {
   "cell_type": "code",
   "execution_count": 13,
   "metadata": {
    "collapsed": false
   },
   "outputs": [
    {
     "name": "stderr",
     "output_type": "stream",
     "text": [
      "/Users/ugp/anaconda2/lib/python2.7/site-packages/IPython/core/interactiveshell.py:2723: DtypeWarning: Columns (5) have mixed types. Specify dtype option on import or set low_memory=False.\n",
      "  interactivity=interactivity, compiler=compiler, result=result)\n"
     ]
    }
   ],
   "source": [
    "data = pd.read_csv('/Users/ugp/week03/final_csv_of_divvy_rides.csv')"
   ]
  },
  {
   "cell_type": "code",
   "execution_count": 14,
   "metadata": {
    "collapsed": false
   },
   "outputs": [
    {
     "data": {
      "text/html": [
       "<div>\n",
       "<table border=\"1\" class=\"dataframe\">\n",
       "  <thead>\n",
       "    <tr style=\"text-align: right;\">\n",
       "      <th></th>\n",
       "      <th>bikeid</th>\n",
       "      <th>birthday</th>\n",
       "      <th>birthyear</th>\n",
       "      <th>from_station_id</th>\n",
       "      <th>from_station_name</th>\n",
       "      <th>gender</th>\n",
       "      <th>starttime</th>\n",
       "      <th>stoptime</th>\n",
       "      <th>to_station_id</th>\n",
       "      <th>to_station_name</th>\n",
       "      <th>trip_id</th>\n",
       "      <th>tripduration</th>\n",
       "      <th>usertype</th>\n",
       "    </tr>\n",
       "  </thead>\n",
       "  <tbody>\n",
       "    <tr>\n",
       "      <th>0</th>\n",
       "      <td>480</td>\n",
       "      <td>NaN</td>\n",
       "      <td>NaN</td>\n",
       "      <td>85</td>\n",
       "      <td>Michigan Ave &amp; Oak St</td>\n",
       "      <td>NaN</td>\n",
       "      <td>2013-06-27 12:11</td>\n",
       "      <td>2013-06-27 12:16</td>\n",
       "      <td>28</td>\n",
       "      <td>Larrabee St &amp; Menomonee St</td>\n",
       "      <td>4118</td>\n",
       "      <td>316</td>\n",
       "      <td>Customer</td>\n",
       "    </tr>\n",
       "    <tr>\n",
       "      <th>1</th>\n",
       "      <td>77</td>\n",
       "      <td>NaN</td>\n",
       "      <td>NaN</td>\n",
       "      <td>32</td>\n",
       "      <td>Racine Ave &amp; Congress Pkwy</td>\n",
       "      <td>NaN</td>\n",
       "      <td>2013-06-27 14:44</td>\n",
       "      <td>2013-06-27 14:45</td>\n",
       "      <td>32</td>\n",
       "      <td>Racine Ave &amp; Congress Pkwy</td>\n",
       "      <td>4275</td>\n",
       "      <td>64</td>\n",
       "      <td>Customer</td>\n",
       "    </tr>\n",
       "    <tr>\n",
       "      <th>2</th>\n",
       "      <td>77</td>\n",
       "      <td>NaN</td>\n",
       "      <td>NaN</td>\n",
       "      <td>32</td>\n",
       "      <td>Racine Ave &amp; Congress Pkwy</td>\n",
       "      <td>NaN</td>\n",
       "      <td>2013-06-27 14:58</td>\n",
       "      <td>2013-06-27 15:05</td>\n",
       "      <td>19</td>\n",
       "      <td>Loomis St &amp; Taylor St</td>\n",
       "      <td>4291</td>\n",
       "      <td>433</td>\n",
       "      <td>Customer</td>\n",
       "    </tr>\n",
       "    <tr>\n",
       "      <th>3</th>\n",
       "      <td>77</td>\n",
       "      <td>NaN</td>\n",
       "      <td>NaN</td>\n",
       "      <td>19</td>\n",
       "      <td>Loomis St &amp; Taylor St</td>\n",
       "      <td>NaN</td>\n",
       "      <td>2013-06-27 15:06</td>\n",
       "      <td>2013-06-27 15:09</td>\n",
       "      <td>19</td>\n",
       "      <td>Loomis St &amp; Taylor St</td>\n",
       "      <td>4316</td>\n",
       "      <td>123</td>\n",
       "      <td>Customer</td>\n",
       "    </tr>\n",
       "    <tr>\n",
       "      <th>4</th>\n",
       "      <td>77</td>\n",
       "      <td>NaN</td>\n",
       "      <td>NaN</td>\n",
       "      <td>19</td>\n",
       "      <td>Loomis St &amp; Taylor St</td>\n",
       "      <td>NaN</td>\n",
       "      <td>2013-06-27 15:13</td>\n",
       "      <td>2013-06-27 15:27</td>\n",
       "      <td>55</td>\n",
       "      <td>Halsted St &amp; James M Rochford St</td>\n",
       "      <td>4342</td>\n",
       "      <td>852</td>\n",
       "      <td>Customer</td>\n",
       "    </tr>\n",
       "  </tbody>\n",
       "</table>\n",
       "</div>"
      ],
      "text/plain": [
       "   bikeid  birthday  birthyear  from_station_id           from_station_name  \\\n",
       "0     480       NaN        NaN               85       Michigan Ave & Oak St   \n",
       "1      77       NaN        NaN               32  Racine Ave & Congress Pkwy   \n",
       "2      77       NaN        NaN               32  Racine Ave & Congress Pkwy   \n",
       "3      77       NaN        NaN               19       Loomis St & Taylor St   \n",
       "4      77       NaN        NaN               19       Loomis St & Taylor St   \n",
       "\n",
       "  gender         starttime          stoptime  to_station_id  \\\n",
       "0    NaN  2013-06-27 12:11  2013-06-27 12:16             28   \n",
       "1    NaN  2013-06-27 14:44  2013-06-27 14:45             32   \n",
       "2    NaN  2013-06-27 14:58  2013-06-27 15:05             19   \n",
       "3    NaN  2013-06-27 15:06  2013-06-27 15:09             19   \n",
       "4    NaN  2013-06-27 15:13  2013-06-27 15:27             55   \n",
       "\n",
       "                    to_station_name  trip_id  tripduration  usertype  \n",
       "0        Larrabee St & Menomonee St     4118           316  Customer  \n",
       "1        Racine Ave & Congress Pkwy     4275            64  Customer  \n",
       "2             Loomis St & Taylor St     4291           433  Customer  \n",
       "3             Loomis St & Taylor St     4316           123  Customer  \n",
       "4  Halsted St & James M Rochford St     4342           852  Customer  "
      ]
     },
     "execution_count": 14,
     "metadata": {},
     "output_type": "execute_result"
    }
   ],
   "source": [
    "data.head()"
   ]
  },
  {
   "cell_type": "code",
   "execution_count": 15,
   "metadata": {
    "collapsed": false
   },
   "outputs": [
    {
     "data": {
      "text/plain": [
       "Streeter Dr & Illinois St       137683\n",
       "Lake Shore Dr & Monroe St       124674\n",
       "Clinton St & Washington Blvd    112140\n",
       "Theater on the Lake             108426\n",
       "Michigan Ave & Oak St           101762\n",
       "Millennium Park                 100545\n",
       "Lake Shore Dr & North Blvd       90112\n",
       "Canal St & Adams St              88121\n",
       "Canal St & Madison St            86289\n",
       "Clinton St & Madison St          71598\n",
       "Name: from_station_name, dtype: int64"
      ]
     },
     "execution_count": 15,
     "metadata": {},
     "output_type": "execute_result"
    }
   ],
   "source": [
    "data['from_station_name'].value_counts().head(10)"
   ]
  },
  {
   "cell_type": "code",
   "execution_count": 16,
   "metadata": {
    "collapsed": false
   },
   "outputs": [
    {
     "data": {
      "text/plain": [
       "Streeter Dr & Illinois St       164101\n",
       "Lake Shore Dr & Monroe St       122493\n",
       "Theater on the Lake             115330\n",
       "Clinton St & Washington Blvd    110611\n",
       "Millennium Park                 110085\n",
       "Michigan Ave & Oak St           109586\n",
       "Lake Shore Dr & North Blvd      101364\n",
       "Canal St & Madison St            96899\n",
       "Canal St & Adams St              85913\n",
       "McClurg Ct & Illinois St         69345\n",
       "Name: to_station_name, dtype: int64"
      ]
     },
     "execution_count": 16,
     "metadata": {},
     "output_type": "execute_result"
    }
   ],
   "source": [
    "data['to_station_name'].value_counts().head(10)"
   ]
  },
  {
   "cell_type": "code",
   "execution_count": 22,
   "metadata": {
    "collapsed": false
   },
   "outputs": [
    {
     "data": {
      "text/html": [
       "<div>\n",
       "<table border=\"1\" class=\"dataframe\">\n",
       "  <thead>\n",
       "    <tr style=\"text-align: right;\">\n",
       "      <th></th>\n",
       "      <th>from_station_name</th>\n",
       "      <th>to_station_name</th>\n",
       "    </tr>\n",
       "  </thead>\n",
       "  <tbody>\n",
       "    <tr>\n",
       "      <th>Streeter Dr &amp; Illinois St</th>\n",
       "      <td>137683</td>\n",
       "      <td>164101.0</td>\n",
       "    </tr>\n",
       "    <tr>\n",
       "      <th>Lake Shore Dr &amp; Monroe St</th>\n",
       "      <td>124674</td>\n",
       "      <td>122493.0</td>\n",
       "    </tr>\n",
       "    <tr>\n",
       "      <th>Clinton St &amp; Washington Blvd</th>\n",
       "      <td>112140</td>\n",
       "      <td>110611.0</td>\n",
       "    </tr>\n",
       "    <tr>\n",
       "      <th>Theater on the Lake</th>\n",
       "      <td>108426</td>\n",
       "      <td>115330.0</td>\n",
       "    </tr>\n",
       "    <tr>\n",
       "      <th>Michigan Ave &amp; Oak St</th>\n",
       "      <td>101762</td>\n",
       "      <td>109586.0</td>\n",
       "    </tr>\n",
       "  </tbody>\n",
       "</table>\n",
       "</div>"
      ],
      "text/plain": [
       "                              from_station_name  to_station_name\n",
       "Streeter Dr & Illinois St                137683         164101.0\n",
       "Lake Shore Dr & Monroe St                124674         122493.0\n",
       "Clinton St & Washington Blvd             112140         110611.0\n",
       "Theater on the Lake                      108426         115330.0\n",
       "Michigan Ave & Oak St                    101762         109586.0"
      ]
     },
     "execution_count": 22,
     "metadata": {},
     "output_type": "execute_result"
    }
   ],
   "source": [
    "departure_arrival = pd.DataFrame(data['from_station_name'].value_counts()).join(data['to_station_name'].value_counts())\n",
    "\n",
    "departure_arrival.head()"
   ]
  },
  {
   "cell_type": "code",
   "execution_count": 25,
   "metadata": {
    "collapsed": false
   },
   "outputs": [
    {
     "data": {
      "text/html": [
       "<div>\n",
       "<table border=\"1\" class=\"dataframe\">\n",
       "  <thead>\n",
       "    <tr style=\"text-align: right;\">\n",
       "      <th></th>\n",
       "      <th>from_station_name</th>\n",
       "      <th>to_station_name</th>\n",
       "      <th>net_departures</th>\n",
       "    </tr>\n",
       "  </thead>\n",
       "  <tbody>\n",
       "    <tr>\n",
       "      <th>Streeter Dr &amp; Illinois St</th>\n",
       "      <td>137683</td>\n",
       "      <td>164101.0</td>\n",
       "      <td>-26418.0</td>\n",
       "    </tr>\n",
       "    <tr>\n",
       "      <th>Lake Shore Dr &amp; Monroe St</th>\n",
       "      <td>124674</td>\n",
       "      <td>122493.0</td>\n",
       "      <td>2181.0</td>\n",
       "    </tr>\n",
       "    <tr>\n",
       "      <th>Clinton St &amp; Washington Blvd</th>\n",
       "      <td>112140</td>\n",
       "      <td>110611.0</td>\n",
       "      <td>1529.0</td>\n",
       "    </tr>\n",
       "    <tr>\n",
       "      <th>Theater on the Lake</th>\n",
       "      <td>108426</td>\n",
       "      <td>115330.0</td>\n",
       "      <td>-6904.0</td>\n",
       "    </tr>\n",
       "    <tr>\n",
       "      <th>Michigan Ave &amp; Oak St</th>\n",
       "      <td>101762</td>\n",
       "      <td>109586.0</td>\n",
       "      <td>-7824.0</td>\n",
       "    </tr>\n",
       "  </tbody>\n",
       "</table>\n",
       "</div>"
      ],
      "text/plain": [
       "                              from_station_name  to_station_name  \\\n",
       "Streeter Dr & Illinois St                137683         164101.0   \n",
       "Lake Shore Dr & Monroe St                124674         122493.0   \n",
       "Clinton St & Washington Blvd             112140         110611.0   \n",
       "Theater on the Lake                      108426         115330.0   \n",
       "Michigan Ave & Oak St                    101762         109586.0   \n",
       "\n",
       "                              net_departures  \n",
       "Streeter Dr & Illinois St           -26418.0  \n",
       "Lake Shore Dr & Monroe St             2181.0  \n",
       "Clinton St & Washington Blvd          1529.0  \n",
       "Theater on the Lake                  -6904.0  \n",
       "Michigan Ave & Oak St                -7824.0  "
      ]
     },
     "execution_count": 25,
     "metadata": {},
     "output_type": "execute_result"
    }
   ],
   "source": [
    "departure_arrival['net_departures'] = departure_arrival['from_station_name'] - departure_arrival['to_station_name']\n",
    "departure_arrival.head()"
   ]
  },
  {
   "cell_type": "code",
   "execution_count": 27,
   "metadata": {
    "collapsed": false
   },
   "outputs": [
    {
     "data": {
      "text/html": [
       "<div>\n",
       "<table border=\"1\" class=\"dataframe\">\n",
       "  <thead>\n",
       "    <tr style=\"text-align: right;\">\n",
       "      <th></th>\n",
       "      <th>from_station_name</th>\n",
       "      <th>to_station_name</th>\n",
       "      <th>net_departures</th>\n",
       "    </tr>\n",
       "  </thead>\n",
       "  <tbody>\n",
       "    <tr>\n",
       "      <th>Streeter Dr &amp; Illinois St</th>\n",
       "      <td>137683</td>\n",
       "      <td>164101.0</td>\n",
       "      <td>-26418.0</td>\n",
       "    </tr>\n",
       "    <tr>\n",
       "      <th>Lake Shore Dr &amp; North Blvd</th>\n",
       "      <td>90112</td>\n",
       "      <td>101364.0</td>\n",
       "      <td>-11252.0</td>\n",
       "    </tr>\n",
       "    <tr>\n",
       "      <th>Canal St &amp; Madison St</th>\n",
       "      <td>86289</td>\n",
       "      <td>96899.0</td>\n",
       "      <td>-10610.0</td>\n",
       "    </tr>\n",
       "    <tr>\n",
       "      <th>Millennium Park</th>\n",
       "      <td>100545</td>\n",
       "      <td>110085.0</td>\n",
       "      <td>-9540.0</td>\n",
       "    </tr>\n",
       "    <tr>\n",
       "      <th>Michigan Ave &amp; Oak St</th>\n",
       "      <td>101762</td>\n",
       "      <td>109586.0</td>\n",
       "      <td>-7824.0</td>\n",
       "    </tr>\n",
       "  </tbody>\n",
       "</table>\n",
       "</div>"
      ],
      "text/plain": [
       "                            from_station_name  to_station_name  net_departures\n",
       "Streeter Dr & Illinois St              137683         164101.0        -26418.0\n",
       "Lake Shore Dr & North Blvd              90112         101364.0        -11252.0\n",
       "Canal St & Madison St                   86289          96899.0        -10610.0\n",
       "Millennium Park                        100545         110085.0         -9540.0\n",
       "Michigan Ave & Oak St                  101762         109586.0         -7824.0"
      ]
     },
     "execution_count": 27,
     "metadata": {},
     "output_type": "execute_result"
    }
   ],
   "source": [
    "departure_arrival.sort_values(by=\"net_departures\").head()"
   ]
  },
  {
   "cell_type": "code",
   "execution_count": 28,
   "metadata": {
    "collapsed": false
   },
   "outputs": [
    {
     "data": {
      "text/plain": [
       "(array([ 389.,  101.,   47.,   22.,   11.,    2.,    3.,    3.,    1.,    2.]),\n",
       " array([  1.00000000e+00,   1.37692000e+04,   2.75374000e+04,\n",
       "          4.13056000e+04,   5.50738000e+04,   6.88420000e+04,\n",
       "          8.26102000e+04,   9.63784000e+04,   1.10146600e+05,\n",
       "          1.23914800e+05,   1.37683000e+05]),\n",
       " <a list of 10 Patch objects>)"
      ]
     },
     "execution_count": 28,
     "metadata": {},
     "output_type": "execute_result"
    },
    {
     "data": {
      "image/png": "[encoded data removed]",
      "text/plain": [
       "<matplotlib.figure.Figure at 0x118620290>"
      ]
     },
     "metadata": {},
     "output_type": "display_data"
    }
   ],
   "source": [
    "plt.hist(departure_arrival['from_station_name'])"
   ]
  },
  {
   "cell_type": "code",
   "execution_count": 30,
   "metadata": {
    "collapsed": false
   },
   "outputs": [],
   "source": [
    "departure_arrival.fillna(0,inplace=True)"
   ]
  },
  {
   "cell_type": "code",
   "execution_count": 31,
   "metadata": {
    "collapsed": false
   },
   "outputs": [
    {
     "data": {
      "text/html": [
       "<div>\n",
       "<table border=\"1\" class=\"dataframe\">\n",
       "  <thead>\n",
       "    <tr style=\"text-align: right;\">\n",
       "      <th></th>\n",
       "      <th>from_station_name</th>\n",
       "      <th>to_station_name</th>\n",
       "      <th>net_departures</th>\n",
       "    </tr>\n",
       "  </thead>\n",
       "  <tbody>\n",
       "    <tr>\n",
       "      <th>Streeter Dr &amp; Illinois St</th>\n",
       "      <td>137683</td>\n",
       "      <td>164101.0</td>\n",
       "      <td>-26418.0</td>\n",
       "    </tr>\n",
       "    <tr>\n",
       "      <th>Lake Shore Dr &amp; Monroe St</th>\n",
       "      <td>124674</td>\n",
       "      <td>122493.0</td>\n",
       "      <td>2181.0</td>\n",
       "    </tr>\n",
       "    <tr>\n",
       "      <th>Clinton St &amp; Washington Blvd</th>\n",
       "      <td>112140</td>\n",
       "      <td>110611.0</td>\n",
       "      <td>1529.0</td>\n",
       "    </tr>\n",
       "    <tr>\n",
       "      <th>Theater on the Lake</th>\n",
       "      <td>108426</td>\n",
       "      <td>115330.0</td>\n",
       "      <td>-6904.0</td>\n",
       "    </tr>\n",
       "    <tr>\n",
       "      <th>Michigan Ave &amp; Oak St</th>\n",
       "      <td>101762</td>\n",
       "      <td>109586.0</td>\n",
       "      <td>-7824.0</td>\n",
       "    </tr>\n",
       "  </tbody>\n",
       "</table>\n",
       "</div>"
      ],
      "text/plain": [
       "                              from_station_name  to_station_name  \\\n",
       "Streeter Dr & Illinois St                137683         164101.0   \n",
       "Lake Shore Dr & Monroe St                124674         122493.0   \n",
       "Clinton St & Washington Blvd             112140         110611.0   \n",
       "Theater on the Lake                      108426         115330.0   \n",
       "Michigan Ave & Oak St                    101762         109586.0   \n",
       "\n",
       "                              net_departures  \n",
       "Streeter Dr & Illinois St           -26418.0  \n",
       "Lake Shore Dr & Monroe St             2181.0  \n",
       "Clinton St & Washington Blvd          1529.0  \n",
       "Theater on the Lake                  -6904.0  \n",
       "Michigan Ave & Oak St                -7824.0  "
      ]
     },
     "execution_count": 31,
     "metadata": {},
     "output_type": "execute_result"
    }
   ],
   "source": [
    "departure_arrival['net_departures'] = departure_arrival['from_station_name'] - departure_arrival['to_station_name']\n",
    "departure_arrival.head()"
   ]
  },
  {
   "cell_type": "code",
   "execution_count": 32,
   "metadata": {
    "collapsed": false
   },
   "outputs": [
    {
     "data": {
      "text/plain": [
       "(array([ 158.,   53.,   32.,   26.,   26.,   14.,   22.,   28.,   19.,\n",
       "          11.,   20.,   12.,    9.,    7.,   14.,    7.,    9.,    9.,\n",
       "           3.,   11.,    8.,    1.,    6.,   10.,    8.,    3.,    3.,\n",
       "           4.,    3.,    1.,    2.,    4.,    3.,    2.,    2.,    4.,\n",
       "           1.,    2.,    0.,    2.,    1.,    1.,    2.,    1.,    2.,\n",
       "           0.,    1.,    2.,    0.,    1.,    1.,    0.,    1.,    0.,\n",
       "           0.,    0.,    0.,    0.,    0.,    0.,    0.,    0.,    1.,\n",
       "           0.,    1.,    1.,    0.,    0.,    0.,    0.,    0.,    0.,\n",
       "           0.,    2.,    0.,    0.,    0.,    0.,    1.,    0.,    0.,\n",
       "           1.,    0.,    0.,    0.,    0.,    0.,    0.,    0.,    0.,\n",
       "           1.,    0.,    0.,    0.,    0.,    0.,    0.,    0.,    0.,    1.]),\n",
       " array([  1.00000000e+00,   1.37782000e+03,   2.75464000e+03,\n",
       "          4.13146000e+03,   5.50828000e+03,   6.88510000e+03,\n",
       "          8.26192000e+03,   9.63874000e+03,   1.10155600e+04,\n",
       "          1.23923800e+04,   1.37692000e+04,   1.51460200e+04,\n",
       "          1.65228400e+04,   1.78996600e+04,   1.92764800e+04,\n",
       "          2.06533000e+04,   2.20301200e+04,   2.34069400e+04,\n",
       "          2.47837600e+04,   2.61605800e+04,   2.75374000e+04,\n",
       "          2.89142200e+04,   3.02910400e+04,   3.16678600e+04,\n",
       "          3.30446800e+04,   3.44215000e+04,   3.57983200e+04,\n",
       "          3.71751400e+04,   3.85519600e+04,   3.99287800e+04,\n",
       "          4.13056000e+04,   4.26824200e+04,   4.40592400e+04,\n",
       "          4.54360600e+04,   4.68128800e+04,   4.81897000e+04,\n",
       "          4.95665200e+04,   5.09433400e+04,   5.23201600e+04,\n",
       "          5.36969800e+04,   5.50738000e+04,   5.64506200e+04,\n",
       "          5.78274400e+04,   5.92042600e+04,   6.05810800e+04,\n",
       "          6.19579000e+04,   6.33347200e+04,   6.47115400e+04,\n",
       "          6.60883600e+04,   6.74651800e+04,   6.88420000e+04,\n",
       "          7.02188200e+04,   7.15956400e+04,   7.29724600e+04,\n",
       "          7.43492800e+04,   7.57261000e+04,   7.71029200e+04,\n",
       "          7.84797400e+04,   7.98565600e+04,   8.12333800e+04,\n",
       "          8.26102000e+04,   8.39870200e+04,   8.53638400e+04,\n",
       "          8.67406600e+04,   8.81174800e+04,   8.94943000e+04,\n",
       "          9.08711200e+04,   9.22479400e+04,   9.36247600e+04,\n",
       "          9.50015800e+04,   9.63784000e+04,   9.77552200e+04,\n",
       "          9.91320400e+04,   1.00508860e+05,   1.01885680e+05,\n",
       "          1.03262500e+05,   1.04639320e+05,   1.06016140e+05,\n",
       "          1.07392960e+05,   1.08769780e+05,   1.10146600e+05,\n",
       "          1.11523420e+05,   1.12900240e+05,   1.14277060e+05,\n",
       "          1.15653880e+05,   1.17030700e+05,   1.18407520e+05,\n",
       "          1.19784340e+05,   1.21161160e+05,   1.22537980e+05,\n",
       "          1.23914800e+05,   1.25291620e+05,   1.26668440e+05,\n",
       "          1.28045260e+05,   1.29422080e+05,   1.30798900e+05,\n",
       "          1.32175720e+05,   1.33552540e+05,   1.34929360e+05,\n",
       "          1.36306180e+05,   1.37683000e+05]),\n",
       " <a list of 100 Patch objects>)"
      ]
     },
     "execution_count": 32,
     "metadata": {},
     "output_type": "execute_result"
    },
    {
     "data": {
      "image/png": "[encoded data removed]",
      "text/plain": [
       "<matplotlib.figure.Figure at 0x11893f550>"
      ]
     },
     "metadata": {},
     "output_type": "display_data"
    }
   ],
   "source": [
    "plt.hist(departure_arrival['from_station_name'], bins=100)"
   ]
  },
  {
   "cell_type": "code",
   "execution_count": null,
   "metadata": {
    "collapsed": true
   },
   "outputs": [],
   "source": []
  },
  {
   "cell_type": "code",
   "execution_count": 36,
   "metadata": {
    "collapsed": false
   },
   "outputs": [
    {
     "data": {
      "text/html": [
       "<div>\n",
       "<table border=\"1\" class=\"dataframe\">\n",
       "  <thead>\n",
       "    <tr style=\"text-align: right;\">\n",
       "      <th></th>\n",
       "      <th>from_station_name</th>\n",
       "      <th>to_station_name</th>\n",
       "      <th>net_departures</th>\n",
       "    </tr>\n",
       "  </thead>\n",
       "  <tbody>\n",
       "    <tr>\n",
       "      <th>Streeter Dr &amp; Illinois St</th>\n",
       "      <td>137683</td>\n",
       "      <td>164101.0</td>\n",
       "      <td>-26418.0</td>\n",
       "    </tr>\n",
       "    <tr>\n",
       "      <th>Lake Shore Dr &amp; Monroe St</th>\n",
       "      <td>124674</td>\n",
       "      <td>122493.0</td>\n",
       "      <td>2181.0</td>\n",
       "    </tr>\n",
       "    <tr>\n",
       "      <th>Clinton St &amp; Washington Blvd</th>\n",
       "      <td>112140</td>\n",
       "      <td>110611.0</td>\n",
       "      <td>1529.0</td>\n",
       "    </tr>\n",
       "    <tr>\n",
       "      <th>Theater on the Lake</th>\n",
       "      <td>108426</td>\n",
       "      <td>115330.0</td>\n",
       "      <td>-6904.0</td>\n",
       "    </tr>\n",
       "    <tr>\n",
       "      <th>Michigan Ave &amp; Oak St</th>\n",
       "      <td>101762</td>\n",
       "      <td>109586.0</td>\n",
       "      <td>-7824.0</td>\n",
       "    </tr>\n",
       "  </tbody>\n",
       "</table>\n",
       "</div>"
      ],
      "text/plain": [
       "                              from_station_name  to_station_name  \\\n",
       "Streeter Dr & Illinois St                137683         164101.0   \n",
       "Lake Shore Dr & Monroe St                124674         122493.0   \n",
       "Clinton St & Washington Blvd             112140         110611.0   \n",
       "Theater on the Lake                      108426         115330.0   \n",
       "Michigan Ave & Oak St                    101762         109586.0   \n",
       "\n",
       "                              net_departures  \n",
       "Streeter Dr & Illinois St           -26418.0  \n",
       "Lake Shore Dr & Monroe St             2181.0  \n",
       "Clinton St & Washington Blvd          1529.0  \n",
       "Theater on the Lake                  -6904.0  \n",
       "Michigan Ave & Oak St                -7824.0  "
      ]
     },
     "execution_count": 36,
     "metadata": {},
     "output_type": "execute_result"
    }
   ],
   "source": [
    "departure_arrival.sort_values(by='from_station_name', ascending = False).head()"
   ]
  },
  {
   "cell_type": "code",
   "execution_count": 34,
   "metadata": {
    "collapsed": false
   },
   "outputs": [
    {
     "data": {
      "text/plain": [
       "(array([ 164.,   62.,   31.,   39.,   13.,   26.,   32.,   19.,   23.,\n",
       "          12.,   10.,   12.,   12.,   12.,    7.,    9.,    7.,    9.,\n",
       "           3.,   13.,   10.,    3.,    5.,    1.,    2.,    5.,    4.,\n",
       "           2.,    2.,    5.,    3.,    1.,    1.,    1.,    3.,    1.,\n",
       "           2.,    1.,    2.,    1.,    1.,    0.,    1.,    0.,    0.,\n",
       "           0.,    0.,    0.,    0.,    0.,    0.,    0.,    1.,    0.,\n",
       "           0.,    0.,    0.,    0.,    0.,    1.,    0.,    1.,    0.,\n",
       "           0.,    0.,    0.,    1.,    2.,    0.,    0.,    1.,    0.,\n",
       "           0.,    0.,    1.,    0.,    0.,    0.,    0.,    0.,    0.,\n",
       "           0.,    0.,    0.,    0.,    0.,    0.,    0.,    0.,    0.,\n",
       "           0.,    0.,    0.,    0.,    0.,    0.,    0.,    0.,    0.,    1.]),\n",
       " array([      0.  ,    1641.01,    3282.02,    4923.03,    6564.04,\n",
       "           8205.05,    9846.06,   11487.07,   13128.08,   14769.09,\n",
       "          16410.1 ,   18051.11,   19692.12,   21333.13,   22974.14,\n",
       "          24615.15,   26256.16,   27897.17,   29538.18,   31179.19,\n",
       "          32820.2 ,   34461.21,   36102.22,   37743.23,   39384.24,\n",
       "          41025.25,   42666.26,   44307.27,   45948.28,   47589.29,\n",
       "          49230.3 ,   50871.31,   52512.32,   54153.33,   55794.34,\n",
       "          57435.35,   59076.36,   60717.37,   62358.38,   63999.39,\n",
       "          65640.4 ,   67281.41,   68922.42,   70563.43,   72204.44,\n",
       "          73845.45,   75486.46,   77127.47,   78768.48,   80409.49,\n",
       "          82050.5 ,   83691.51,   85332.52,   86973.53,   88614.54,\n",
       "          90255.55,   91896.56,   93537.57,   95178.58,   96819.59,\n",
       "          98460.6 ,  100101.61,  101742.62,  103383.63,  105024.64,\n",
       "         106665.65,  108306.66,  109947.67,  111588.68,  113229.69,\n",
       "         114870.7 ,  116511.71,  118152.72,  119793.73,  121434.74,\n",
       "         123075.75,  124716.76,  126357.77,  127998.78,  129639.79,\n",
       "         131280.8 ,  132921.81,  134562.82,  136203.83,  137844.84,\n",
       "         139485.85,  141126.86,  142767.87,  144408.88,  146049.89,\n",
       "         147690.9 ,  149331.91,  150972.92,  152613.93,  154254.94,\n",
       "         155895.95,  157536.96,  159177.97,  160818.98,  162459.99,  164101.  ]),\n",
       " <a list of 100 Patch objects>)"
      ]
     },
     "execution_count": 34,
     "metadata": {},
     "output_type": "execute_result"
    },
    {
     "data": {
      "image/png": "[encoded data removed]",
      "text/plain": [
       "<matplotlib.figure.Figure at 0x119b27b90>"
      ]
     },
     "metadata": {},
     "output_type": "display_data"
    }
   ],
   "source": [
    "plt.hist(departure_arrival['to_station_name'], bins=100)"
   ]
  },
  {
   "cell_type": "code",
   "execution_count": 35,
   "metadata": {
    "collapsed": false
   },
   "outputs": [
    {
     "data": {
      "text/html": [
       "<div>\n",
       "<table border=\"1\" class=\"dataframe\">\n",
       "  <thead>\n",
       "    <tr style=\"text-align: right;\">\n",
       "      <th></th>\n",
       "      <th>from_station_name</th>\n",
       "      <th>to_station_name</th>\n",
       "      <th>net_departures</th>\n",
       "    </tr>\n",
       "  </thead>\n",
       "  <tbody>\n",
       "    <tr>\n",
       "      <th>Elizabeth St &amp; 47th St</th>\n",
       "      <td>1</td>\n",
       "      <td>0.0</td>\n",
       "      <td>1.0</td>\n",
       "    </tr>\n",
       "    <tr>\n",
       "      <th>Normal Ave &amp; 72nd St</th>\n",
       "      <td>1</td>\n",
       "      <td>1.0</td>\n",
       "      <td>0.0</td>\n",
       "    </tr>\n",
       "    <tr>\n",
       "      <th>Central St Metra</th>\n",
       "      <td>1</td>\n",
       "      <td>1.0</td>\n",
       "      <td>0.0</td>\n",
       "    </tr>\n",
       "    <tr>\n",
       "      <th>Racine Ave &amp; Garfield Blvd</th>\n",
       "      <td>1</td>\n",
       "      <td>1.0</td>\n",
       "      <td>0.0</td>\n",
       "    </tr>\n",
       "    <tr>\n",
       "      <th>Ashland Ave &amp; 69th St</th>\n",
       "      <td>1</td>\n",
       "      <td>3.0</td>\n",
       "      <td>-2.0</td>\n",
       "    </tr>\n",
       "  </tbody>\n",
       "</table>\n",
       "</div>"
      ],
      "text/plain": [
       "                            from_station_name  to_station_name  net_departures\n",
       "Elizabeth St & 47th St                      1              0.0             1.0\n",
       "Normal Ave & 72nd St                        1              1.0             0.0\n",
       "Central St Metra                            1              1.0             0.0\n",
       "Racine Ave & Garfield Blvd                  1              1.0             0.0\n",
       "Ashland Ave & 69th St                       1              3.0            -2.0"
      ]
     },
     "execution_count": 35,
     "metadata": {},
     "output_type": "execute_result"
    }
   ],
   "source": [
    "departure_arrival.sort_values(by='from_station_name', ascending=True).head()"
   ]
  },
  {
   "cell_type": "code",
   "execution_count": 37,
   "metadata": {
    "collapsed": false
   },
   "outputs": [
    {
     "data": {
      "text/plain": [
       "(array([   1.,    0.,    0.,    0.,    0.,    0.,    0.,    0.,    0.,\n",
       "           0.,    0.,    0.,    0.,    0.,    0.,    0.,    0.,    0.,\n",
       "           0.,    0.,    0.,    0.,    0.,    0.,    0.,    0.,    0.,\n",
       "           0.,    0.,    0.,    0.,    1.,    1.,    0.,    1.,    0.,\n",
       "           0.,    0.,    1.,    1.,    0.,    0.,    1.,    0.,    1.,\n",
       "           2.,    1.,    1.,    3.,    8.,    7.,   24.,   29.,  135.,\n",
       "         255.,   52.,   14.,   10.,   12.,    6.,    1.,    3.,    2.,\n",
       "           3.,    1.,    0.,    0.,    0.,    0.,    1.,    1.,    0.,\n",
       "           0.,    0.,    0.,    0.,    0.,    0.,    0.,    1.,    0.,\n",
       "           0.,    0.,    0.,    0.,    0.,    0.,    0.,    0.,    0.,\n",
       "           0.,    0.,    0.,    0.,    0.,    0.,    0.,    0.,    0.,    1.]),\n",
       " array([-26418.  , -25929.79, -25441.58, -24953.37, -24465.16, -23976.95,\n",
       "        -23488.74, -23000.53, -22512.32, -22024.11, -21535.9 , -21047.69,\n",
       "        -20559.48, -20071.27, -19583.06, -19094.85, -18606.64, -18118.43,\n",
       "        -17630.22, -17142.01, -16653.8 , -16165.59, -15677.38, -15189.17,\n",
       "        -14700.96, -14212.75, -13724.54, -13236.33, -12748.12, -12259.91,\n",
       "        -11771.7 , -11283.49, -10795.28, -10307.07,  -9818.86,  -9330.65,\n",
       "         -8842.44,  -8354.23,  -7866.02,  -7377.81,  -6889.6 ,  -6401.39,\n",
       "         -5913.18,  -5424.97,  -4936.76,  -4448.55,  -3960.34,  -3472.13,\n",
       "         -2983.92,  -2495.71,  -2007.5 ,  -1519.29,  -1031.08,   -542.87,\n",
       "           -54.66,    433.55,    921.76,   1409.97,   1898.18,   2386.39,\n",
       "          2874.6 ,   3362.81,   3851.02,   4339.23,   4827.44,   5315.65,\n",
       "          5803.86,   6292.07,   6780.28,   7268.49,   7756.7 ,   8244.91,\n",
       "          8733.12,   9221.33,   9709.54,  10197.75,  10685.96,  11174.17,\n",
       "         11662.38,  12150.59,  12638.8 ,  13127.01,  13615.22,  14103.43,\n",
       "         14591.64,  15079.85,  15568.06,  16056.27,  16544.48,  17032.69,\n",
       "         17520.9 ,  18009.11,  18497.32,  18985.53,  19473.74,  19961.95,\n",
       "         20450.16,  20938.37,  21426.58,  21914.79,  22403.  ]),\n",
       " <a list of 100 Patch objects>)"
      ]
     },
     "execution_count": 37,
     "metadata": {},
     "output_type": "execute_result"
    },
    {
     "data": {
      "image/png": "[encoded data removed]",
      "text/plain": [
       "<matplotlib.figure.Figure at 0x11ad58390>"
      ]
     },
     "metadata": {},
     "output_type": "display_data"
    }
   ],
   "source": [
    "plt.hist(departure_arrival['net_departures'], bins=100)"
   ]
  },
  {
   "cell_type": "code",
   "execution_count": 38,
   "metadata": {
    "collapsed": false
   },
   "outputs": [
    {
     "data": {
      "text/plain": [
       "count      581.000000\n",
       "mean         0.001721\n",
       "std       2082.847606\n",
       "min     -26418.000000\n",
       "25%       -217.000000\n",
       "50%          0.000000\n",
       "75%        222.000000\n",
       "max      22403.000000\n",
       "Name: net_departures, dtype: float64"
      ]
     },
     "execution_count": 38,
     "metadata": {},
     "output_type": "execute_result"
    }
   ],
   "source": [
    "departure_arrival['net_departures'].describe()"
   ]
  },
  {
   "cell_type": "code",
   "execution_count": 39,
   "metadata": {
    "collapsed": false
   },
   "outputs": [
    {
     "data": {
      "text/plain": [
       "Index([u'bikeid', u'birthday', u'birthyear', u'from_station_id',\n",
       "       u'from_station_name', u'gender', u'starttime', u'stoptime',\n",
       "       u'to_station_id', u'to_station_name', u'trip_id', u'tripduration',\n",
       "       u'usertype'],\n",
       "      dtype='object')"
      ]
     },
     "execution_count": 39,
     "metadata": {},
     "output_type": "execute_result"
    }
   ],
   "source": [
    "data.columns"
   ]
  },
  {
   "cell_type": "code",
   "execution_count": 41,
   "metadata": {
    "collapsed": false
   },
   "outputs": [
    {
     "data": {
      "text/plain": [
       "count    7.867601e+06\n",
       "mean     1.035279e+03\n",
       "std      2.063022e+03\n",
       "min      6.000000e+01\n",
       "25%      4.220000e+02\n",
       "50%      7.300000e+02\n",
       "75%      1.216000e+03\n",
       "max      8.639900e+04\n",
       "Name: tripduration, dtype: float64"
      ]
     },
     "execution_count": 41,
     "metadata": {},
     "output_type": "execute_result"
    }
   ],
   "source": [
    "data['tripduration'].describe()"
   ]
  },
  {
   "cell_type": "code",
   "execution_count": 42,
   "metadata": {
    "collapsed": false
   },
   "outputs": [
    {
     "data": {
      "text/plain": [
       "0"
      ]
     },
     "execution_count": 42,
     "metadata": {},
     "output_type": "execute_result"
    }
   ],
   "source": [
    "#asking if there are any empty data spots\n",
    "\n",
    "data['tripduration'].isnull().sum()"
   ]
  },
  {
   "cell_type": "code",
   "execution_count": 47,
   "metadata": {
    "collapsed": false
   },
   "outputs": [
    {
     "data": {
      "text/plain": [
       "(array([  4.84321500e+06,   2.29507500e+06,   4.15107000e+05,\n",
       "          1.29172000e+05,   5.97390000e+04,   3.51950000e+04,\n",
       "          2.22590000e+04,   1.51910000e+04,   1.03980000e+04,\n",
       "          7.24800000e+03,   5.37500000e+03,   4.15900000e+03,\n",
       "          3.13500000e+03,   2.36100000e+03,   1.96400000e+03,\n",
       "          1.67000000e+03,   1.31800000e+03,   1.11600000e+03,\n",
       "          9.26000000e+02,   7.65000000e+02,   6.08000000e+02,\n",
       "          5.99000000e+02,   5.10000000e+02,   4.59000000e+02,\n",
       "          3.82000000e+02,   3.67000000e+02,   3.12000000e+02,\n",
       "          2.69000000e+02,   2.77000000e+02,   2.18000000e+02,\n",
       "          2.08000000e+02,   2.07000000e+02,   1.92000000e+02,\n",
       "          1.69000000e+02,   1.89000000e+02,   1.64000000e+02,\n",
       "          1.69000000e+02,   1.90000000e+02,   1.69000000e+02,\n",
       "          1.53000000e+02,   1.35000000e+02,   1.43000000e+02,\n",
       "          1.38000000e+02,   1.41000000e+02,   1.27000000e+02,\n",
       "          1.38000000e+02,   1.31000000e+02,   1.09000000e+02,\n",
       "          1.21000000e+02,   1.38000000e+02,   1.29000000e+02,\n",
       "          1.24000000e+02,   1.00000000e+02,   1.27000000e+02,\n",
       "          1.38000000e+02,   1.57000000e+02,   1.48000000e+02,\n",
       "          1.29000000e+02,   1.34000000e+02,   1.45000000e+02,\n",
       "          1.35000000e+02,   1.14000000e+02,   1.11000000e+02,\n",
       "          1.08000000e+02,   1.14000000e+02,   9.40000000e+01,\n",
       "          1.19000000e+02,   1.13000000e+02,   9.30000000e+01,\n",
       "          1.11000000e+02,   9.50000000e+01,   1.14000000e+02,\n",
       "          9.10000000e+01,   1.00000000e+02,   1.01000000e+02,\n",
       "          8.90000000e+01,   8.40000000e+01,   8.60000000e+01,\n",
       "          5.30000000e+01,   9.10000000e+01,   8.80000000e+01,\n",
       "          1.08000000e+02,   8.20000000e+01,   8.20000000e+01,\n",
       "          7.80000000e+01,   7.60000000e+01,   8.10000000e+01,\n",
       "          8.20000000e+01,   9.40000000e+01,   6.70000000e+01,\n",
       "          8.40000000e+01,   7.30000000e+01,   8.30000000e+01,\n",
       "          9.70000000e+01,   8.80000000e+01,   9.30000000e+01,\n",
       "          7.90000000e+01,   1.01000000e+02,   1.13000000e+02,\n",
       "          8.50000000e+01]),\n",
       " array([  6.00000000e+01,   9.23390000e+02,   1.78678000e+03,\n",
       "          2.65017000e+03,   3.51356000e+03,   4.37695000e+03,\n",
       "          5.24034000e+03,   6.10373000e+03,   6.96712000e+03,\n",
       "          7.83051000e+03,   8.69390000e+03,   9.55729000e+03,\n",
       "          1.04206800e+04,   1.12840700e+04,   1.21474600e+04,\n",
       "          1.30108500e+04,   1.38742400e+04,   1.47376300e+04,\n",
       "          1.56010200e+04,   1.64644100e+04,   1.73278000e+04,\n",
       "          1.81911900e+04,   1.90545800e+04,   1.99179700e+04,\n",
       "          2.07813600e+04,   2.16447500e+04,   2.25081400e+04,\n",
       "          2.33715300e+04,   2.42349200e+04,   2.50983100e+04,\n",
       "          2.59617000e+04,   2.68250900e+04,   2.76884800e+04,\n",
       "          2.85518700e+04,   2.94152600e+04,   3.02786500e+04,\n",
       "          3.11420400e+04,   3.20054300e+04,   3.28688200e+04,\n",
       "          3.37322100e+04,   3.45956000e+04,   3.54589900e+04,\n",
       "          3.63223800e+04,   3.71857700e+04,   3.80491600e+04,\n",
       "          3.89125500e+04,   3.97759400e+04,   4.06393300e+04,\n",
       "          4.15027200e+04,   4.23661100e+04,   4.32295000e+04,\n",
       "          4.40928900e+04,   4.49562800e+04,   4.58196700e+04,\n",
       "          4.66830600e+04,   4.75464500e+04,   4.84098400e+04,\n",
       "          4.92732300e+04,   5.01366200e+04,   5.10000100e+04,\n",
       "          5.18634000e+04,   5.27267900e+04,   5.35901800e+04,\n",
       "          5.44535700e+04,   5.53169600e+04,   5.61803500e+04,\n",
       "          5.70437400e+04,   5.79071300e+04,   5.87705200e+04,\n",
       "          5.96339100e+04,   6.04973000e+04,   6.13606900e+04,\n",
       "          6.22240800e+04,   6.30874700e+04,   6.39508600e+04,\n",
       "          6.48142500e+04,   6.56776400e+04,   6.65410300e+04,\n",
       "          6.74044200e+04,   6.82678100e+04,   6.91312000e+04,\n",
       "          6.99945900e+04,   7.08579800e+04,   7.17213700e+04,\n",
       "          7.25847600e+04,   7.34481500e+04,   7.43115400e+04,\n",
       "          7.51749300e+04,   7.60383200e+04,   7.69017100e+04,\n",
       "          7.77651000e+04,   7.86284900e+04,   7.94918800e+04,\n",
       "          8.03552700e+04,   8.12186600e+04,   8.20820500e+04,\n",
       "          8.29454400e+04,   8.38088300e+04,   8.46722200e+04,\n",
       "          8.55356100e+04,   8.63990000e+04]),\n",
       " <a list of 100 Patch objects>)"
      ]
     },
     "execution_count": 47,
     "metadata": {},
     "output_type": "execute_result"
    },
    {
     "data": {
      "image/png": "[encoded data removed]",
      "text/plain": [
       "<matplotlib.figure.Figure at 0x11afabf90>"
      ]
     },
     "metadata": {},
     "output_type": "display_data"
    }
   ],
   "source": [
    "plt.hist(data['tripduration'],bins = 100)"
   ]
  },
  {
   "cell_type": "code",
   "execution_count": 45,
   "metadata": {
    "collapsed": false
   },
   "outputs": [
    {
     "data": {
      "text/plain": [
       "166"
      ]
     },
     "execution_count": 45,
     "metadata": {},
     "output_type": "execute_result"
    }
   ],
   "source": [
    "10000/60"
   ]
  },
  {
   "cell_type": "code",
   "execution_count": 46,
   "metadata": {
    "collapsed": false
   },
   "outputs": [
    {
     "data": {
      "text/plain": [
       "2"
      ]
     },
     "execution_count": 46,
     "metadata": {},
     "output_type": "execute_result"
    }
   ],
   "source": [
    "166/60"
   ]
  },
  {
   "cell_type": "code",
   "execution_count": 49,
   "metadata": {
    "collapsed": false
   },
   "outputs": [
    {
     "data": {
      "text/plain": [
       "(0, 1800)"
      ]
     },
     "execution_count": 49,
     "metadata": {},
     "output_type": "execute_result"
    },
    {
     "data": {
      "image/png": "[encoded data removed]",
      "text/plain": [
       "<matplotlib.figure.Figure at 0x11c4ba4d0>"
      ]
     },
     "metadata": {},
     "output_type": "display_data"
    }
   ],
   "source": [
    "#want to limit the graph size to exclude some outliners\n",
    "plt.hist(data['tripduration'],bins = 100)\n",
    "plt.xlim(0,1800)"
   ]
  },
  {
   "cell_type": "code",
   "execution_count": 50,
   "metadata": {
    "collapsed": false
   },
   "outputs": [
    {
     "data": {
      "text/plain": [
       "(array([  4.84321500e+06,   2.29507500e+06,   4.15107000e+05,\n",
       "          1.29172000e+05,   5.97390000e+04,   3.51950000e+04,\n",
       "          2.22590000e+04,   1.51910000e+04,   1.03980000e+04,\n",
       "          7.24800000e+03,   5.37500000e+03,   4.15900000e+03,\n",
       "          3.13500000e+03,   2.36100000e+03,   1.96400000e+03,\n",
       "          1.67000000e+03,   1.31800000e+03,   1.11600000e+03,\n",
       "          9.26000000e+02,   7.65000000e+02,   6.08000000e+02,\n",
       "          5.99000000e+02,   5.10000000e+02,   4.59000000e+02,\n",
       "          3.82000000e+02,   3.67000000e+02,   3.12000000e+02,\n",
       "          2.69000000e+02,   2.77000000e+02,   2.18000000e+02,\n",
       "          2.08000000e+02,   2.07000000e+02,   1.92000000e+02,\n",
       "          1.69000000e+02,   1.89000000e+02,   1.64000000e+02,\n",
       "          1.69000000e+02,   1.90000000e+02,   1.69000000e+02,\n",
       "          1.53000000e+02,   1.35000000e+02,   1.43000000e+02,\n",
       "          1.38000000e+02,   1.41000000e+02,   1.27000000e+02,\n",
       "          1.38000000e+02,   1.31000000e+02,   1.09000000e+02,\n",
       "          1.21000000e+02,   1.38000000e+02,   1.29000000e+02,\n",
       "          1.24000000e+02,   1.00000000e+02,   1.27000000e+02,\n",
       "          1.38000000e+02,   1.57000000e+02,   1.48000000e+02,\n",
       "          1.29000000e+02,   1.34000000e+02,   1.45000000e+02,\n",
       "          1.35000000e+02,   1.14000000e+02,   1.11000000e+02,\n",
       "          1.08000000e+02,   1.14000000e+02,   9.40000000e+01,\n",
       "          1.19000000e+02,   1.13000000e+02,   9.30000000e+01,\n",
       "          1.11000000e+02,   9.50000000e+01,   1.14000000e+02,\n",
       "          9.10000000e+01,   1.00000000e+02,   1.01000000e+02,\n",
       "          8.90000000e+01,   8.40000000e+01,   8.60000000e+01,\n",
       "          5.30000000e+01,   9.10000000e+01,   8.80000000e+01,\n",
       "          1.08000000e+02,   8.20000000e+01,   8.20000000e+01,\n",
       "          7.80000000e+01,   7.60000000e+01,   8.10000000e+01,\n",
       "          8.20000000e+01,   9.40000000e+01,   6.70000000e+01,\n",
       "          8.40000000e+01,   7.30000000e+01,   8.30000000e+01,\n",
       "          9.70000000e+01,   8.80000000e+01,   9.30000000e+01,\n",
       "          7.90000000e+01,   1.01000000e+02,   1.13000000e+02,\n",
       "          8.50000000e+01]),\n",
       " array([  6.00000000e+01,   9.23390000e+02,   1.78678000e+03,\n",
       "          2.65017000e+03,   3.51356000e+03,   4.37695000e+03,\n",
       "          5.24034000e+03,   6.10373000e+03,   6.96712000e+03,\n",
       "          7.83051000e+03,   8.69390000e+03,   9.55729000e+03,\n",
       "          1.04206800e+04,   1.12840700e+04,   1.21474600e+04,\n",
       "          1.30108500e+04,   1.38742400e+04,   1.47376300e+04,\n",
       "          1.56010200e+04,   1.64644100e+04,   1.73278000e+04,\n",
       "          1.81911900e+04,   1.90545800e+04,   1.99179700e+04,\n",
       "          2.07813600e+04,   2.16447500e+04,   2.25081400e+04,\n",
       "          2.33715300e+04,   2.42349200e+04,   2.50983100e+04,\n",
       "          2.59617000e+04,   2.68250900e+04,   2.76884800e+04,\n",
       "          2.85518700e+04,   2.94152600e+04,   3.02786500e+04,\n",
       "          3.11420400e+04,   3.20054300e+04,   3.28688200e+04,\n",
       "          3.37322100e+04,   3.45956000e+04,   3.54589900e+04,\n",
       "          3.63223800e+04,   3.71857700e+04,   3.80491600e+04,\n",
       "          3.89125500e+04,   3.97759400e+04,   4.06393300e+04,\n",
       "          4.15027200e+04,   4.23661100e+04,   4.32295000e+04,\n",
       "          4.40928900e+04,   4.49562800e+04,   4.58196700e+04,\n",
       "          4.66830600e+04,   4.75464500e+04,   4.84098400e+04,\n",
       "          4.92732300e+04,   5.01366200e+04,   5.10000100e+04,\n",
       "          5.18634000e+04,   5.27267900e+04,   5.35901800e+04,\n",
       "          5.44535700e+04,   5.53169600e+04,   5.61803500e+04,\n",
       "          5.70437400e+04,   5.79071300e+04,   5.87705200e+04,\n",
       "          5.96339100e+04,   6.04973000e+04,   6.13606900e+04,\n",
       "          6.22240800e+04,   6.30874700e+04,   6.39508600e+04,\n",
       "          6.48142500e+04,   6.56776400e+04,   6.65410300e+04,\n",
       "          6.74044200e+04,   6.82678100e+04,   6.91312000e+04,\n",
       "          6.99945900e+04,   7.08579800e+04,   7.17213700e+04,\n",
       "          7.25847600e+04,   7.34481500e+04,   7.43115400e+04,\n",
       "          7.51749300e+04,   7.60383200e+04,   7.69017100e+04,\n",
       "          7.77651000e+04,   7.86284900e+04,   7.94918800e+04,\n",
       "          8.03552700e+04,   8.12186600e+04,   8.20820500e+04,\n",
       "          8.29454400e+04,   8.38088300e+04,   8.46722200e+04,\n",
       "          8.55356100e+04,   8.63990000e+04]),\n",
       " <a list of 100 Patch objects>)"
      ]
     },
     "execution_count": 50,
     "metadata": {},
     "output_type": "execute_result"
    },
    {
     "data": {
      "image/png": "[encoded data removed]",
      "text/plain": [
       "<matplotlib.figure.Figure at 0x11cbdd750>"
      ]
     },
     "metadata": {},
     "output_type": "display_data"
    }
   ],
   "source": [
    "# now i want to limit the information in to plot hist\n",
    "plt.hist(data['tripduration'],bins = 100)"
   ]
  },
  {
   "cell_type": "code",
   "execution_count": 53,
   "metadata": {
    "collapsed": false
   },
   "outputs": [
    {
     "data": {
      "text/plain": [
       "0    316\n",
       "1     64\n",
       "2    433\n",
       "3    123\n",
       "4    852\n",
       "Name: tripduration, dtype: int64"
      ]
     },
     "execution_count": 53,
     "metadata": {},
     "output_type": "execute_result"
    }
   ],
   "source": [
    "data[(data['tripduration'] <=1800.00)]['tripduration'].head()"
   ]
  },
  {
   "cell_type": "code",
   "execution_count": 54,
   "metadata": {
    "collapsed": true
   },
   "outputs": [],
   "source": [
    "df1 = data[(data['tripduration'] <=1800.00)]['tripduration']"
   ]
  },
  {
   "cell_type": "code",
   "execution_count": 55,
   "metadata": {
    "collapsed": false
   },
   "outputs": [
    {
     "data": {
      "text/plain": [
       "0           316\n",
       "1            64\n",
       "2           433\n",
       "3           123\n",
       "4           852\n",
       "6          1094\n",
       "7          1020\n",
       "9           653\n",
       "10         1738\n",
       "12         1712\n",
       "13          996\n",
       "14          818\n",
       "16          730\n",
       "17         1292\n",
       "18         1511\n",
       "19         1512\n",
       "20         1125\n",
       "21          964\n",
       "22          972\n",
       "23          977\n",
       "26         1758\n",
       "27          730\n",
       "30         1117\n",
       "31          980\n",
       "32         1642\n",
       "35          423\n",
       "38          944\n",
       "39         1656\n",
       "40          736\n",
       "41          223\n",
       "           ... \n",
       "7867571     871\n",
       "7867572    1698\n",
       "7867573     522\n",
       "7867574    1320\n",
       "7867575    1335\n",
       "7867576    1707\n",
       "7867577     469\n",
       "7867578    1254\n",
       "7867579    1178\n",
       "7867580     404\n",
       "7867581    1652\n",
       "7867582    1322\n",
       "7867583    1342\n",
       "7867584     423\n",
       "7867585     117\n",
       "7867586     372\n",
       "7867587     381\n",
       "7867588     282\n",
       "7867589     253\n",
       "7867590     609\n",
       "7867591    1540\n",
       "7867592    1613\n",
       "7867593     721\n",
       "7867594     704\n",
       "7867595     590\n",
       "7867596     484\n",
       "7867597     512\n",
       "7867598     744\n",
       "7867599     615\n",
       "7867600     508\n",
       "Name: tripduration, dtype: int64"
      ]
     },
     "execution_count": 55,
     "metadata": {},
     "output_type": "execute_result"
    }
   ],
   "source": [
    "df1"
   ]
  },
  {
   "cell_type": "code",
   "execution_count": 140,
   "metadata": {
    "collapsed": false
   },
   "outputs": [
    {
     "data": {
      "text/plain": [
       "(array([  13044.,   15049.,   25822.,   37343.,   49667.,   67006.,\n",
       "          76123.,   93060.,   97456.,  105284.,  118877.,  118166.,\n",
       "         130365.,  125873.,  127730.,  135669.,  129926.,  136540.,\n",
       "         128147.,  127271.,  133963.,  125199.,  130722.,  122180.,\n",
       "         120388.,  125586.,  115859.,  120413.,  111503.,  109629.,\n",
       "         113356.,  104342.,  108486.,   99805.,   97779.,  101538.,\n",
       "          93661.,   96684.,   89465.,   87536.,   90553.,   83489.,\n",
       "          86743.,   80276.,   79109.,   82147.,   75975.,   78639.,\n",
       "          73350.,   71844.,   75019.,   68821.,   71854.,   66347.,\n",
       "          65063.,   67860.,   62754.,   65043.,   60607.,   59475.,\n",
       "          62269.,   57813.,   59945.,   55568.,   55182.,   56438.,\n",
       "          52525.,   54895.,   50765.,   50007.,   52298.,   48735.,\n",
       "          50107.,   46550.,   45585.,   47460.,   43691.,   45364.,\n",
       "          41547.,   40744.,   42132.,   38598.,   40008.,   36556.,\n",
       "          35848.,   36040.,   33133.,   34042.,   30984.,   30074.,\n",
       "          30787.,   27842.,   28562.,   25903.,   24740.,   25123.,\n",
       "          22122.,   22353.,   19934.,   20090.]),\n",
       " array([   60. ,    77.4,    94.8,   112.2,   129.6,   147. ,   164.4,\n",
       "          181.8,   199.2,   216.6,   234. ,   251.4,   268.8,   286.2,\n",
       "          303.6,   321. ,   338.4,   355.8,   373.2,   390.6,   408. ,\n",
       "          425.4,   442.8,   460.2,   477.6,   495. ,   512.4,   529.8,\n",
       "          547.2,   564.6,   582. ,   599.4,   616.8,   634.2,   651.6,\n",
       "          669. ,   686.4,   703.8,   721.2,   738.6,   756. ,   773.4,\n",
       "          790.8,   808.2,   825.6,   843. ,   860.4,   877.8,   895.2,\n",
       "          912.6,   930. ,   947.4,   964.8,   982.2,   999.6,  1017. ,\n",
       "         1034.4,  1051.8,  1069.2,  1086.6,  1104. ,  1121.4,  1138.8,\n",
       "         1156.2,  1173.6,  1191. ,  1208.4,  1225.8,  1243.2,  1260.6,\n",
       "         1278. ,  1295.4,  1312.8,  1330.2,  1347.6,  1365. ,  1382.4,\n",
       "         1399.8,  1417.2,  1434.6,  1452. ,  1469.4,  1486.8,  1504.2,\n",
       "         1521.6,  1539. ,  1556.4,  1573.8,  1591.2,  1608.6,  1626. ,\n",
       "         1643.4,  1660.8,  1678.2,  1695.6,  1713. ,  1730.4,  1747.8,\n",
       "         1765.2,  1782.6,  1800. ]),\n",
       " <a list of 100 Patch objects>)"
      ]
     },
     "execution_count": 140,
     "metadata": {},
     "output_type": "execute_result"
    },
    {
     "data": {
      "image/png": "[encoded data removed]",
      "text/plain": [
       "<matplotlib.figure.Figure at 0x11d7cd310>"
      ]
     },
     "metadata": {},
     "output_type": "display_data"
    }
   ],
   "source": [
    "plt.hist(data[(data['tripduration'] <=1800.00)]['tripduration'],bins = 100)"
   ]
  },
  {
   "cell_type": "code",
   "execution_count": 141,
   "metadata": {
    "collapsed": false
   },
   "outputs": [
    {
     "data": {
      "text/plain": [
       "(array([  13044.,   15049.,   25822.,   37343.,   49667.,   67006.,\n",
       "          76123.,   93060.,   97456.,  105284.,  118877.,  118166.,\n",
       "         130365.,  125873.,  127730.,  135669.,  129926.,  136540.,\n",
       "         128147.,  127271.,  133963.,  125199.,  130722.,  122180.,\n",
       "         120388.,  125586.,  115859.,  120413.,  111503.,  109629.,\n",
       "         113356.,  104342.,  108486.,   99805.,   97779.,  101538.,\n",
       "          93661.,   96684.,   89465.,   87536.,   90553.,   83489.,\n",
       "          86743.,   80276.,   79109.,   82147.,   75975.,   78639.,\n",
       "          73350.,   71844.,   75019.,   68821.,   71854.,   66347.,\n",
       "          65063.,   67860.,   62754.,   65043.,   60607.,   59475.,\n",
       "          62269.,   57813.,   59945.,   55568.,   55182.,   56438.,\n",
       "          52525.,   54895.,   50765.,   50007.,   52298.,   48735.,\n",
       "          50107.,   46550.,   45585.,   47460.,   43691.,   45364.,\n",
       "          41547.,   40744.,   42132.,   38598.,   40008.,   36556.,\n",
       "          35848.,   36040.,   33133.,   34042.,   30984.,   30074.,\n",
       "          30787.,   27842.,   28562.,   25903.,   24740.,   25123.,\n",
       "          22122.,   22353.,   19934.,   20090.]),\n",
       " array([   60. ,    77.4,    94.8,   112.2,   129.6,   147. ,   164.4,\n",
       "          181.8,   199.2,   216.6,   234. ,   251.4,   268.8,   286.2,\n",
       "          303.6,   321. ,   338.4,   355.8,   373.2,   390.6,   408. ,\n",
       "          425.4,   442.8,   460.2,   477.6,   495. ,   512.4,   529.8,\n",
       "          547.2,   564.6,   582. ,   599.4,   616.8,   634.2,   651.6,\n",
       "          669. ,   686.4,   703.8,   721.2,   738.6,   756. ,   773.4,\n",
       "          790.8,   808.2,   825.6,   843. ,   860.4,   877.8,   895.2,\n",
       "          912.6,   930. ,   947.4,   964.8,   982.2,   999.6,  1017. ,\n",
       "         1034.4,  1051.8,  1069.2,  1086.6,  1104. ,  1121.4,  1138.8,\n",
       "         1156.2,  1173.6,  1191. ,  1208.4,  1225.8,  1243.2,  1260.6,\n",
       "         1278. ,  1295.4,  1312.8,  1330.2,  1347.6,  1365. ,  1382.4,\n",
       "         1399.8,  1417.2,  1434.6,  1452. ,  1469.4,  1486.8,  1504.2,\n",
       "         1521.6,  1539. ,  1556.4,  1573.8,  1591.2,  1608.6,  1626. ,\n",
       "         1643.4,  1660.8,  1678.2,  1695.6,  1713. ,  1730.4,  1747.8,\n",
       "         1765.2,  1782.6,  1800. ]),\n",
       " <a list of 100 Patch objects>)"
      ]
     },
     "execution_count": 141,
     "metadata": {},
     "output_type": "execute_result"
    },
    {
     "data": {
      "image/png": "[encoded data removed]",
      "text/plain": [
       "<matplotlib.figure.Figure at 0x122307c90>"
      ]
     },
     "metadata": {},
     "output_type": "display_data"
    }
   ],
   "source": [
    "plt.hist((df1),bins=100)"
   ]
  },
  {
   "cell_type": "code",
   "execution_count": 142,
   "metadata": {
    "collapsed": false
   },
   "outputs": [],
   "source": [
    "# plt.hist(data[(data['tripduration'] <=1800.00)]['tripduration'],bins = 100)\n",
    "under_30_mins = data[(data['tripduration'] <= 1800.0)]['tripduration']\n",
    "over_30_mins = data[(data['tripduration'] > 1800.0) & (data['tripduration'] <= 3600.0)]['tripduration']"
   ]
  },
  {
   "cell_type": "code",
   "execution_count": 143,
   "metadata": {
    "collapsed": false
   },
   "outputs": [
    {
     "data": {
      "text/plain": [
       "(array([  9737.,  10499.,  10192.,   9675.,   9550.,   9408.,   8972.,\n",
       "          8630.,   8321.,   8035.,   8019.,   7719.,   7458.,   7361.,\n",
       "          7210.,   7025.,   6777.,   6613.,   6559.,   6217.,   6027.,\n",
       "          6056.,   5836.,   5767.,   5638.,   5492.,   5341.,   5263.,\n",
       "          5077.,   5047.,   4929.,   4910.,   4790.,   4699.,   4658.,\n",
       "          4531.,   4509.,   4307.,   4228.,   4057.,   4151.,   4079.,\n",
       "          4021.,   3924.,   3818.,   3817.,   3681.,   3580.,   3675.,\n",
       "          3517.,   3416.,   3407.,   3317.,   3315.,   3260.,   3228.,\n",
       "          3094.,   3125.,   2961.,   3039.,   3002.,   2966.,   2967.,\n",
       "          2820.,   2794.,   2810.,   2712.,   2657.,   2672.,   2612.,\n",
       "          2567.,   2594.,   2491.,   2553.,   2377.,   2494.,   2502.,\n",
       "          2287.,   2347.,   2312.,   2284.,   2255.,   2310.,   2171.,\n",
       "          2194.,   2281.,   2069.,   2201.,   2076.,   2112.,   2032.,\n",
       "          2059.,   1994.,   2017.,   1904.,   1898.,   1954.,   1866.,\n",
       "          1899.,   1814.,   1948.,   1880.,   1851.,   1701.,   1859.,\n",
       "          1768.,   1752.,   1686.,   1782.,   1716.,   1716.,   1710.,\n",
       "          1705.,   1665.,   1694.,   1625.,   1547.,   1550.,   1549.,\n",
       "          1560.,   1517.,   1558.,   1514.,   1571.,   1510.,   1554.,\n",
       "          1438.,   1441.,   1539.,   1418.,   1423.,   1443.,   1379.,\n",
       "          1380.,   1343.,   1363.,   1359.,   1348.,   1289.,   1320.,\n",
       "          1286.,   1343.,   1282.,   1278.,   1258.,   1230.,   1254.,\n",
       "          1282.,   1236.,   1250.,   1210.,   1216.,   1200.,   1199.,\n",
       "          1181.,   1137.,   1156.,   1082.,   1097.,   1159.,   1181.,\n",
       "          1074.,   1051.,   1078.,   1070.,   1057.,   1018.,   1031.,\n",
       "           968.,   1019.,    943.,   1050.,   1033.,    983.,    990.,\n",
       "           970.,    928.,    891.,    871.,    870.,     77.,      0.,\n",
       "             0.,      0.,      0.,      0.,      0.,      0.,      0.]),\n",
       " array([1800, 1810, 1820, 1830, 1840, 1850, 1860, 1870, 1880, 1890, 1900,\n",
       "        1910, 1920, 1930, 1940, 1950, 1960, 1970, 1980, 1990, 2000, 2010,\n",
       "        2020, 2030, 2040, 2050, 2060, 2070, 2080, 2090, 2100, 2110, 2120,\n",
       "        2130, 2140, 2150, 2160, 2170, 2180, 2190, 2200, 2210, 2220, 2230,\n",
       "        2240, 2250, 2260, 2270, 2280, 2290, 2300, 2310, 2320, 2330, 2340,\n",
       "        2350, 2360, 2370, 2380, 2390, 2400, 2410, 2420, 2430, 2440, 2450,\n",
       "        2460, 2470, 2480, 2490, 2500, 2510, 2520, 2530, 2540, 2550, 2560,\n",
       "        2570, 2580, 2590, 2600, 2610, 2620, 2630, 2640, 2650, 2660, 2670,\n",
       "        2680, 2690, 2700, 2710, 2720, 2730, 2740, 2750, 2760, 2770, 2780,\n",
       "        2790, 2800, 2810, 2820, 2830, 2840, 2850, 2860, 2870, 2880, 2890,\n",
       "        2900, 2910, 2920, 2930, 2940, 2950, 2960, 2970, 2980, 2990, 3000,\n",
       "        3010, 3020, 3030, 3040, 3050, 3060, 3070, 3080, 3090, 3100, 3110,\n",
       "        3120, 3130, 3140, 3150, 3160, 3170, 3180, 3190, 3200, 3210, 3220,\n",
       "        3230, 3240, 3250, 3260, 3270, 3280, 3290, 3300, 3310, 3320, 3330,\n",
       "        3340, 3350, 3360, 3370, 3380, 3390, 3400, 3410, 3420, 3430, 3440,\n",
       "        3450, 3460, 3470, 3480, 3490, 3500, 3510, 3520, 3530, 3540, 3550,\n",
       "        3560, 3570, 3580, 3590, 3600, 3610, 3620, 3630, 3640, 3650, 3660,\n",
       "        3670, 3680, 3690]),\n",
       " <a list of 189 Patch objects>)"
      ]
     },
     "execution_count": 143,
     "metadata": {},
     "output_type": "execute_result"
    },
    {
     "data": {
      "image/png": "[encoded data removed]",
      "text/plain": [
       "<matplotlib.figure.Figure at 0x120982d90>"
      ]
     },
     "metadata": {},
     "output_type": "display_data"
    }
   ],
   "source": [
    "plt.hist(under_30_mins, bins=range(0, 1900, 10))\n",
    "plt.hist(over_30_mins, bins=range(1800, 3700, 10) , color='r')"
   ]
  },
  {
   "cell_type": "code",
   "execution_count": 144,
   "metadata": {
    "collapsed": false
   },
   "outputs": [
    {
     "data": {
      "text/html": [
       "<div>\n",
       "<table border=\"1\" class=\"dataframe\">\n",
       "  <thead>\n",
       "    <tr style=\"text-align: right;\">\n",
       "      <th></th>\n",
       "      <th>bikeid</th>\n",
       "      <th>birthday</th>\n",
       "      <th>birthyear</th>\n",
       "      <th>from_station_id</th>\n",
       "      <th>from_station_name</th>\n",
       "      <th>gender</th>\n",
       "      <th>starttime</th>\n",
       "      <th>stoptime</th>\n",
       "      <th>to_station_id</th>\n",
       "      <th>to_station_name</th>\n",
       "      <th>trip_id</th>\n",
       "      <th>tripduration</th>\n",
       "      <th>usertype</th>\n",
       "    </tr>\n",
       "  </thead>\n",
       "  <tbody>\n",
       "    <tr>\n",
       "      <th>0</th>\n",
       "      <td>480</td>\n",
       "      <td>NaN</td>\n",
       "      <td>NaN</td>\n",
       "      <td>85</td>\n",
       "      <td>Michigan Ave &amp; Oak St</td>\n",
       "      <td>NaN</td>\n",
       "      <td>2013-06-27 12:11</td>\n",
       "      <td>2013-06-27 12:16</td>\n",
       "      <td>28</td>\n",
       "      <td>Larrabee St &amp; Menomonee St</td>\n",
       "      <td>4118</td>\n",
       "      <td>316</td>\n",
       "      <td>Customer</td>\n",
       "    </tr>\n",
       "    <tr>\n",
       "      <th>1</th>\n",
       "      <td>77</td>\n",
       "      <td>NaN</td>\n",
       "      <td>NaN</td>\n",
       "      <td>32</td>\n",
       "      <td>Racine Ave &amp; Congress Pkwy</td>\n",
       "      <td>NaN</td>\n",
       "      <td>2013-06-27 14:44</td>\n",
       "      <td>2013-06-27 14:45</td>\n",
       "      <td>32</td>\n",
       "      <td>Racine Ave &amp; Congress Pkwy</td>\n",
       "      <td>4275</td>\n",
       "      <td>64</td>\n",
       "      <td>Customer</td>\n",
       "    </tr>\n",
       "    <tr>\n",
       "      <th>2</th>\n",
       "      <td>77</td>\n",
       "      <td>NaN</td>\n",
       "      <td>NaN</td>\n",
       "      <td>32</td>\n",
       "      <td>Racine Ave &amp; Congress Pkwy</td>\n",
       "      <td>NaN</td>\n",
       "      <td>2013-06-27 14:58</td>\n",
       "      <td>2013-06-27 15:05</td>\n",
       "      <td>19</td>\n",
       "      <td>Loomis St &amp; Taylor St</td>\n",
       "      <td>4291</td>\n",
       "      <td>433</td>\n",
       "      <td>Customer</td>\n",
       "    </tr>\n",
       "    <tr>\n",
       "      <th>3</th>\n",
       "      <td>77</td>\n",
       "      <td>NaN</td>\n",
       "      <td>NaN</td>\n",
       "      <td>19</td>\n",
       "      <td>Loomis St &amp; Taylor St</td>\n",
       "      <td>NaN</td>\n",
       "      <td>2013-06-27 15:06</td>\n",
       "      <td>2013-06-27 15:09</td>\n",
       "      <td>19</td>\n",
       "      <td>Loomis St &amp; Taylor St</td>\n",
       "      <td>4316</td>\n",
       "      <td>123</td>\n",
       "      <td>Customer</td>\n",
       "    </tr>\n",
       "    <tr>\n",
       "      <th>4</th>\n",
       "      <td>77</td>\n",
       "      <td>NaN</td>\n",
       "      <td>NaN</td>\n",
       "      <td>19</td>\n",
       "      <td>Loomis St &amp; Taylor St</td>\n",
       "      <td>NaN</td>\n",
       "      <td>2013-06-27 15:13</td>\n",
       "      <td>2013-06-27 15:27</td>\n",
       "      <td>55</td>\n",
       "      <td>Halsted St &amp; James M Rochford St</td>\n",
       "      <td>4342</td>\n",
       "      <td>852</td>\n",
       "      <td>Customer</td>\n",
       "    </tr>\n",
       "  </tbody>\n",
       "</table>\n",
       "</div>"
      ],
      "text/plain": [
       "   bikeid  birthday  birthyear  from_station_id           from_station_name  \\\n",
       "0     480       NaN        NaN               85       Michigan Ave & Oak St   \n",
       "1      77       NaN        NaN               32  Racine Ave & Congress Pkwy   \n",
       "2      77       NaN        NaN               32  Racine Ave & Congress Pkwy   \n",
       "3      77       NaN        NaN               19       Loomis St & Taylor St   \n",
       "4      77       NaN        NaN               19       Loomis St & Taylor St   \n",
       "\n",
       "  gender         starttime          stoptime  to_station_id  \\\n",
       "0    NaN  2013-06-27 12:11  2013-06-27 12:16             28   \n",
       "1    NaN  2013-06-27 14:44  2013-06-27 14:45             32   \n",
       "2    NaN  2013-06-27 14:58  2013-06-27 15:05             19   \n",
       "3    NaN  2013-06-27 15:06  2013-06-27 15:09             19   \n",
       "4    NaN  2013-06-27 15:13  2013-06-27 15:27             55   \n",
       "\n",
       "                    to_station_name  trip_id  tripduration  usertype  \n",
       "0        Larrabee St & Menomonee St     4118           316  Customer  \n",
       "1        Racine Ave & Congress Pkwy     4275            64  Customer  \n",
       "2             Loomis St & Taylor St     4291           433  Customer  \n",
       "3             Loomis St & Taylor St     4316           123  Customer  \n",
       "4  Halsted St & James M Rochford St     4342           852  Customer  "
      ]
     },
     "execution_count": 144,
     "metadata": {},
     "output_type": "execute_result"
    }
   ],
   "source": [
    "data.head()"
   ]
  },
  {
   "cell_type": "code",
   "execution_count": 145,
   "metadata": {
    "collapsed": false
   },
   "outputs": [
    {
     "data": {
      "text/plain": [
       "Subscriber    5466758\n",
       "Customer      2400700\n",
       "Dependent         143\n",
       "Name: usertype, dtype: int64"
      ]
     },
     "execution_count": 145,
     "metadata": {},
     "output_type": "execute_result"
    }
   ],
   "source": [
    "data['usertype'].value_counts()"
   ]
  },
  {
   "cell_type": "code",
   "execution_count": 146,
   "metadata": {
    "collapsed": true
   },
   "outputs": [],
   "source": [
    "#copied the database\n",
    "no_dependents = data.copy()"
   ]
  },
  {
   "cell_type": "code",
   "execution_count": 147,
   "metadata": {
    "collapsed": false
   },
   "outputs": [
    {
     "name": "stdout",
     "output_type": "stream",
     "text": [
      "bikeid               7867458\n",
      "birthday              402909\n",
      "birthyear            5063774\n",
      "from_station_id      7867458\n",
      "from_station_name    7867458\n",
      "gender               5466497\n",
      "starttime            7867458\n",
      "stoptime             7867458\n",
      "to_station_id        7867458\n",
      "to_station_name      7867458\n",
      "trip_id              7867458\n",
      "tripduration         7867458\n",
      "usertype             7867458\n",
      "dtype: int64\n"
     ]
    }
   ],
   "source": [
    "\n",
    "#removing the inconsequential usertypes = dependents\n",
    "no_dependents = no_dependents[(no_dependents['usertype'] !='Dependent')]\n",
    "print no_dependents.count()"
   ]
  },
  {
   "cell_type": "code",
   "execution_count": 148,
   "metadata": {
    "collapsed": false
   },
   "outputs": [
    {
     "data": {
      "text/plain": [
       "Subscriber    5466758\n",
       "Customer      2400700\n",
       "Name: usertype, dtype: int64"
      ]
     },
     "execution_count": 148,
     "metadata": {},
     "output_type": "execute_result"
    }
   ],
   "source": [
    "no_dependents['usertype'].value_counts()"
   ]
  },
  {
   "cell_type": "code",
   "execution_count": 149,
   "metadata": {
    "collapsed": false
   },
   "outputs": [],
   "source": [
    "import math\n",
    "no_dependents['minutes']= no_dependents['tripduration'].apply(lambda x:math.floor(x/60.0))"
   ]
  },
  {
   "cell_type": "code",
   "execution_count": 150,
   "metadata": {
    "collapsed": false
   },
   "outputs": [
    {
     "data": {
      "text/plain": [
       "count    7.867458e+06\n",
       "mean     1.676345e+01\n",
       "std      3.438507e+01\n",
       "min      1.000000e+00\n",
       "25%      7.000000e+00\n",
       "50%      1.200000e+01\n",
       "75%      2.000000e+01\n",
       "max      1.439000e+03\n",
       "Name: minutes, dtype: float64"
      ]
     },
     "execution_count": 150,
     "metadata": {},
     "output_type": "execute_result"
    }
   ],
   "source": [
    "no_dependents['minutes'].describe()"
   ]
  },
  {
   "cell_type": "code",
   "execution_count": 155,
   "metadata": {
    "collapsed": false
   },
   "outputs": [
    {
     "data": {
      "text/html": [
       "<div>\n",
       "<table border=\"1\" class=\"dataframe\">\n",
       "  <thead>\n",
       "    <tr style=\"text-align: right;\">\n",
       "      <th></th>\n",
       "      <th>bikeid</th>\n",
       "      <th>birthday</th>\n",
       "      <th>birthyear</th>\n",
       "      <th>from_station_id</th>\n",
       "      <th>from_station_name</th>\n",
       "      <th>gender</th>\n",
       "      <th>starttime</th>\n",
       "      <th>stoptime</th>\n",
       "      <th>to_station_id</th>\n",
       "      <th>to_station_name</th>\n",
       "      <th>trip_id</th>\n",
       "      <th>tripduration</th>\n",
       "      <th>usertype</th>\n",
       "      <th>minutes</th>\n",
       "      <th>Customer</th>\n",
       "      <th>Subscriber</th>\n",
       "    </tr>\n",
       "  </thead>\n",
       "  <tbody>\n",
       "    <tr>\n",
       "      <th>0</th>\n",
       "      <td>480</td>\n",
       "      <td>NaN</td>\n",
       "      <td>NaN</td>\n",
       "      <td>85</td>\n",
       "      <td>Michigan Ave &amp; Oak St</td>\n",
       "      <td>NaN</td>\n",
       "      <td>2013-06-27 12:11</td>\n",
       "      <td>2013-06-27 12:16</td>\n",
       "      <td>28</td>\n",
       "      <td>Larrabee St &amp; Menomonee St</td>\n",
       "      <td>4118</td>\n",
       "      <td>316</td>\n",
       "      <td>Customer</td>\n",
       "      <td>5.0</td>\n",
       "      <td>1.0</td>\n",
       "      <td>0.0</td>\n",
       "    </tr>\n",
       "    <tr>\n",
       "      <th>1</th>\n",
       "      <td>77</td>\n",
       "      <td>NaN</td>\n",
       "      <td>NaN</td>\n",
       "      <td>32</td>\n",
       "      <td>Racine Ave &amp; Congress Pkwy</td>\n",
       "      <td>NaN</td>\n",
       "      <td>2013-06-27 14:44</td>\n",
       "      <td>2013-06-27 14:45</td>\n",
       "      <td>32</td>\n",
       "      <td>Racine Ave &amp; Congress Pkwy</td>\n",
       "      <td>4275</td>\n",
       "      <td>64</td>\n",
       "      <td>Customer</td>\n",
       "      <td>1.0</td>\n",
       "      <td>1.0</td>\n",
       "      <td>0.0</td>\n",
       "    </tr>\n",
       "    <tr>\n",
       "      <th>2</th>\n",
       "      <td>77</td>\n",
       "      <td>NaN</td>\n",
       "      <td>NaN</td>\n",
       "      <td>32</td>\n",
       "      <td>Racine Ave &amp; Congress Pkwy</td>\n",
       "      <td>NaN</td>\n",
       "      <td>2013-06-27 14:58</td>\n",
       "      <td>2013-06-27 15:05</td>\n",
       "      <td>19</td>\n",
       "      <td>Loomis St &amp; Taylor St</td>\n",
       "      <td>4291</td>\n",
       "      <td>433</td>\n",
       "      <td>Customer</td>\n",
       "      <td>7.0</td>\n",
       "      <td>1.0</td>\n",
       "      <td>0.0</td>\n",
       "    </tr>\n",
       "    <tr>\n",
       "      <th>3</th>\n",
       "      <td>77</td>\n",
       "      <td>NaN</td>\n",
       "      <td>NaN</td>\n",
       "      <td>19</td>\n",
       "      <td>Loomis St &amp; Taylor St</td>\n",
       "      <td>NaN</td>\n",
       "      <td>2013-06-27 15:06</td>\n",
       "      <td>2013-06-27 15:09</td>\n",
       "      <td>19</td>\n",
       "      <td>Loomis St &amp; Taylor St</td>\n",
       "      <td>4316</td>\n",
       "      <td>123</td>\n",
       "      <td>Customer</td>\n",
       "      <td>2.0</td>\n",
       "      <td>1.0</td>\n",
       "      <td>0.0</td>\n",
       "    </tr>\n",
       "    <tr>\n",
       "      <th>4</th>\n",
       "      <td>77</td>\n",
       "      <td>NaN</td>\n",
       "      <td>NaN</td>\n",
       "      <td>19</td>\n",
       "      <td>Loomis St &amp; Taylor St</td>\n",
       "      <td>NaN</td>\n",
       "      <td>2013-06-27 15:13</td>\n",
       "      <td>2013-06-27 15:27</td>\n",
       "      <td>55</td>\n",
       "      <td>Halsted St &amp; James M Rochford St</td>\n",
       "      <td>4342</td>\n",
       "      <td>852</td>\n",
       "      <td>Customer</td>\n",
       "      <td>14.0</td>\n",
       "      <td>1.0</td>\n",
       "      <td>0.0</td>\n",
       "    </tr>\n",
       "  </tbody>\n",
       "</table>\n",
       "</div>"
      ],
      "text/plain": [
       "   bikeid  birthday  birthyear  from_station_id           from_station_name  \\\n",
       "0     480       NaN        NaN               85       Michigan Ave & Oak St   \n",
       "1      77       NaN        NaN               32  Racine Ave & Congress Pkwy   \n",
       "2      77       NaN        NaN               32  Racine Ave & Congress Pkwy   \n",
       "3      77       NaN        NaN               19       Loomis St & Taylor St   \n",
       "4      77       NaN        NaN               19       Loomis St & Taylor St   \n",
       "\n",
       "  gender         starttime          stoptime  to_station_id  \\\n",
       "0    NaN  2013-06-27 12:11  2013-06-27 12:16             28   \n",
       "1    NaN  2013-06-27 14:44  2013-06-27 14:45             32   \n",
       "2    NaN  2013-06-27 14:58  2013-06-27 15:05             19   \n",
       "3    NaN  2013-06-27 15:06  2013-06-27 15:09             19   \n",
       "4    NaN  2013-06-27 15:13  2013-06-27 15:27             55   \n",
       "\n",
       "                    to_station_name  trip_id  tripduration  usertype  minutes  \\\n",
       "0        Larrabee St & Menomonee St     4118           316  Customer      5.0   \n",
       "1        Racine Ave & Congress Pkwy     4275            64  Customer      1.0   \n",
       "2             Loomis St & Taylor St     4291           433  Customer      7.0   \n",
       "3             Loomis St & Taylor St     4316           123  Customer      2.0   \n",
       "4  Halsted St & James M Rochford St     4342           852  Customer     14.0   \n",
       "\n",
       "   Customer  Subscriber  \n",
       "0       1.0         0.0  \n",
       "1       1.0         0.0  \n",
       "2       1.0         0.0  \n",
       "3       1.0         0.0  \n",
       "4       1.0         0.0  "
      ]
     },
     "execution_count": 155,
     "metadata": {},
     "output_type": "execute_result"
    }
   ],
   "source": [
    "no_dependents.head()"
   ]
  },
  {
   "cell_type": "code",
   "execution_count": 152,
   "metadata": {
    "collapsed": false
   },
   "outputs": [
    {
     "data": {
      "text/html": [
       "<div>\n",
       "<table border=\"1\" class=\"dataframe\">\n",
       "  <thead>\n",
       "    <tr style=\"text-align: right;\">\n",
       "      <th></th>\n",
       "      <th>Customer</th>\n",
       "      <th>Subscriber</th>\n",
       "    </tr>\n",
       "  </thead>\n",
       "  <tbody>\n",
       "    <tr>\n",
       "      <th>0</th>\n",
       "      <td>1.0</td>\n",
       "      <td>0.0</td>\n",
       "    </tr>\n",
       "    <tr>\n",
       "      <th>1</th>\n",
       "      <td>1.0</td>\n",
       "      <td>0.0</td>\n",
       "    </tr>\n",
       "    <tr>\n",
       "      <th>2</th>\n",
       "      <td>1.0</td>\n",
       "      <td>0.0</td>\n",
       "    </tr>\n",
       "    <tr>\n",
       "      <th>3</th>\n",
       "      <td>1.0</td>\n",
       "      <td>0.0</td>\n",
       "    </tr>\n",
       "    <tr>\n",
       "      <th>4</th>\n",
       "      <td>1.0</td>\n",
       "      <td>0.0</td>\n",
       "    </tr>\n",
       "  </tbody>\n",
       "</table>\n",
       "</div>"
      ],
      "text/plain": [
       "   Customer  Subscriber\n",
       "0       1.0         0.0\n",
       "1       1.0         0.0\n",
       "2       1.0         0.0\n",
       "3       1.0         0.0\n",
       "4       1.0         0.0"
      ]
     },
     "execution_count": 152,
     "metadata": {},
     "output_type": "execute_result"
    }
   ],
   "source": [
    "# so i want to group so making dummie variables for user type\n",
    "\n",
    "usertypes = pd.get_dummies(no_dependents['usertype'])\n",
    "usertypes.head()"
   ]
  },
  {
   "cell_type": "code",
   "execution_count": 153,
   "metadata": {
    "collapsed": false
   },
   "outputs": [
    {
     "name": "stdout",
     "output_type": "stream",
     "text": [
      "         bikeid  birthday  birthyear  from_station_id  \\\n",
      "0           480       NaN        NaN               85   \n",
      "1            77       NaN        NaN               32   \n",
      "2            77       NaN        NaN               32   \n",
      "3            77       NaN        NaN               19   \n",
      "4            77       NaN        NaN               19   \n",
      "5            27       NaN        NaN              340   \n",
      "6           418       NaN        NaN               37   \n",
      "7           170       NaN        NaN               90   \n",
      "8           353       NaN        NaN               37   \n",
      "9           369       NaN        NaN               51   \n",
      "10          658       NaN        NaN               44   \n",
      "11          533       NaN        NaN               24   \n",
      "12          522       NaN        NaN               20   \n",
      "13          477       NaN        NaN               52   \n",
      "14          525       NaN        NaN               52   \n",
      "15          242       NaN        NaN               44   \n",
      "16          240       NaN        NaN               69   \n",
      "17          381       NaN        NaN               61   \n",
      "18          343       NaN        NaN               85   \n",
      "19          220       NaN        NaN               85   \n",
      "20          157       NaN        NaN               61   \n",
      "21          239       NaN        NaN               61   \n",
      "22          334       NaN        NaN               61   \n",
      "23          362       NaN        NaN               61   \n",
      "24          221       NaN        NaN               85   \n",
      "25          409       NaN        NaN               85   \n",
      "26          222       NaN        NaN               85   \n",
      "27          257       NaN        NaN               17   \n",
      "28          325       NaN        NaN               67   \n",
      "29          530       NaN        NaN               67   \n",
      "...         ...       ...        ...              ...   \n",
      "7867571     281       NaN     1995.0              261   \n",
      "7867572    4476       NaN     1971.0               69   \n",
      "7867573    1125       NaN     1958.0               67   \n",
      "7867574    2113       NaN     1987.0               26   \n",
      "7867575    2872       NaN     1982.0               26   \n",
      "7867576      89       NaN     1991.0               11   \n",
      "7867577    4460       NaN     1985.0              323   \n",
      "7867578     260       NaN        NaN               24   \n",
      "7867579    2430       NaN        NaN               24   \n",
      "7867580    1052       NaN     1967.0              256   \n",
      "7867581    3884       NaN     1988.0              140   \n",
      "7867582     257       NaN     1984.0              255   \n",
      "7867583    1661       NaN     1982.0              142   \n",
      "7867584    3367       NaN     1991.0               58   \n",
      "7867585    1958       NaN     1993.0               26   \n",
      "7867586    1757       NaN     1980.0              308   \n",
      "7867587    2413       NaN     1991.0               59   \n",
      "7867588    1754       NaN     1990.0               59   \n",
      "7867589    1576       NaN     1985.0               29   \n",
      "7867590    3273       NaN     1972.0              212   \n",
      "7867591    3152       NaN     1978.0               35   \n",
      "7867592     774       NaN     1986.0               58   \n",
      "7867593    3564       NaN     1983.0              364   \n",
      "7867594    2289       NaN     1988.0               85   \n",
      "7867595    2413       NaN        NaN               52   \n",
      "7867596    2048       NaN     1976.0              125   \n",
      "7867597    1530       NaN     1982.0              125   \n",
      "7867598    1190       NaN     1994.0              307   \n",
      "7867599    4339       NaN     1981.0              190   \n",
      "7867600    1094       NaN     1965.0              419   \n",
      "\n",
      "                      from_station_name  gender         starttime  \\\n",
      "0                 Michigan Ave & Oak St     NaN  2013-06-27 12:11   \n",
      "1            Racine Ave & Congress Pkwy     NaN  2013-06-27 14:44   \n",
      "2            Racine Ave & Congress Pkwy     NaN  2013-06-27 14:58   \n",
      "3                 Loomis St & Taylor St     NaN  2013-06-27 15:06   \n",
      "4                 Loomis St & Taylor St     NaN  2013-06-27 15:13   \n",
      "5             Clark St & Wrightwood Ave     NaN  2013-06-27 19:40   \n",
      "6                Dearborn St & Adams St     NaN  2013-06-27 18:45   \n",
      "7                       Millennium Park     NaN  2013-06-27 19:34   \n",
      "8                Dearborn St & Adams St     NaN  2013-06-27 19:45   \n",
      "9                Clark St & Randolph St     NaN  2013-06-27 19:46   \n",
      "10               State St & Randolph St     NaN  2013-06-27 19:50   \n",
      "11             Fairbanks Ct & Grand Ave     NaN  2013-06-27 19:52   \n",
      "12         Sheffield Ave & Kingsbury St     NaN  2013-06-27 20:22   \n",
      "13               Michigan Ave & Lake St     NaN  2013-06-27 20:22   \n",
      "14               Michigan Ave & Lake St     NaN  2013-06-27 20:25   \n",
      "15               State St & Randolph St     NaN  2013-06-27 20:33   \n",
      "16               Damen Ave & Pierce Ave     NaN  2013-06-27 21:39   \n",
      "17              Wood St & Milwaukee Ave     NaN  2013-06-27 22:15   \n",
      "18                Michigan Ave & Oak St     NaN  2013-06-27 22:16   \n",
      "19                Michigan Ave & Oak St     NaN  2013-06-27 22:17   \n",
      "20              Wood St & Milwaukee Ave     NaN  2013-06-27 22:17   \n",
      "21              Wood St & Milwaukee Ave     NaN  2013-06-27 22:20   \n",
      "22              Wood St & Milwaukee Ave     NaN  2013-06-27 22:23   \n",
      "23              Wood St & Milwaukee Ave     NaN  2013-06-27 22:23   \n",
      "24                Michigan Ave & Oak St     NaN  2013-06-27 22:26   \n",
      "25                Michigan Ave & Oak St     NaN  2013-06-27 22:33   \n",
      "26                Michigan Ave & Oak St     NaN  2013-06-27 22:35   \n",
      "27                Wood St & Division St     NaN  2013-06-27 22:41   \n",
      "28        Sheffield Ave & Fullerton Ave     NaN  2013-06-27 23:05   \n",
      "29        Sheffield Ave & Fullerton Ave     NaN  2013-06-27 23:06   \n",
      "...                                 ...     ...               ...   \n",
      "7867571         Hermitage Ave & Polk St  Female     1/1/2016 1:01   \n",
      "7867572          Damen Ave & Pierce Ave  Female     1/1/2016 1:01   \n",
      "7867573   Sheffield Ave & Fullerton Ave  Female     1/1/2016 1:01   \n",
      "7867574        McClurg Ct & Illinois St  Female     1/1/2016 1:00   \n",
      "7867575        McClurg Ct & Illinois St    Male     1/1/2016 1:00   \n",
      "7867576          Jeffery Blvd & 71st St    Male     1/1/2016 0:58   \n",
      "7867577      Sheridan Rd & Lawrence Ave    Male     1/1/2016 0:57   \n",
      "7867578        Fairbanks Ct & Grand Ave     NaN     1/1/2016 0:48   \n",
      "7867579        Fairbanks Ct & Grand Ave     NaN     1/1/2016 0:48   \n",
      "7867580          Broadway & Sheridan Rd    Male     1/1/2016 0:46   \n",
      "7867581     Dearborn Pkwy & Delaware Pl    Male     1/1/2016 0:45   \n",
      "7867582      Indiana Ave & Roosevelt Rd    Male     1/1/2016 0:41   \n",
      "7867583            McClurg Ct & Erie St    Male     1/1/2016 0:37   \n",
      "7867584    Marshfield Ave & Cortland St    Male     1/1/2016 0:35   \n",
      "7867585        McClurg Ct & Illinois St    Male     1/1/2016 0:35   \n",
      "7867586          Seeley Ave & Roscoe St  Female     1/1/2016 0:34   \n",
      "7867587       Wabash Ave & Roosevelt Rd    Male     1/1/2016 0:33   \n",
      "7867588       Wabash Ave & Roosevelt Rd  Female     1/1/2016 0:33   \n",
      "7867589        Noble St & Milwaukee Ave    Male     1/1/2016 0:33   \n",
      "7867590            Orleans St & Ohio St    Male     1/1/2016 0:30   \n",
      "7867591         Streeter Dr & Grand Ave    Male     1/1/2016 0:26   \n",
      "7867592    Marshfield Ave & Cortland St    Male     1/1/2016 0:25   \n",
      "7867593            Larrabee St & Oak St  Female     1/1/2016 0:20   \n",
      "7867594           Michigan Ave & Oak St    Male     1/1/2016 0:18   \n",
      "7867595          Michigan Ave & Lake St     NaN     1/1/2016 0:17   \n",
      "7867596            Rush St & Hubbard St  Female     1/1/2016 0:16   \n",
      "7867597            Rush St & Hubbard St    Male     1/1/2016 0:16   \n",
      "7867598    Southport Ave & Clybourn Ave    Male     1/1/2016 0:15   \n",
      "7867599  Southport Ave & Wrightwood Ave  Female     1/1/2016 0:14   \n",
      "7867600         Lake Park Ave & 53rd St    Male     1/1/2016 0:07   \n",
      "\n",
      "                 stoptime  to_station_id                      to_station_name  \\\n",
      "0        2013-06-27 12:16             28           Larrabee St & Menomonee St   \n",
      "1        2013-06-27 14:45             32           Racine Ave & Congress Pkwy   \n",
      "2        2013-06-27 15:05             19                Loomis St & Taylor St   \n",
      "3        2013-06-27 15:09             19                Loomis St & Taylor St   \n",
      "4        2013-06-27 15:27             55     Halsted St & James M Rochford St   \n",
      "5        2013-06-27 22:28             46                 Wells St & Walton St   \n",
      "6        2013-06-27 19:03             76            Lake Shore Dr & Monroe St   \n",
      "7        2013-06-27 19:51             75              Canal St & Jackson Blvd   \n",
      "8        2013-06-27 20:42             37               Dearborn St & Adams St   \n",
      "9        2013-06-27 19:57            340            Clark St & Wrightwood Ave   \n",
      "10       2013-06-27 20:19             44               State St & Randolph St   \n",
      "11       2013-06-27 20:50             24             Fairbanks Ct & Grand Ave   \n",
      "12       2013-06-27 20:50             46                 Wells St & Walton St   \n",
      "13       2013-06-27 20:39             52               Michigan Ave & Lake St   \n",
      "14       2013-06-27 20:39             52               Michigan Ave & Lake St   \n",
      "15       2013-06-27 21:22             52               Michigan Ave & Lake St   \n",
      "16       2013-06-27 21:51             29             Noble St & Milwaukee Ave   \n",
      "17       2013-06-27 22:36             17                Wood St & Division St   \n",
      "18       2013-06-27 22:42             85                Michigan Ave & Oak St   \n",
      "19       2013-06-27 22:42             85                Michigan Ave & Oak St   \n",
      "20       2013-06-27 22:36             17                Wood St & Division St   \n",
      "21       2013-06-27 22:36             17                Wood St & Division St   \n",
      "22       2013-06-27 22:39             16                  Wood St & North Ave   \n",
      "23       2013-06-27 22:39             16                  Wood St & North Ave   \n",
      "24       2013-06-27 23:04             85                Michigan Ave & Oak St   \n",
      "25       2013-06-27 23:05             85                Michigan Ave & Oak St   \n",
      "26       2013-06-27 23:04             85                Michigan Ave & Oak St   \n",
      "27       2013-06-27 22:53             61              Wood St & Milwaukee Ave   \n",
      "28       2013-06-27 23:37            348             California Ave & 21st St   \n",
      "29       2013-06-27 23:37             34            Cannon Dr & Fullerton Ave   \n",
      "...                   ...            ...                                  ...   \n",
      "7867571     1/1/2016 1:16            342                Wolcott Ave & Polk St   \n",
      "7867572     1/1/2016 1:29            165                  Clark St & Grace St   \n",
      "7867573     1/1/2016 1:09            302       Sheffield Ave & Wrightwood Ave   \n",
      "7867574     1/1/2016 1:22            255           Indiana Ave & Roosevelt Rd   \n",
      "7867575     1/1/2016 1:22            255           Indiana Ave & Roosevelt Rd   \n",
      "7867576     1/1/2016 1:26            431               Eberhart Ave & 61st St   \n",
      "7867577     1/1/2016 1:04            306              Sheridan Rd & Buena Ave   \n",
      "7867578     1/1/2016 1:09            186                 Ogden Ave & Race Ave   \n",
      "7867579     1/1/2016 1:08            186                 Ogden Ave & Race Ave   \n",
      "7867580     1/1/2016 0:53            296               Broadway & Belmont Ave   \n",
      "7867581     1/1/2016 1:12            498         California Ave & Fletcher St   \n",
      "7867582     1/1/2016 1:03            145  Mies van der Rohe Way & Chestnut St   \n",
      "7867583     1/1/2016 0:59            220           Hampden Ct & Diversey Pkwy   \n",
      "7867584     1/1/2016 0:42            113            Bissell St & Armitage Ave   \n",
      "7867585     1/1/2016 0:37             99              Lake Shore Dr & Ohio St   \n",
      "7867586     1/1/2016 0:40            131            Lincoln Ave & Belmont Ave   \n",
      "7867587     1/1/2016 0:40            273               Michigan Ave & 18th St   \n",
      "7867588     1/1/2016 0:38            273               Michigan Ave & 18th St   \n",
      "7867589     1/1/2016 0:37            333           Ashland Ave & Blackhawk St   \n",
      "7867590     1/1/2016 0:40            364                 Larrabee St & Oak St   \n",
      "7867591     1/1/2016 0:51            333           Ashland Ave & Blackhawk St   \n",
      "7867592     1/1/2016 0:52            312           Clarendon Ave & Gordon Ter   \n",
      "7867593     1/1/2016 0:33             96          Desplaines St & Randolph St   \n",
      "7867594     1/1/2016 0:30             74               Kingsbury St & Erie St   \n",
      "7867595     1/1/2016 0:27             59            Wabash Ave & Roosevelt Rd   \n",
      "7867596     1/1/2016 0:24            133             Kingsbury St & Kinzie St   \n",
      "7867597     1/1/2016 0:24            133             Kingsbury St & Kinzie St   \n",
      "7867598     1/1/2016 0:27            213               Leavitt St & North Ave   \n",
      "7867599     1/1/2016 0:25            220           Hampden Ct & Diversey Pkwy   \n",
      "7867600     1/1/2016 0:16            413         Woodlawn Ave & Lake Park Ave   \n",
      "\n",
      "         trip_id  tripduration    usertype  minutes  Customer  Subscriber  \n",
      "0           4118           316    Customer      5.0       1.0         0.0  \n",
      "1           4275            64    Customer      1.0       1.0         0.0  \n",
      "2           4291           433    Customer      7.0       1.0         0.0  \n",
      "3           4316           123    Customer      2.0       1.0         0.0  \n",
      "4           4342           852    Customer     14.0       1.0         0.0  \n",
      "5           4480         10105    Customer    168.0       1.0         0.0  \n",
      "6           4490          1094    Customer     18.0       1.0         0.0  \n",
      "7           4592          1020    Customer     17.0       1.0         0.0  \n",
      "8           4602          3419    Customer     56.0       1.0         0.0  \n",
      "9           4607           653    Customer     10.0       1.0         0.0  \n",
      "10          4617          1738    Customer     28.0       1.0         0.0  \n",
      "11          4619          3482    Customer     58.0       1.0         0.0  \n",
      "12          4644          1712    Customer     28.0       1.0         0.0  \n",
      "13          4646           996    Customer     16.0       1.0         0.0  \n",
      "14          4647           818    Customer     13.0       1.0         0.0  \n",
      "15          4666          2936    Customer     48.0       1.0         0.0  \n",
      "16          4793           730    Customer     12.0       1.0         0.0  \n",
      "17          4863          1292    Customer     21.0       1.0         0.0  \n",
      "18          4865          1511    Customer     25.0       1.0         0.0  \n",
      "19          4866          1512    Customer     25.0       1.0         0.0  \n",
      "20          4867          1125    Customer     18.0       1.0         0.0  \n",
      "21          4869           964    Customer     16.0       1.0         0.0  \n",
      "22          4874           972    Customer     16.0       1.0         0.0  \n",
      "23          4875           977    Customer     16.0       1.0         0.0  \n",
      "24          4883          2272    Customer     37.0       1.0         0.0  \n",
      "25          4896          1911    Customer     31.0       1.0         0.0  \n",
      "26          4897          1758    Customer     29.0       1.0         0.0  \n",
      "27          4902           730    Customer     12.0       1.0         0.0  \n",
      "28          4943          1866    Customer     31.0       1.0         0.0  \n",
      "29          4946          1856    Customer     30.0       1.0         0.0  \n",
      "...          ...           ...         ...      ...       ...         ...  \n",
      "7867571  8547246           871  Subscriber     14.0       0.0         1.0  \n",
      "7867572  8547245          1698  Subscriber     28.0       0.0         1.0  \n",
      "7867573  8547244           522  Subscriber      8.0       0.0         1.0  \n",
      "7867574  8547243          1320  Subscriber     22.0       0.0         1.0  \n",
      "7867575  8547242          1335  Subscriber     22.0       0.0         1.0  \n",
      "7867576  8547240          1707  Subscriber     28.0       0.0         1.0  \n",
      "7867577  8547239           469  Subscriber      7.0       0.0         1.0  \n",
      "7867578  8547238          1254    Customer     20.0       1.0         0.0  \n",
      "7867579  8547237          1178    Customer     19.0       1.0         0.0  \n",
      "7867580  8547236           404  Subscriber      6.0       0.0         1.0  \n",
      "7867581  8547235          1652  Subscriber     27.0       0.0         1.0  \n",
      "7867582  8547232          1322  Subscriber     22.0       0.0         1.0  \n",
      "7867583  8547230          1342  Subscriber     22.0       0.0         1.0  \n",
      "7867584  8547229           423  Subscriber      7.0       0.0         1.0  \n",
      "7867585  8547228           117  Subscriber      1.0       0.0         1.0  \n",
      "7867586  8547227           372  Subscriber      6.0       0.0         1.0  \n",
      "7867587  8547226           381  Subscriber      6.0       0.0         1.0  \n",
      "7867588  8547225           282  Subscriber      4.0       0.0         1.0  \n",
      "7867589  8547224           253  Subscriber      4.0       0.0         1.0  \n",
      "7867590  8547223           609  Subscriber     10.0       0.0         1.0  \n",
      "7867591  8547222          1540  Subscriber     25.0       0.0         1.0  \n",
      "7867592  8547221          1613  Subscriber     26.0       0.0         1.0  \n",
      "7867593  8547220           721  Subscriber     12.0       0.0         1.0  \n",
      "7867594  8547219           704  Subscriber     11.0       0.0         1.0  \n",
      "7867595  8547218           590    Customer      9.0       1.0         0.0  \n",
      "7867596  8547217           484  Subscriber      8.0       0.0         1.0  \n",
      "7867597  8547216           512  Subscriber      8.0       0.0         1.0  \n",
      "7867598  8547215           744  Subscriber     12.0       0.0         1.0  \n",
      "7867599  8547214           615  Subscriber     10.0       0.0         1.0  \n",
      "7867600  8547211           508  Subscriber      8.0       0.0         1.0  \n",
      "\n",
      "[7867458 rows x 16 columns]\n"
     ]
    }
   ],
   "source": [
    "no_dependents = no_dependents.join(usertypes)\n",
    "print no_dependents"
   ]
  },
  {
   "cell_type": "code",
   "execution_count": 156,
   "metadata": {
    "collapsed": false
   },
   "outputs": [
    {
     "data": {
      "text/plain": [
       "minutes\n",
       "1.0       11774.0\n",
       "2.0       12694.0\n",
       "3.0       18447.0\n",
       "4.0       26803.0\n",
       "5.0       34227.0\n",
       "6.0       42052.0\n",
       "7.0       49372.0\n",
       "8.0       55955.0\n",
       "9.0       61414.0\n",
       "10.0      65174.0\n",
       "11.0      69195.0\n",
       "12.0      71453.0\n",
       "13.0      74183.0\n",
       "14.0      76212.0\n",
       "15.0      78379.0\n",
       "16.0      80074.0\n",
       "17.0      81286.0\n",
       "18.0      82635.0\n",
       "19.0      83696.0\n",
       "20.0      82701.0\n",
       "21.0      83495.0\n",
       "22.0      82488.0\n",
       "23.0      80318.0\n",
       "24.0      78146.0\n",
       "25.0      73964.0\n",
       "26.0      69233.0\n",
       "27.0      64424.0\n",
       "28.0      58353.0\n",
       "29.0      50364.0\n",
       "30.0      43830.0\n",
       "           ...   \n",
       "1410.0        4.0\n",
       "1411.0        5.0\n",
       "1412.0        2.0\n",
       "1413.0        5.0\n",
       "1414.0        3.0\n",
       "1415.0        7.0\n",
       "1416.0       11.0\n",
       "1417.0        4.0\n",
       "1418.0        5.0\n",
       "1419.0        3.0\n",
       "1420.0       14.0\n",
       "1421.0        6.0\n",
       "1422.0       14.0\n",
       "1423.0        8.0\n",
       "1424.0        9.0\n",
       "1425.0        7.0\n",
       "1426.0        3.0\n",
       "1427.0        4.0\n",
       "1428.0        2.0\n",
       "1429.0        7.0\n",
       "1430.0        8.0\n",
       "1431.0        5.0\n",
       "1432.0        1.0\n",
       "1433.0        6.0\n",
       "1434.0        2.0\n",
       "1435.0        6.0\n",
       "1436.0        8.0\n",
       "1437.0        7.0\n",
       "1438.0        6.0\n",
       "1439.0        5.0\n",
       "Name: Customer, dtype: float64"
      ]
     },
     "execution_count": 156,
     "metadata": {},
     "output_type": "execute_result"
    }
   ],
   "source": [
    "no_dependents.groupby('minutes')['Customer'].sum()"
   ]
  },
  {
   "cell_type": "code",
   "execution_count": 157,
   "metadata": {
    "collapsed": false
   },
   "outputs": [
    {
     "data": {
      "text/plain": [
       "minutes\n",
       "1.0       11774.0\n",
       "2.0       12694.0\n",
       "3.0       18447.0\n",
       "4.0       26803.0\n",
       "5.0       34227.0\n",
       "6.0       42052.0\n",
       "7.0       49372.0\n",
       "8.0       55955.0\n",
       "9.0       61414.0\n",
       "10.0      65174.0\n",
       "11.0      69195.0\n",
       "12.0      71453.0\n",
       "13.0      74183.0\n",
       "14.0      76212.0\n",
       "15.0      78379.0\n",
       "16.0      80074.0\n",
       "17.0      81286.0\n",
       "18.0      82635.0\n",
       "19.0      83696.0\n",
       "20.0      82701.0\n",
       "21.0      83495.0\n",
       "22.0      82488.0\n",
       "23.0      80318.0\n",
       "24.0      78146.0\n",
       "25.0      73964.0\n",
       "26.0      69233.0\n",
       "27.0      64424.0\n",
       "28.0      58353.0\n",
       "29.0      50364.0\n",
       "30.0      43830.0\n",
       "           ...   \n",
       "1410.0        4.0\n",
       "1411.0        5.0\n",
       "1412.0        2.0\n",
       "1413.0        5.0\n",
       "1414.0        3.0\n",
       "1415.0        7.0\n",
       "1416.0       11.0\n",
       "1417.0        4.0\n",
       "1418.0        5.0\n",
       "1419.0        3.0\n",
       "1420.0       14.0\n",
       "1421.0        6.0\n",
       "1422.0       14.0\n",
       "1423.0        8.0\n",
       "1424.0        9.0\n",
       "1425.0        7.0\n",
       "1426.0        3.0\n",
       "1427.0        4.0\n",
       "1428.0        2.0\n",
       "1429.0        7.0\n",
       "1430.0        8.0\n",
       "1431.0        5.0\n",
       "1432.0        1.0\n",
       "1433.0        6.0\n",
       "1434.0        2.0\n",
       "1435.0        6.0\n",
       "1436.0        8.0\n",
       "1437.0        7.0\n",
       "1438.0        6.0\n",
       "1439.0        5.0\n",
       "Name: Customer, dtype: float64"
      ]
     },
     "execution_count": 157,
     "metadata": {},
     "output_type": "execute_result"
    }
   ],
   "source": [
    "pd.pivot_table(no_dependents, index='minutes', values='Customer', aggfunc=sum)"
   ]
  },
  {
   "cell_type": "code",
   "execution_count": 158,
   "metadata": {
    "collapsed": true
   },
   "outputs": [],
   "source": [
    "customers_by_minutes = no_dependents.groupby('minutes')['Customer'].sum()\n",
    "subscribers_by_minutes = no_dependents.groupby('minutes')['Subscriber'].sum()"
   ]
  },
  {
   "cell_type": "code",
   "execution_count": 161,
   "metadata": {
    "collapsed": false
   },
   "outputs": [
    {
     "data": {
      "text/plain": [
       "<matplotlib.legend.Legend at 0x12633c0d0>"
      ]
     },
     "execution_count": 161,
     "metadata": {},
     "output_type": "execute_result"
    },
    {
     "data": {
      "image/png": "[encoded data removed]",
      "text/plain": [
       "<matplotlib.figure.Figure at 0x1245300d0>"
      ]
     },
     "metadata": {},
     "output_type": "display_data"
    }
   ],
   "source": [
    "plt.xkcd()\n",
    "plt.style.use('fivethirtyeight')\n",
    "plt.plot(customers_by_minutes, label='Customers')\n",
    "plt.plot(subscribers_by_minutes, label='Subscribers')\n",
    "plt.xlim(0, 90)\n",
    "plt.ylabel(\"Number of Rides \\n2013Q3-2016Q2\")\n",
    "plt.xlabel(\"Legth of Ride \\n(in full minutes)\")\n",
    "plt.title(\"Number of Subscriber and Customer Rides, \\nper minute, 2013Q3-2016Q2\")\n",
    "plt.legend(loc='upper right', shadow=True, fontsize='large')"
   ]
  },
  {
   "cell_type": "code",
   "execution_count": null,
   "metadata": {
    "collapsed": true
   },
   "outputs": [],
   "source": []
  }
 ],
 "metadata": {
  "kernelspec": {
   "display_name": "Python [Root]",
   "language": "python",
   "name": "Python [Root]"
  },
  "language_info": {
   "codemirror_mode": {
    "name": "ipython",
    "version": 2
   },
   "file_extension": ".py",
   "mimetype": "text/x-python",
   "name": "python",
   "nbconvert_exporter": "python",
   "pygments_lexer": "ipython2",
   "version": "2.7.12"
  }
 },
 "nbformat": 4,
 "nbformat_minor": 0
}
