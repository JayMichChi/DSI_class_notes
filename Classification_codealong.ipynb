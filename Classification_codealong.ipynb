{
 "cells": [
  {
   "cell_type": "markdown",
   "metadata": {},
   "source": [
    "### KNN (K-Nearest Neighbors) Lab"
   ]
  },
  {
   "cell_type": "markdown",
   "metadata": {},
   "source": [
    "In this lab we will attempt to classify, whether or not a wine is HIGH or LOW quality. This is a classification task since we will attempt to discrimnate between these two options.  To do so, we will take as input features of each wine and previous labels of HIGH or LOW quality."
   ]
  },
  {
   "cell_type": "code",
   "execution_count": 1,
   "metadata": {
    "collapsed": false
   },
   "outputs": [
    {
     "data": {
      "text/html": [
       "<div>\n",
       "<table border=\"1\" class=\"dataframe\">\n",
       "  <thead>\n",
       "    <tr style=\"text-align: right;\">\n",
       "      <th></th>\n",
       "      <th>fixed_acidity</th>\n",
       "      <th>volatile_acidity</th>\n",
       "      <th>citric_acid</th>\n",
       "      <th>residual_sugar</th>\n",
       "      <th>chlorides</th>\n",
       "      <th>free_sulfur_dioxide</th>\n",
       "      <th>total_sulfur_dioxide</th>\n",
       "      <th>density</th>\n",
       "      <th>pH</th>\n",
       "      <th>sulphates</th>\n",
       "      <th>alcohol</th>\n",
       "      <th>quality</th>\n",
       "      <th>color</th>\n",
       "      <th>is_red</th>\n",
       "      <th>high_quality</th>\n",
       "    </tr>\n",
       "  </thead>\n",
       "  <tbody>\n",
       "    <tr>\n",
       "      <th>0</th>\n",
       "      <td>7.4</td>\n",
       "      <td>0.70</td>\n",
       "      <td>0.00</td>\n",
       "      <td>1.9</td>\n",
       "      <td>0.076</td>\n",
       "      <td>11.0</td>\n",
       "      <td>34.0</td>\n",
       "      <td>0.9978</td>\n",
       "      <td>3.51</td>\n",
       "      <td>0.56</td>\n",
       "      <td>9.4</td>\n",
       "      <td>5</td>\n",
       "      <td>red</td>\n",
       "      <td>1.0</td>\n",
       "      <td>0.0</td>\n",
       "    </tr>\n",
       "    <tr>\n",
       "      <th>1</th>\n",
       "      <td>7.8</td>\n",
       "      <td>0.88</td>\n",
       "      <td>0.00</td>\n",
       "      <td>2.6</td>\n",
       "      <td>0.098</td>\n",
       "      <td>25.0</td>\n",
       "      <td>67.0</td>\n",
       "      <td>0.9968</td>\n",
       "      <td>3.20</td>\n",
       "      <td>0.68</td>\n",
       "      <td>9.8</td>\n",
       "      <td>5</td>\n",
       "      <td>red</td>\n",
       "      <td>1.0</td>\n",
       "      <td>0.0</td>\n",
       "    </tr>\n",
       "    <tr>\n",
       "      <th>2</th>\n",
       "      <td>7.8</td>\n",
       "      <td>0.76</td>\n",
       "      <td>0.04</td>\n",
       "      <td>2.3</td>\n",
       "      <td>0.092</td>\n",
       "      <td>15.0</td>\n",
       "      <td>54.0</td>\n",
       "      <td>0.9970</td>\n",
       "      <td>3.26</td>\n",
       "      <td>0.65</td>\n",
       "      <td>9.8</td>\n",
       "      <td>5</td>\n",
       "      <td>red</td>\n",
       "      <td>1.0</td>\n",
       "      <td>0.0</td>\n",
       "    </tr>\n",
       "    <tr>\n",
       "      <th>3</th>\n",
       "      <td>11.2</td>\n",
       "      <td>0.28</td>\n",
       "      <td>0.56</td>\n",
       "      <td>1.9</td>\n",
       "      <td>0.075</td>\n",
       "      <td>17.0</td>\n",
       "      <td>60.0</td>\n",
       "      <td>0.9980</td>\n",
       "      <td>3.16</td>\n",
       "      <td>0.58</td>\n",
       "      <td>9.8</td>\n",
       "      <td>6</td>\n",
       "      <td>red</td>\n",
       "      <td>1.0</td>\n",
       "      <td>0.0</td>\n",
       "    </tr>\n",
       "    <tr>\n",
       "      <th>4</th>\n",
       "      <td>7.4</td>\n",
       "      <td>0.70</td>\n",
       "      <td>0.00</td>\n",
       "      <td>1.9</td>\n",
       "      <td>0.076</td>\n",
       "      <td>11.0</td>\n",
       "      <td>34.0</td>\n",
       "      <td>0.9978</td>\n",
       "      <td>3.51</td>\n",
       "      <td>0.56</td>\n",
       "      <td>9.4</td>\n",
       "      <td>5</td>\n",
       "      <td>red</td>\n",
       "      <td>1.0</td>\n",
       "      <td>0.0</td>\n",
       "    </tr>\n",
       "  </tbody>\n",
       "</table>\n",
       "</div>"
      ],
      "text/plain": [
       "   fixed_acidity  volatile_acidity  citric_acid  residual_sugar  chlorides  \\\n",
       "0            7.4              0.70         0.00             1.9      0.076   \n",
       "1            7.8              0.88         0.00             2.6      0.098   \n",
       "2            7.8              0.76         0.04             2.3      0.092   \n",
       "3           11.2              0.28         0.56             1.9      0.075   \n",
       "4            7.4              0.70         0.00             1.9      0.076   \n",
       "\n",
       "   free_sulfur_dioxide  total_sulfur_dioxide  density    pH  sulphates  \\\n",
       "0                 11.0                  34.0   0.9978  3.51       0.56   \n",
       "1                 25.0                  67.0   0.9968  3.20       0.68   \n",
       "2                 15.0                  54.0   0.9970  3.26       0.65   \n",
       "3                 17.0                  60.0   0.9980  3.16       0.58   \n",
       "4                 11.0                  34.0   0.9978  3.51       0.56   \n",
       "\n",
       "   alcohol  quality color  is_red  high_quality  \n",
       "0      9.4        5   red     1.0           0.0  \n",
       "1      9.8        5   red     1.0           0.0  \n",
       "2      9.8        5   red     1.0           0.0  \n",
       "3      9.8        6   red     1.0           0.0  \n",
       "4      9.4        5   red     1.0           0.0  "
      ]
     },
     "execution_count": 1,
     "metadata": {},
     "output_type": "execute_result"
    }
   ],
   "source": [
    "import pandas as pd\n",
    "import seaborn as sns\n",
    "%matplotlib inline\n",
    "\n",
    "\n",
    "# Load in the dataset\n",
    "df = pd.read_csv(\"https://s3.amazonaws.com/demo-datasets/wine.csv\")\n",
    "df.head()"
   ]
  },
  {
   "cell_type": "markdown",
   "metadata": {
    "collapsed": true
   },
   "source": [
    "#### Classifying high quality wines\n",
    "- In this dataset, `quality` is a numeric column, if we were performing regression, we could predict this value.\n",
    "- Since we are performing classification, we will predict `high_quality` which is 1 or 0, a binary label.\n",
    "- What is the baseline accuracy that we should attempt to beat?"
   ]
  },
  {
   "cell_type": "code",
   "execution_count": 3,
   "metadata": {
    "collapsed": false
   },
   "outputs": [
    {
     "data": {
      "text/html": [
       "<div>\n",
       "<table border=\"1\" class=\"dataframe\">\n",
       "  <thead>\n",
       "    <tr style=\"text-align: right;\">\n",
       "      <th>high_quality</th>\n",
       "      <th>0.0</th>\n",
       "      <th>1.0</th>\n",
       "    </tr>\n",
       "    <tr>\n",
       "      <th>quality</th>\n",
       "      <th></th>\n",
       "      <th></th>\n",
       "    </tr>\n",
       "  </thead>\n",
       "  <tbody>\n",
       "    <tr>\n",
       "      <th>3</th>\n",
       "      <td>30</td>\n",
       "      <td>0</td>\n",
       "    </tr>\n",
       "    <tr>\n",
       "      <th>4</th>\n",
       "      <td>216</td>\n",
       "      <td>0</td>\n",
       "    </tr>\n",
       "    <tr>\n",
       "      <th>5</th>\n",
       "      <td>2138</td>\n",
       "      <td>0</td>\n",
       "    </tr>\n",
       "    <tr>\n",
       "      <th>6</th>\n",
       "      <td>2836</td>\n",
       "      <td>0</td>\n",
       "    </tr>\n",
       "    <tr>\n",
       "      <th>7</th>\n",
       "      <td>0</td>\n",
       "      <td>1079</td>\n",
       "    </tr>\n",
       "    <tr>\n",
       "      <th>8</th>\n",
       "      <td>0</td>\n",
       "      <td>193</td>\n",
       "    </tr>\n",
       "    <tr>\n",
       "      <th>9</th>\n",
       "      <td>0</td>\n",
       "      <td>5</td>\n",
       "    </tr>\n",
       "  </tbody>\n",
       "</table>\n",
       "</div>"
      ],
      "text/plain": [
       "high_quality   0.0   1.0\n",
       "quality                 \n",
       "3               30     0\n",
       "4              216     0\n",
       "5             2138     0\n",
       "6             2836     0\n",
       "7                0  1079\n",
       "8                0   193\n",
       "9                0     5"
      ]
     },
     "execution_count": 3,
     "metadata": {},
     "output_type": "execute_result"
    }
   ],
   "source": [
    "pd.crosstab(df['quality'], df['high_quality'])"
   ]
  },
  {
   "cell_type": "code",
   "execution_count": 4,
   "metadata": {
    "collapsed": false
   },
   "outputs": [
    {
     "data": {
      "text/plain": [
       "count    6497.000000\n",
       "mean        0.196552\n",
       "std         0.397421\n",
       "min         0.000000\n",
       "25%         0.000000\n",
       "50%         0.000000\n",
       "75%         0.000000\n",
       "max         1.000000\n",
       "Name: high_quality, dtype: float64"
      ]
     },
     "execution_count": 4,
     "metadata": {},
     "output_type": "execute_result"
    }
   ],
   "source": [
    "df['high_quality'].describe()"
   ]
  },
  {
   "cell_type": "markdown",
   "metadata": {},
   "source": [
    "#### What features are important to predict high quality wines?\n",
    "- Let's explore the dataset"
   ]
  },
  {
   "cell_type": "markdown",
   "metadata": {},
   "source": [
    "Let's do a correlation table!"
   ]
  },
  {
   "cell_type": "code",
   "execution_count": 5,
   "metadata": {
    "collapsed": false
   },
   "outputs": [
    {
     "data": {
      "text/html": [
       "<div>\n",
       "<table border=\"1\" class=\"dataframe\">\n",
       "  <thead>\n",
       "    <tr style=\"text-align: right;\">\n",
       "      <th></th>\n",
       "      <th>fixed_acidity</th>\n",
       "      <th>volatile_acidity</th>\n",
       "      <th>citric_acid</th>\n",
       "      <th>residual_sugar</th>\n",
       "      <th>chlorides</th>\n",
       "      <th>free_sulfur_dioxide</th>\n",
       "      <th>total_sulfur_dioxide</th>\n",
       "      <th>density</th>\n",
       "      <th>pH</th>\n",
       "      <th>sulphates</th>\n",
       "      <th>alcohol</th>\n",
       "      <th>quality</th>\n",
       "      <th>is_red</th>\n",
       "      <th>high_quality</th>\n",
       "    </tr>\n",
       "  </thead>\n",
       "  <tbody>\n",
       "    <tr>\n",
       "      <th>fixed_acidity</th>\n",
       "      <td>1.000000</td>\n",
       "      <td>0.219008</td>\n",
       "      <td>0.324436</td>\n",
       "      <td>-0.111981</td>\n",
       "      <td>0.298195</td>\n",
       "      <td>-0.282735</td>\n",
       "      <td>-0.329054</td>\n",
       "      <td>0.458910</td>\n",
       "      <td>-0.252700</td>\n",
       "      <td>0.299568</td>\n",
       "      <td>-0.095452</td>\n",
       "      <td>-0.076743</td>\n",
       "      <td>0.486740</td>\n",
       "      <td>-0.049447</td>\n",
       "    </tr>\n",
       "    <tr>\n",
       "      <th>volatile_acidity</th>\n",
       "      <td>0.219008</td>\n",
       "      <td>1.000000</td>\n",
       "      <td>-0.377981</td>\n",
       "      <td>-0.196011</td>\n",
       "      <td>0.377124</td>\n",
       "      <td>-0.352557</td>\n",
       "      <td>-0.414476</td>\n",
       "      <td>0.271296</td>\n",
       "      <td>0.261454</td>\n",
       "      <td>0.225984</td>\n",
       "      <td>-0.037640</td>\n",
       "      <td>-0.265699</td>\n",
       "      <td>0.653036</td>\n",
       "      <td>-0.151714</td>\n",
       "    </tr>\n",
       "    <tr>\n",
       "      <th>citric_acid</th>\n",
       "      <td>0.324436</td>\n",
       "      <td>-0.377981</td>\n",
       "      <td>1.000000</td>\n",
       "      <td>0.142451</td>\n",
       "      <td>0.038998</td>\n",
       "      <td>0.133126</td>\n",
       "      <td>0.195242</td>\n",
       "      <td>0.096154</td>\n",
       "      <td>-0.329808</td>\n",
       "      <td>0.056197</td>\n",
       "      <td>-0.010493</td>\n",
       "      <td>0.085532</td>\n",
       "      <td>-0.187397</td>\n",
       "      <td>0.054444</td>\n",
       "    </tr>\n",
       "    <tr>\n",
       "      <th>residual_sugar</th>\n",
       "      <td>-0.111981</td>\n",
       "      <td>-0.196011</td>\n",
       "      <td>0.142451</td>\n",
       "      <td>1.000000</td>\n",
       "      <td>-0.128940</td>\n",
       "      <td>0.402871</td>\n",
       "      <td>0.495482</td>\n",
       "      <td>0.552517</td>\n",
       "      <td>-0.267320</td>\n",
       "      <td>-0.185927</td>\n",
       "      <td>-0.359415</td>\n",
       "      <td>-0.036980</td>\n",
       "      <td>-0.348821</td>\n",
       "      <td>-0.063992</td>\n",
       "    </tr>\n",
       "    <tr>\n",
       "      <th>chlorides</th>\n",
       "      <td>0.298195</td>\n",
       "      <td>0.377124</td>\n",
       "      <td>0.038998</td>\n",
       "      <td>-0.128940</td>\n",
       "      <td>1.000000</td>\n",
       "      <td>-0.195045</td>\n",
       "      <td>-0.279630</td>\n",
       "      <td>0.362615</td>\n",
       "      <td>0.044708</td>\n",
       "      <td>0.395593</td>\n",
       "      <td>-0.256916</td>\n",
       "      <td>-0.200666</td>\n",
       "      <td>0.512678</td>\n",
       "      <td>-0.161781</td>\n",
       "    </tr>\n",
       "    <tr>\n",
       "      <th>free_sulfur_dioxide</th>\n",
       "      <td>-0.282735</td>\n",
       "      <td>-0.352557</td>\n",
       "      <td>0.133126</td>\n",
       "      <td>0.402871</td>\n",
       "      <td>-0.195045</td>\n",
       "      <td>1.000000</td>\n",
       "      <td>0.720934</td>\n",
       "      <td>0.025717</td>\n",
       "      <td>-0.145854</td>\n",
       "      <td>-0.188457</td>\n",
       "      <td>-0.179838</td>\n",
       "      <td>0.055463</td>\n",
       "      <td>-0.471644</td>\n",
       "      <td>0.014767</td>\n",
       "    </tr>\n",
       "    <tr>\n",
       "      <th>total_sulfur_dioxide</th>\n",
       "      <td>-0.329054</td>\n",
       "      <td>-0.414476</td>\n",
       "      <td>0.195242</td>\n",
       "      <td>0.495482</td>\n",
       "      <td>-0.279630</td>\n",
       "      <td>0.720934</td>\n",
       "      <td>1.000000</td>\n",
       "      <td>0.032395</td>\n",
       "      <td>-0.238413</td>\n",
       "      <td>-0.275727</td>\n",
       "      <td>-0.265740</td>\n",
       "      <td>-0.041385</td>\n",
       "      <td>-0.700357</td>\n",
       "      <td>-0.051226</td>\n",
       "    </tr>\n",
       "    <tr>\n",
       "      <th>density</th>\n",
       "      <td>0.458910</td>\n",
       "      <td>0.271296</td>\n",
       "      <td>0.096154</td>\n",
       "      <td>0.552517</td>\n",
       "      <td>0.362615</td>\n",
       "      <td>0.025717</td>\n",
       "      <td>0.032395</td>\n",
       "      <td>1.000000</td>\n",
       "      <td>0.011686</td>\n",
       "      <td>0.259478</td>\n",
       "      <td>-0.686745</td>\n",
       "      <td>-0.305858</td>\n",
       "      <td>0.390645</td>\n",
       "      <td>-0.275441</td>\n",
       "    </tr>\n",
       "    <tr>\n",
       "      <th>pH</th>\n",
       "      <td>-0.252700</td>\n",
       "      <td>0.261454</td>\n",
       "      <td>-0.329808</td>\n",
       "      <td>-0.267320</td>\n",
       "      <td>0.044708</td>\n",
       "      <td>-0.145854</td>\n",
       "      <td>-0.238413</td>\n",
       "      <td>0.011686</td>\n",
       "      <td>1.000000</td>\n",
       "      <td>0.192123</td>\n",
       "      <td>0.121248</td>\n",
       "      <td>0.019506</td>\n",
       "      <td>0.329129</td>\n",
       "      <td>0.028149</td>\n",
       "    </tr>\n",
       "    <tr>\n",
       "      <th>sulphates</th>\n",
       "      <td>0.299568</td>\n",
       "      <td>0.225984</td>\n",
       "      <td>0.056197</td>\n",
       "      <td>-0.185927</td>\n",
       "      <td>0.395593</td>\n",
       "      <td>-0.188457</td>\n",
       "      <td>-0.275727</td>\n",
       "      <td>0.259478</td>\n",
       "      <td>0.192123</td>\n",
       "      <td>1.000000</td>\n",
       "      <td>-0.003029</td>\n",
       "      <td>0.038485</td>\n",
       "      <td>0.487218</td>\n",
       "      <td>0.033971</td>\n",
       "    </tr>\n",
       "    <tr>\n",
       "      <th>alcohol</th>\n",
       "      <td>-0.095452</td>\n",
       "      <td>-0.037640</td>\n",
       "      <td>-0.010493</td>\n",
       "      <td>-0.359415</td>\n",
       "      <td>-0.256916</td>\n",
       "      <td>-0.179838</td>\n",
       "      <td>-0.265740</td>\n",
       "      <td>-0.686745</td>\n",
       "      <td>0.121248</td>\n",
       "      <td>-0.003029</td>\n",
       "      <td>1.000000</td>\n",
       "      <td>0.444319</td>\n",
       "      <td>-0.032970</td>\n",
       "      <td>0.390486</td>\n",
       "    </tr>\n",
       "    <tr>\n",
       "      <th>quality</th>\n",
       "      <td>-0.076743</td>\n",
       "      <td>-0.265699</td>\n",
       "      <td>0.085532</td>\n",
       "      <td>-0.036980</td>\n",
       "      <td>-0.200666</td>\n",
       "      <td>0.055463</td>\n",
       "      <td>-0.041385</td>\n",
       "      <td>-0.305858</td>\n",
       "      <td>0.019506</td>\n",
       "      <td>0.038485</td>\n",
       "      <td>0.444319</td>\n",
       "      <td>1.000000</td>\n",
       "      <td>-0.119323</td>\n",
       "      <td>0.759360</td>\n",
       "    </tr>\n",
       "    <tr>\n",
       "      <th>is_red</th>\n",
       "      <td>0.486740</td>\n",
       "      <td>0.653036</td>\n",
       "      <td>-0.187397</td>\n",
       "      <td>-0.348821</td>\n",
       "      <td>0.512678</td>\n",
       "      <td>-0.471644</td>\n",
       "      <td>-0.700357</td>\n",
       "      <td>0.390645</td>\n",
       "      <td>0.329129</td>\n",
       "      <td>0.487218</td>\n",
       "      <td>-0.032970</td>\n",
       "      <td>-0.119323</td>\n",
       "      <td>1.000000</td>\n",
       "      <td>-0.087479</td>\n",
       "    </tr>\n",
       "    <tr>\n",
       "      <th>high_quality</th>\n",
       "      <td>-0.049447</td>\n",
       "      <td>-0.151714</td>\n",
       "      <td>0.054444</td>\n",
       "      <td>-0.063992</td>\n",
       "      <td>-0.161781</td>\n",
       "      <td>0.014767</td>\n",
       "      <td>-0.051226</td>\n",
       "      <td>-0.275441</td>\n",
       "      <td>0.028149</td>\n",
       "      <td>0.033971</td>\n",
       "      <td>0.390486</td>\n",
       "      <td>0.759360</td>\n",
       "      <td>-0.087479</td>\n",
       "      <td>1.000000</td>\n",
       "    </tr>\n",
       "  </tbody>\n",
       "</table>\n",
       "</div>"
      ],
      "text/plain": [
       "                      fixed_acidity  volatile_acidity  citric_acid  \\\n",
       "fixed_acidity              1.000000          0.219008     0.324436   \n",
       "volatile_acidity           0.219008          1.000000    -0.377981   \n",
       "citric_acid                0.324436         -0.377981     1.000000   \n",
       "residual_sugar            -0.111981         -0.196011     0.142451   \n",
       "chlorides                  0.298195          0.377124     0.038998   \n",
       "free_sulfur_dioxide       -0.282735         -0.352557     0.133126   \n",
       "total_sulfur_dioxide      -0.329054         -0.414476     0.195242   \n",
       "density                    0.458910          0.271296     0.096154   \n",
       "pH                        -0.252700          0.261454    -0.329808   \n",
       "sulphates                  0.299568          0.225984     0.056197   \n",
       "alcohol                   -0.095452         -0.037640    -0.010493   \n",
       "quality                   -0.076743         -0.265699     0.085532   \n",
       "is_red                     0.486740          0.653036    -0.187397   \n",
       "high_quality              -0.049447         -0.151714     0.054444   \n",
       "\n",
       "                      residual_sugar  chlorides  free_sulfur_dioxide  \\\n",
       "fixed_acidity              -0.111981   0.298195            -0.282735   \n",
       "volatile_acidity           -0.196011   0.377124            -0.352557   \n",
       "citric_acid                 0.142451   0.038998             0.133126   \n",
       "residual_sugar              1.000000  -0.128940             0.402871   \n",
       "chlorides                  -0.128940   1.000000            -0.195045   \n",
       "free_sulfur_dioxide         0.402871  -0.195045             1.000000   \n",
       "total_sulfur_dioxide        0.495482  -0.279630             0.720934   \n",
       "density                     0.552517   0.362615             0.025717   \n",
       "pH                         -0.267320   0.044708            -0.145854   \n",
       "sulphates                  -0.185927   0.395593            -0.188457   \n",
       "alcohol                    -0.359415  -0.256916            -0.179838   \n",
       "quality                    -0.036980  -0.200666             0.055463   \n",
       "is_red                     -0.348821   0.512678            -0.471644   \n",
       "high_quality               -0.063992  -0.161781             0.014767   \n",
       "\n",
       "                      total_sulfur_dioxide   density        pH  sulphates  \\\n",
       "fixed_acidity                    -0.329054  0.458910 -0.252700   0.299568   \n",
       "volatile_acidity                 -0.414476  0.271296  0.261454   0.225984   \n",
       "citric_acid                       0.195242  0.096154 -0.329808   0.056197   \n",
       "residual_sugar                    0.495482  0.552517 -0.267320  -0.185927   \n",
       "chlorides                        -0.279630  0.362615  0.044708   0.395593   \n",
       "free_sulfur_dioxide               0.720934  0.025717 -0.145854  -0.188457   \n",
       "total_sulfur_dioxide              1.000000  0.032395 -0.238413  -0.275727   \n",
       "density                           0.032395  1.000000  0.011686   0.259478   \n",
       "pH                               -0.238413  0.011686  1.000000   0.192123   \n",
       "sulphates                        -0.275727  0.259478  0.192123   1.000000   \n",
       "alcohol                          -0.265740 -0.686745  0.121248  -0.003029   \n",
       "quality                          -0.041385 -0.305858  0.019506   0.038485   \n",
       "is_red                           -0.700357  0.390645  0.329129   0.487218   \n",
       "high_quality                     -0.051226 -0.275441  0.028149   0.033971   \n",
       "\n",
       "                       alcohol   quality    is_red  high_quality  \n",
       "fixed_acidity        -0.095452 -0.076743  0.486740     -0.049447  \n",
       "volatile_acidity     -0.037640 -0.265699  0.653036     -0.151714  \n",
       "citric_acid          -0.010493  0.085532 -0.187397      0.054444  \n",
       "residual_sugar       -0.359415 -0.036980 -0.348821     -0.063992  \n",
       "chlorides            -0.256916 -0.200666  0.512678     -0.161781  \n",
       "free_sulfur_dioxide  -0.179838  0.055463 -0.471644      0.014767  \n",
       "total_sulfur_dioxide -0.265740 -0.041385 -0.700357     -0.051226  \n",
       "density              -0.686745 -0.305858  0.390645     -0.275441  \n",
       "pH                    0.121248  0.019506  0.329129      0.028149  \n",
       "sulphates            -0.003029  0.038485  0.487218      0.033971  \n",
       "alcohol               1.000000  0.444319 -0.032970      0.390486  \n",
       "quality               0.444319  1.000000 -0.119323      0.759360  \n",
       "is_red               -0.032970 -0.119323  1.000000     -0.087479  \n",
       "high_quality          0.390486  0.759360 -0.087479      1.000000  "
      ]
     },
     "execution_count": 5,
     "metadata": {},
     "output_type": "execute_result"
    }
   ],
   "source": [
    "df.corr()"
   ]
  },
  {
   "cell_type": "markdown",
   "metadata": {},
   "source": [
    "This just gets the row for high quality "
   ]
  },
  {
   "cell_type": "code",
   "execution_count": 6,
   "metadata": {
    "collapsed": false
   },
   "outputs": [
    {
     "data": {
      "text/plain": [
       "fixed_acidity          -0.049447\n",
       "volatile_acidity       -0.151714\n",
       "citric_acid             0.054444\n",
       "residual_sugar         -0.063992\n",
       "chlorides              -0.161781\n",
       "free_sulfur_dioxide     0.014767\n",
       "total_sulfur_dioxide   -0.051226\n",
       "density                -0.275441\n",
       "pH                      0.028149\n",
       "sulphates               0.033971\n",
       "alcohol                 0.390486\n",
       "quality                 0.759360\n",
       "is_red                 -0.087479\n",
       "high_quality            1.000000\n",
       "Name: high_quality, dtype: float64"
      ]
     },
     "execution_count": 6,
     "metadata": {},
     "output_type": "execute_result"
    }
   ],
   "source": [
    "df.corr().loc[:, 'high_quality']"
   ]
  },
  {
   "cell_type": "code",
   "execution_count": 7,
   "metadata": {
    "collapsed": false
   },
   "outputs": [
    {
     "data": {
      "text/plain": [
       "<matplotlib.axes._subplots.AxesSubplot at 0x1177630d0>"
      ]
     },
     "execution_count": 7,
     "metadata": {},
     "output_type": "execute_result"
    },
    {
     "data": {
      "image/png": "[encoded data removed]",
      "text/plain": [
       "<matplotlib.figure.Figure at 0x1174d8b50>"
      ]
     },
     "metadata": {},
     "output_type": "display_data"
    }
   ],
   "source": [
    "sns.heatmap(df.corr())"
   ]
  },
  {
   "cell_type": "markdown",
   "metadata": {},
   "source": [
    "#### Build K-Nearest Neighbors model to predict whether or not a wine is high quality\n",
    "- Select features you think will be predictive of high quality wines\n",
    "- Scale the dataset (remember, this is so that each variable contributes equally to the distance computation)\n",
    "- Evaluate the accuracy of your model using cross-validation\n",
    "- Evaluate different values of `n` to see how the number of neighbors affects the classification accuracy"
   ]
  },
  {
   "cell_type": "code",
   "execution_count": 9,
   "metadata": {
    "collapsed": false
   },
   "outputs": [],
   "source": [
    "features_i_think_are_good = ['volatile_acidity', 'chlorides', 'density', 'alcohol']\n",
    "good_features = df[features_i_think_are_good]"
   ]
  },
  {
   "cell_type": "code",
   "execution_count": 17,
   "metadata": {
    "collapsed": false
   },
   "outputs": [],
   "source": [
    "from sklearn.preprocessing import StandardScaler\n",
    "from sklearn.neighbors import KNeighborsClassifier"
   ]
  },
  {
   "cell_type": "code",
   "execution_count": 15,
   "metadata": {
    "collapsed": false
   },
   "outputs": [
    {
     "data": {
      "text/plain": [
       "array([[ 2.18883292,  0.56995782,  1.03499282, -0.91546416],\n",
       "       [ 3.28223494,  1.1979747 ,  0.70148631, -0.58006813],\n",
       "       [ 2.55330026,  1.02669737,  0.76818761, -0.58006813],\n",
       "       [-0.36243847,  0.54141159,  1.10169412, -0.58006813],\n",
       "       [ 2.18883292,  0.56995782,  1.03499282, -0.91546416]])"
      ]
     },
     "execution_count": 15,
     "metadata": {},
     "output_type": "execute_result"
    }
   ],
   "source": [
    "SS = StandardScaler()\n",
    "SS.fit_transform(good_features)[0:5]"
   ]
  },
  {
   "cell_type": "code",
   "execution_count": 16,
   "metadata": {
    "collapsed": false
   },
   "outputs": [
    {
     "data": {
      "text/html": [
       "<div>\n",
       "<table border=\"1\" class=\"dataframe\">\n",
       "  <thead>\n",
       "    <tr style=\"text-align: right;\">\n",
       "      <th></th>\n",
       "      <th>volatile_acidity</th>\n",
       "      <th>chlorides</th>\n",
       "      <th>density</th>\n",
       "      <th>alcohol</th>\n",
       "    </tr>\n",
       "  </thead>\n",
       "  <tbody>\n",
       "    <tr>\n",
       "      <th>0</th>\n",
       "      <td>0.70</td>\n",
       "      <td>0.076</td>\n",
       "      <td>0.9978</td>\n",
       "      <td>9.4</td>\n",
       "    </tr>\n",
       "    <tr>\n",
       "      <th>1</th>\n",
       "      <td>0.88</td>\n",
       "      <td>0.098</td>\n",
       "      <td>0.9968</td>\n",
       "      <td>9.8</td>\n",
       "    </tr>\n",
       "    <tr>\n",
       "      <th>2</th>\n",
       "      <td>0.76</td>\n",
       "      <td>0.092</td>\n",
       "      <td>0.9970</td>\n",
       "      <td>9.8</td>\n",
       "    </tr>\n",
       "    <tr>\n",
       "      <th>3</th>\n",
       "      <td>0.28</td>\n",
       "      <td>0.075</td>\n",
       "      <td>0.9980</td>\n",
       "      <td>9.8</td>\n",
       "    </tr>\n",
       "    <tr>\n",
       "      <th>4</th>\n",
       "      <td>0.70</td>\n",
       "      <td>0.076</td>\n",
       "      <td>0.9978</td>\n",
       "      <td>9.4</td>\n",
       "    </tr>\n",
       "  </tbody>\n",
       "</table>\n",
       "</div>"
      ],
      "text/plain": [
       "   volatile_acidity  chlorides  density  alcohol\n",
       "0              0.70      0.076   0.9978      9.4\n",
       "1              0.88      0.098   0.9968      9.8\n",
       "2              0.76      0.092   0.9970      9.8\n",
       "3              0.28      0.075   0.9980      9.8\n",
       "4              0.70      0.076   0.9978      9.4"
      ]
     },
     "execution_count": 16,
     "metadata": {},
     "output_type": "execute_result"
    }
   ],
   "source": [
    "good_features.head()"
   ]
  },
  {
   "cell_type": "code",
   "execution_count": 20,
   "metadata": {
    "collapsed": true
   },
   "outputs": [],
   "source": [
    "knn = KNeighborsClassifier(n_neighbors=7)"
   ]
  },
  {
   "cell_type": "code",
   "execution_count": 21,
   "metadata": {
    "collapsed": false
   },
   "outputs": [
    {
     "data": {
      "text/plain": [
       "KNeighborsClassifier(algorithm='auto', leaf_size=30, metric='minkowski',\n",
       "           metric_params=None, n_jobs=1, n_neighbors=7, p=2,\n",
       "           weights='uniform')"
      ]
     },
     "execution_count": 21,
     "metadata": {},
     "output_type": "execute_result"
    }
   ],
   "source": [
    "knn"
   ]
  },
  {
   "cell_type": "code",
   "execution_count": 40,
   "metadata": {
    "collapsed": true
   },
   "outputs": [],
   "source": [
    "y = df['high_quality']"
   ]
  },
  {
   "cell_type": "code",
   "execution_count": 41,
   "metadata": {
    "collapsed": false
   },
   "outputs": [],
   "source": [
    "x = SS.fit_transform(good_features)"
   ]
  },
  {
   "cell_type": "code",
   "execution_count": 26,
   "metadata": {
    "collapsed": false
   },
   "outputs": [
    {
     "name": "stdout",
     "output_type": "stream",
     "text": [
      "[[ 0.]\n",
      " [ 0.]\n",
      " [ 0.]\n",
      " ..., \n",
      " [ 0.]\n",
      " [ 1.]\n",
      " [ 0.]] [[ 2.18883292  0.56995782  1.03499282 -0.91546416]\n",
      " [ 3.28223494  1.1979747   0.70148631 -0.58006813]\n",
      " [ 2.55330026  1.02669737  0.76818761 -0.58006813]\n",
      " ..., \n",
      " [-0.6054167  -0.42915996 -0.71925142 -0.91546416]\n",
      " [-0.30169391 -0.97153818 -2.00325148  1.9354021 ]\n",
      " [-0.78765037 -1.02863062 -1.7631268   1.09691202]]\n"
     ]
    }
   ],
   "source": [
    "print y, x"
   ]
  },
  {
   "cell_type": "code",
   "execution_count": 27,
   "metadata": {
    "collapsed": false
   },
   "outputs": [
    {
     "data": {
      "text/plain": [
       "(6497, 1)"
      ]
     },
     "execution_count": 27,
     "metadata": {},
     "output_type": "execute_result"
    }
   ],
   "source": [
    "y.shape"
   ]
  },
  {
   "cell_type": "code",
   "execution_count": 28,
   "metadata": {
    "collapsed": false
   },
   "outputs": [
    {
     "data": {
      "text/plain": [
       "(6497, 4)"
      ]
     },
     "execution_count": 28,
     "metadata": {},
     "output_type": "execute_result"
    }
   ],
   "source": [
    "x.shape"
   ]
  },
  {
   "cell_type": "code",
   "execution_count": 29,
   "metadata": {
    "collapsed": false
   },
   "outputs": [
    {
     "name": "stderr",
     "output_type": "stream",
     "text": [
      "/Users/richardharris/anaconda2/lib/python2.7/site-packages/ipykernel/__main__.py:1: DataConversionWarning: A column-vector y was passed when a 1d array was expected. Please change the shape of y to (n_samples, ), for example using ravel().\n",
      "  if __name__ == '__main__':\n"
     ]
    },
    {
     "data": {
      "text/plain": [
       "KNeighborsClassifier(algorithm='auto', leaf_size=30, metric='minkowski',\n",
       "           metric_params=None, n_jobs=1, n_neighbors=7, p=2,\n",
       "           weights='uniform')"
      ]
     },
     "execution_count": 29,
     "metadata": {},
     "output_type": "execute_result"
    }
   ],
   "source": [
    "knn.fit(x, y)"
   ]
  },
  {
   "cell_type": "code",
   "execution_count": 30,
   "metadata": {
    "collapsed": false
   },
   "outputs": [
    {
     "data": {
      "text/plain": [
       "0.85978143758657843"
      ]
     },
     "execution_count": 30,
     "metadata": {},
     "output_type": "execute_result"
    }
   ],
   "source": [
    "knn.score(x, y)"
   ]
  },
  {
   "cell_type": "code",
   "execution_count": 31,
   "metadata": {
    "collapsed": true
   },
   "outputs": [],
   "source": [
    "from sklearn.cross_validation import cross_val_score"
   ]
  },
  {
   "cell_type": "code",
   "execution_count": 43,
   "metadata": {
    "collapsed": false
   },
   "outputs": [
    {
     "name": "stdout",
     "output_type": "stream",
     "text": [
      "Cross-validated scores: [ 0.80516685  0.7255113   0.79332616  0.7887931   0.79310345  0.73570658\n",
      "  0.78856526]\n"
     ]
    }
   ],
   "source": [
    "knn = KNeighborsClassifier(n_neighbors=7)\n",
    "\n",
    "\n",
    "scores = cross_val_score(knn, x, y, cv=7)\n",
    "print \"Cross-validated scores:\", scores"
   ]
  },
  {
   "cell_type": "code",
   "execution_count": 45,
   "metadata": {
    "collapsed": false
   },
   "outputs": [
    {
     "data": {
      "text/plain": [
       "0.77573895744134158"
      ]
     },
     "execution_count": 45,
     "metadata": {},
     "output_type": "execute_result"
    }
   ],
   "source": [
    "import numpy as np \n",
    "np.mean(scores)"
   ]
  },
  {
   "cell_type": "code",
   "execution_count": 55,
   "metadata": {
    "collapsed": false
   },
   "outputs": [
    {
     "name": "stdout",
     "output_type": "stream",
     "text": [
      "For 1 neighbors, 0.745096732421 average accuracy across 7-fold cv!\n",
      "For 2 neighbors, 0.776353889598 average accuracy across 7-fold cv!\n",
      "For 3 neighbors, 0.754032440648 average accuracy across 7-fold cv!\n",
      "For 4 neighbors, 0.782668457956 average accuracy across 7-fold cv!\n",
      "For 5 neighbors, 0.76973774559 average accuracy across 7-fold cv!\n",
      "For 6 neighbors, 0.781128883383 average accuracy across 7-fold cv!\n",
      "For 7 neighbors, 0.775738957441 average accuracy across 7-fold cv!\n",
      "For 8 neighbors, 0.792984164793 average accuracy across 7-fold cv!\n",
      "For 9 neighbors, 0.786367355101 average accuracy across 7-fold cv!\n",
      "For 10 neighbors, 0.795604813264 average accuracy across 7-fold cv!\n",
      "For 11 neighbors, 0.786824201933 average accuracy across 7-fold cv!\n",
      "For 12 neighbors, 0.794526229961 average accuracy across 7-fold cv!\n",
      "For 13 neighbors, 0.792985325808 average accuracy across 7-fold cv!\n",
      "For 14 neighbors, 0.796987793867 average accuracy across 7-fold cv!\n",
      "For 15 neighbors, 0.792367239517 average accuracy across 7-fold cv!\n",
      "For 16 neighbors, 0.802222119002 average accuracy across 7-fold cv!\n",
      "For 17 neighbors, 0.799296077207 average accuracy across 7-fold cv!\n",
      "For 18 neighbors, 0.800373997329 average accuracy across 7-fold cv!\n",
      "For 19 neighbors, 0.79806239236 average accuracy across 7-fold cv!\n",
      "For 20 neighbors, 0.800527772867 average accuracy across 7-fold cv!\n",
      "For 21 neighbors, 0.800528269628 average accuracy across 7-fold cv!\n",
      "For 22 neighbors, 0.798678987297 average accuracy across 7-fold cv!\n",
      "For 23 neighbors, 0.798985374857 average accuracy across 7-fold cv!\n",
      "For 24 neighbors, 0.79914329805 average accuracy across 7-fold cv!\n",
      "For 25 neighbors, 0.798832760691 average accuracy across 7-fold cv!\n",
      "For 26 neighbors, 0.800220720339 average accuracy across 7-fold cv!\n",
      "For 27 neighbors, 0.798062890194 average accuracy across 7-fold cv!\n",
      "For 28 neighbors, 0.800835322871 average accuracy across 7-fold cv!\n",
      "For 29 neighbors, 0.801140715121 average accuracy across 7-fold cv!\n",
      "For 30 neighbors, 0.799913502462 average accuracy across 7-fold cv!\n",
      "For 31 neighbors, 0.800064787762 average accuracy across 7-fold cv!\n",
      "For 32 neighbors, 0.800066945873 average accuracy across 7-fold cv!\n",
      "For 33 neighbors, 0.797140241254 average accuracy across 7-fold cv!\n",
      "For 34 neighbors, 0.799143464829 average accuracy across 7-fold cv!\n",
      "For 35 neighbors, 0.796987627088 average accuracy across 7-fold cv!\n",
      "For 36 neighbors, 0.799605454267 average accuracy across 7-fold cv!\n",
      "For 37 neighbors, 0.796988787388 average accuracy across 7-fold cv!\n",
      "For 38 neighbors, 0.798681310042 average accuracy across 7-fold cv!\n",
      "For 39 neighbors, 0.797295010314 average accuracy across 7-fold cv!\n",
      "For 40 neighbors, 0.796679412473 average accuracy across 7-fold cv!\n",
      "For 41 neighbors, 0.796062487554 average accuracy across 7-fold cv!\n",
      "For 42 neighbors, 0.796218419415 average accuracy across 7-fold cv!\n",
      "For 43 neighbors, 0.797601400375 average accuracy across 7-fold cv!\n",
      "For 44 neighbors, 0.797758161482 average accuracy across 7-fold cv!\n",
      "For 45 neighbors, 0.799603296157 average accuracy across 7-fold cv!\n",
      "For 46 neighbors, 0.800680884509 average accuracy across 7-fold cv!\n",
      "For 47 neighbors, 0.801296481992 average accuracy across 7-fold cv!\n",
      "For 48 neighbors, 0.802221289399 average accuracy across 7-fold cv!\n",
      "For 49 neighbors, 0.800836483886 average accuracy across 7-fold cv!\n",
      "For 50 neighbors, 0.801452413138 average accuracy across 7-fold cv!\n",
      "For 51 neighbors, 0.801297808355 average accuracy across 7-fold cv!\n",
      "For 52 neighbors, 0.800682211587 average accuracy across 7-fold cv!\n",
      "For 53 neighbors, 0.800835488219 average accuracy across 7-fold cv!\n",
      "For 54 neighbors, 0.802375064937 average accuracy across 7-fold cv!\n",
      "For 55 neighbors, 0.801757475407 average accuracy across 7-fold cv!\n",
      "For 56 neighbors, 0.799756076744 average accuracy across 7-fold cv!\n",
      "For 57 neighbors, 0.800370347506 average accuracy across 7-fold cv!\n",
      "For 58 neighbors, 0.800525284417 average accuracy across 7-fold cv!\n",
      "For 59 neighbors, 0.800986277117 average accuracy across 7-fold cv!\n",
      "For 60 neighbors, 0.800986609244 average accuracy across 7-fold cv!\n",
      "For 61 neighbors, 0.798833093175 average accuracy across 7-fold cv!\n",
      "For 62 neighbors, 0.800064124223 average accuracy across 7-fold cv!\n",
      "For 63 neighbors, 0.800680053476 average accuracy across 7-fold cv!\n",
      "For 64 neighbors, 0.798830770431 average accuracy across 7-fold cv!\n",
      "For 65 neighbors, 0.798214840105 average accuracy across 7-fold cv!\n",
      "For 66 neighbors, 0.800368356532 average accuracy across 7-fold cv!\n",
      "For 67 neighbors, 0.798675668529 average accuracy across 7-fold cv!\n",
      "For 68 neighbors, 0.800213752106 average accuracy across 7-fold cv!\n",
      "For 69 neighbors, 0.799443548767 average accuracy across 7-fold cv!\n",
      "For 70 neighbors, 0.798673844333 average accuracy across 7-fold cv!\n",
      "For 71 neighbors, 0.798365298663 average accuracy across 7-fold cv!\n",
      "For 72 neighbors, 0.7997522605 average accuracy across 7-fold cv!\n",
      "For 73 neighbors, 0.800213419621 average accuracy across 7-fold cv!\n",
      "For 74 neighbors, 0.80144461709 average accuracy across 7-fold cv!\n",
      "For 75 neighbors, 0.801289846244 average accuracy across 7-fold cv!\n",
      "For 76 neighbors, 0.80128968018 average accuracy across 7-fold cv!\n",
      "For 77 neighbors, 0.800519974674 average accuracy across 7-fold cv!\n",
      "For 78 neighbors, 0.801444782796 average accuracy across 7-fold cv!\n",
      "For 79 neighbors, 0.801443786058 average accuracy across 7-fold cv!\n",
      "For 80 neighbors, 0.801597230184 average accuracy across 7-fold cv!\n",
      "For 81 neighbors, 0.802059385329 average accuracy across 7-fold cv!\n",
      "For 82 neighbors, 0.801597728375 average accuracy across 7-fold cv!\n",
      "For 83 neighbors, 0.802368097062 average accuracy across 7-fold cv!\n",
      "For 84 neighbors, 0.801906274045 average accuracy across 7-fold cv!\n",
      "For 85 neighbors, 0.802214321166 average accuracy across 7-fold cv!\n",
      "For 86 neighbors, 0.802522535424 average accuracy across 7-fold cv!\n",
      "For 87 neighbors, 0.801445943454 average accuracy across 7-fold cv!\n",
      "For 88 neighbors, 0.800983955445 average accuracy across 7-fold cv!\n",
      "For 89 neighbors, 0.801136568181 average accuracy across 7-fold cv!\n",
      "For 90 neighbors, 0.801290343719 average accuracy across 7-fold cv!\n",
      "For 91 neighbors, 0.801289845886 average accuracy across 7-fold cv!\n",
      "For 92 neighbors, 0.800365867724 average accuracy across 7-fold cv!\n",
      "For 93 neighbors, 0.800365369891 average accuracy across 7-fold cv!\n",
      "For 94 neighbors, 0.800365204185 average accuracy across 7-fold cv!\n",
      "For 95 neighbors, 0.800519477199 average accuracy across 7-fold cv!\n",
      "For 96 neighbors, 0.800366863032 average accuracy across 7-fold cv!\n",
      "For 97 neighbors, 0.800828851756 average accuracy across 7-fold cv!\n",
      "For 98 neighbors, 0.800828187502 average accuracy across 7-fold cv!\n",
      "For 99 neighbors, 0.800057819172 average accuracy across 7-fold cv!\n",
      "For 100 neighbors, 0.800674248045 average accuracy across 7-fold cv!\n"
     ]
    }
   ],
   "source": [
    "my_scores = {}\n",
    "\n",
    "for n in range(1, 101):\n",
    "    knn = KNeighborsClassifier(n_neighbors=n)\n",
    "    scores = cross_val_score(knn, x, y, cv=7)\n",
    "    print 'For %s neighbors, %s average accuracy across 7-fold cv!' % (n, np.mean(scores))\n",
    "    my_scores[n] = np.mean(scores)"
   ]
  },
  {
   "cell_type": "code",
   "execution_count": 50,
   "metadata": {
    "collapsed": false
   },
   "outputs": [
    {
     "data": {
      "text/plain": [
       "{1: 0.74509673242098651,\n",
       " 2: 0.77635388959798901,\n",
       " 3: 0.75403244064847463,\n",
       " 4: 0.78266845795618223,\n",
       " 5: 0.7697377455901836,\n",
       " 6: 0.78112888338317354,\n",
       " 7: 0.77573895744134158,\n",
       " 8: 0.79298416479298395,\n",
       " 9: 0.7863673551010415,\n",
       " 10: 0.79560481326440236}"
      ]
     },
     "execution_count": 50,
     "metadata": {},
     "output_type": "execute_result"
    }
   ],
   "source": [
    "my_scores"
   ]
  },
  {
   "cell_type": "code",
   "execution_count": 56,
   "metadata": {
    "collapsed": false
   },
   "outputs": [
    {
     "data": {
      "text/plain": [
       "<matplotlib.collections.PathCollection at 0x113f30850>"
      ]
     },
     "execution_count": 56,
     "metadata": {},
     "output_type": "execute_result"
    },
    {
     "data": {
      "image/png": "[encoded data removed]",
      "text/plain": [
       "<matplotlib.figure.Figure at 0x11b00b3d0>"
      ]
     },
     "metadata": {},
     "output_type": "display_data"
    }
   ],
   "source": [
    "import matplotlib.pyplot as plt\n",
    "\n",
    "\n",
    "plt.scatter(my_scores.keys(), my_scores.values())"
   ]
  },
  {
   "cell_type": "code",
   "execution_count": null,
   "metadata": {
    "collapsed": true
   },
   "outputs": [],
   "source": []
  }
 ],
 "metadata": {
  "anaconda-cloud": {},
  "kernelspec": {
   "display_name": "Python [conda root]",
   "language": "python",
   "name": "conda-root-py"
  },
  "language_info": {
   "codemirror_mode": {
    "name": "ipython",
    "version": 2
   },
   "file_extension": ".py",
   "mimetype": "text/x-python",
   "name": "python",
   "nbconvert_exporter": "python",
   "pygments_lexer": "ipython2",
   "version": "2.7.12"
  }
 },
 "nbformat": 4,
 "nbformat_minor": 0
}
