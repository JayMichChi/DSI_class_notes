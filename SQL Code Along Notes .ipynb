{
 "cells": [
  {
   "cell_type": "code",
   "execution_count": 3,
   "metadata": {
    "collapsed": true
   },
   "outputs": [],
   "source": [
    "import sqlite3"
   ]
  },
  {
   "cell_type": "code",
   "execution_count": 4,
   "metadata": {
    "collapsed": false
   },
   "outputs": [],
   "source": [
    "sqlite_db = 'houses.sqlite'\n",
    "conn = sqlite3.connect(sqlite_db)\n",
    "# c stands for our connection to our database\n",
    "c = conn.cursor()"
   ]
  },
  {
   "cell_type": "code",
   "execution_count": 5,
   "metadata": {
    "collapsed": false
   },
   "outputs": [
    {
     "ename": "OperationalError",
     "evalue": "table houses already exists",
     "output_type": "error",
     "traceback": [
      "\u001b[0;31m---------------------------------------------------------------------------\u001b[0m",
      "\u001b[0;31mOperationalError\u001b[0m                          Traceback (most recent call last)",
      "\u001b[0;32m<ipython-input-5-4a9595c97e53>\u001b[0m in \u001b[0;36m<module>\u001b[0;34m()\u001b[0m\n\u001b[0;32m----> 1\u001b[0;31m \u001b[0mc\u001b[0m\u001b[0;34m.\u001b[0m\u001b[0mexecute\u001b[0m\u001b[0;34m(\u001b[0m\u001b[0;34m'CREATE TABLE houses (pk INTEGER PRIMARY KEY, sqft INTEGER, bdrms INTEGER, age INTEGER, price INTEGER);'\u001b[0m\u001b[0;34m)\u001b[0m\u001b[0;34m\u001b[0m\u001b[0m\n\u001b[0m",
      "\u001b[0;31mOperationalError\u001b[0m: table houses already exists"
     ]
    }
   ],
   "source": [
    "c.execute('CREATE TABLE houses (pk INTEGER PRIMARY KEY, sqft INTEGER, bdrms INTEGER, age INTEGER, price INTEGER);')"
   ]
  },
  {
   "cell_type": "code",
   "execution_count": 6,
   "metadata": {
    "collapsed": true
   },
   "outputs": [],
   "source": [
    "conn.commit()"
   ]
  },
  {
   "cell_type": "code",
   "execution_count": 7,
   "metadata": {
    "collapsed": false
   },
   "outputs": [],
   "source": [
    "# Lets create some data now that we created a table called HOUSES\n",
    "\n",
    "\n",
    "last_sale = (None, 4000, 5,22,619000)\n",
    "c.execute('INSERT INTO houses VALUES (?,?,?,?,?)', last_sale)\n",
    "conn.commit()"
   ]
  },
  {
   "cell_type": "code",
   "execution_count": 8,
   "metadata": {
    "collapsed": false
   },
   "outputs": [
    {
     "data": {
      "text/plain": [
       "<sqlite3.Cursor at 0x1072abdc0>"
      ]
     },
     "execution_count": 8,
     "metadata": {},
     "output_type": "execute_result"
    }
   ],
   "source": [
    "# Now we can look at what our table looks like now\n",
    "# Execute is the syntax to insert one at a time. Executemany (used below) is for routines\n",
    "c.execute ('SELECT * FROM houses;')\n"
   ]
  },
  {
   "cell_type": "code",
   "execution_count": 9,
   "metadata": {
    "collapsed": true
   },
   "outputs": [],
   "source": [
    "conn.commit()"
   ]
  },
  {
   "cell_type": "code",
   "execution_count": 10,
   "metadata": {
    "collapsed": false
   },
   "outputs": [
    {
     "data": {
      "text/plain": [
       "[(1, 4000, 5, 22, 619000),\n",
       " (2, 4000, 5, 22, 619000),\n",
       " (3, 2390, 4, 34, 319000),\n",
       " (4, 1870, 3, 14, 289000),\n",
       " (5, 1505, 3, 90, 269000),\n",
       " (6, 2104, 3, 70, 399900),\n",
       " (7, 1600, 3, 28, 329900),\n",
       " (8, 2400, 3, 44, 369000),\n",
       " (9, 1416, 2, 49, 232000),\n",
       " (10, 3000, 4, 75, 539900),\n",
       " (11, 1985, 4, 61, 299900),\n",
       " (12, 1534, 3, 12, 314900),\n",
       " (13, 1427, 3, 57, 198999),\n",
       " (14, 1380, 3, 14, 212000),\n",
       " (15, 1494, 3, 15, 242500),\n",
       " (16, 1940, 4, 7, 239999),\n",
       " (17, 2000, 3, 27, 347000),\n",
       " (18, 1890, 3, 45, 329999),\n",
       " (19, 4478, 5, 49, 699900),\n",
       " (20, 1268, 3, 58, 259900),\n",
       " (21, 2300, 4, 77, 449900),\n",
       " (22, 1320, 2, 62, 299900),\n",
       " (23, 1236, 3, 78, 199900),\n",
       " (24, 2609, 4, 5, 499998),\n",
       " (25, 3031, 4, 21, 599000),\n",
       " (26, 1767, 3, 44, 252900),\n",
       " (27, 1888, 2, 79, 255000),\n",
       " (28, 1604, 3, 13, 242900),\n",
       " (29, 1962, 4, 53, 259900),\n",
       " (30, 3890, 3, 36, 573900),\n",
       " (31, 1100, 3, 60, 249900),\n",
       " (32, 1458, 3, 29, 464500),\n",
       " (33, 2526, 3, 13, 469000),\n",
       " (34, 2200, 3, 28, 475000),\n",
       " (35, 2637, 3, 25, 299900),\n",
       " (36, 1839, 2, 40, 349900),\n",
       " (37, 1000, 1, 5, 169900),\n",
       " (38, 2040, 4, 75, 314900),\n",
       " (39, 3137, 3, 67, 579900),\n",
       " (40, 1811, 4, 24, 285900),\n",
       " (41, 1437, 3, 50, 249900),\n",
       " (42, 1239, 3, 22, 229900),\n",
       " (43, 2132, 4, 28, 345000),\n",
       " (44, 4215, 4, 66, 549000),\n",
       " (45, 2162, 4, 43, 287000),\n",
       " (46, 1664, 2, 40, 368500),\n",
       " (47, 2238, 3, 37, 329900),\n",
       " (48, 2567, 4, 57, 314000),\n",
       " (49, 1200, 3, 76, 299000),\n",
       " (50, 852, 2, 70, 179900),\n",
       " (51, 1852, 4, 64, 299900),\n",
       " (52, 1203, 3, 11, 239500),\n",
       " (53, 4000, 5, 22, 619000)]"
      ]
     },
     "execution_count": 10,
     "metadata": {},
     "output_type": "execute_result"
    }
   ],
   "source": [
    "results = c.execute ('SELECT * FROM houses;')\n",
    "results.fetchall()"
   ]
  },
  {
   "cell_type": "code",
   "execution_count": 11,
   "metadata": {
    "collapsed": true
   },
   "outputs": [],
   "source": [
    "# doing this for each file, we can set up a command that will make this insertion a routine\n",
    "\n",
    "recent_sales = [\n",
    "  (None, 2390, 4, 34, 319000),\n",
    "  (None, 1870, 3, 14, 289000),\n",
    "  (None, 1505, 3, 90, 269000),\n",
    "]\n",
    "# EXECUTE MANY is the syntax to insert many\n",
    "c.executemany('INSERT INTO houses VALUES (?,?,?,?,?)', recent_sales)\n",
    "conn.commit()"
   ]
  },
  {
   "cell_type": "code",
   "execution_count": 12,
   "metadata": {
    "collapsed": false
   },
   "outputs": [
    {
     "data": {
      "text/plain": [
       "[(1, 4000, 5, 22, 619000),\n",
       " (2, 4000, 5, 22, 619000),\n",
       " (3, 2390, 4, 34, 319000),\n",
       " (4, 1870, 3, 14, 289000),\n",
       " (5, 1505, 3, 90, 269000),\n",
       " (6, 2104, 3, 70, 399900),\n",
       " (7, 1600, 3, 28, 329900),\n",
       " (8, 2400, 3, 44, 369000),\n",
       " (9, 1416, 2, 49, 232000),\n",
       " (10, 3000, 4, 75, 539900),\n",
       " (11, 1985, 4, 61, 299900),\n",
       " (12, 1534, 3, 12, 314900),\n",
       " (13, 1427, 3, 57, 198999),\n",
       " (14, 1380, 3, 14, 212000),\n",
       " (15, 1494, 3, 15, 242500),\n",
       " (16, 1940, 4, 7, 239999),\n",
       " (17, 2000, 3, 27, 347000),\n",
       " (18, 1890, 3, 45, 329999),\n",
       " (19, 4478, 5, 49, 699900),\n",
       " (20, 1268, 3, 58, 259900),\n",
       " (21, 2300, 4, 77, 449900),\n",
       " (22, 1320, 2, 62, 299900),\n",
       " (23, 1236, 3, 78, 199900),\n",
       " (24, 2609, 4, 5, 499998),\n",
       " (25, 3031, 4, 21, 599000),\n",
       " (26, 1767, 3, 44, 252900),\n",
       " (27, 1888, 2, 79, 255000),\n",
       " (28, 1604, 3, 13, 242900),\n",
       " (29, 1962, 4, 53, 259900),\n",
       " (30, 3890, 3, 36, 573900),\n",
       " (31, 1100, 3, 60, 249900),\n",
       " (32, 1458, 3, 29, 464500),\n",
       " (33, 2526, 3, 13, 469000),\n",
       " (34, 2200, 3, 28, 475000),\n",
       " (35, 2637, 3, 25, 299900),\n",
       " (36, 1839, 2, 40, 349900),\n",
       " (37, 1000, 1, 5, 169900),\n",
       " (38, 2040, 4, 75, 314900),\n",
       " (39, 3137, 3, 67, 579900),\n",
       " (40, 1811, 4, 24, 285900),\n",
       " (41, 1437, 3, 50, 249900),\n",
       " (42, 1239, 3, 22, 229900),\n",
       " (43, 2132, 4, 28, 345000),\n",
       " (44, 4215, 4, 66, 549000),\n",
       " (45, 2162, 4, 43, 287000),\n",
       " (46, 1664, 2, 40, 368500),\n",
       " (47, 2238, 3, 37, 329900),\n",
       " (48, 2567, 4, 57, 314000),\n",
       " (49, 1200, 3, 76, 299000),\n",
       " (50, 852, 2, 70, 179900),\n",
       " (51, 1852, 4, 64, 299900),\n",
       " (52, 1203, 3, 11, 239500),\n",
       " (53, 4000, 5, 22, 619000),\n",
       " (54, 2390, 4, 34, 319000),\n",
       " (55, 1870, 3, 14, 289000),\n",
       " (56, 1505, 3, 90, 269000)]"
      ]
     },
     "execution_count": 12,
     "metadata": {},
     "output_type": "execute_result"
    }
   ],
   "source": [
    "results = c.execute ('SELECT * FROM houses;')\n",
    "results.fetchall()"
   ]
  },
  {
   "cell_type": "code",
   "execution_count": 21,
   "metadata": {
    "collapsed": false
   },
   "outputs": [
    {
     "data": {
      "text/plain": [
       "[[2104, 3, 70, 399900],\n",
       " [1600, 3, 28, 329900],\n",
       " [2400, 3, 44, 369000],\n",
       " [1416, 2, 49, 232000],\n",
       " [3000, 4, 75, 539900],\n",
       " [1985, 4, 61, 299900],\n",
       " [1534, 3, 12, 314900],\n",
       " [1427, 3, 57, 198999],\n",
       " [1380, 3, 14, 212000],\n",
       " [1494, 3, 15, 242500],\n",
       " [1940, 4, 7, 239999],\n",
       " [2000, 3, 27, 347000],\n",
       " [1890, 3, 45, 329999],\n",
       " [4478, 5, 49, 699900],\n",
       " [1268, 3, 58, 259900],\n",
       " [2300, 4, 77, 449900],\n",
       " [1320, 2, 62, 299900],\n",
       " [1236, 3, 78, 199900],\n",
       " [2609, 4, 5, 499998],\n",
       " [3031, 4, 21, 599000],\n",
       " [1767, 3, 44, 252900],\n",
       " [1888, 2, 79, 255000],\n",
       " [1604, 3, 13, 242900],\n",
       " [1962, 4, 53, 259900],\n",
       " [3890, 3, 36, 573900],\n",
       " [1100, 3, 60, 249900],\n",
       " [1458, 3, 29, 464500],\n",
       " [2526, 3, 13, 469000],\n",
       " [2200, 3, 28, 475000],\n",
       " [2637, 3, 25, 299900],\n",
       " [1839, 2, 40, 349900],\n",
       " [1000, 1, 5, 169900],\n",
       " [2040, 4, 75, 314900],\n",
       " [3137, 3, 67, 579900],\n",
       " [1811, 4, 24, 285900],\n",
       " [1437, 3, 50, 249900],\n",
       " [1239, 3, 22, 229900],\n",
       " [2132, 4, 28, 345000],\n",
       " [4215, 4, 66, 549000],\n",
       " [2162, 4, 43, 287000],\n",
       " [1664, 2, 40, 368500],\n",
       " [2238, 3, 37, 329900],\n",
       " [2567, 4, 57, 314000],\n",
       " [1200, 3, 76, 299000],\n",
       " [852, 2, 70, 179900],\n",
       " [1852, 4, 64, 299900],\n",
       " [1203, 3, 11, 239500]]"
      ]
     },
     "execution_count": 21,
     "metadata": {},
     "output_type": "execute_result"
    }
   ],
   "source": [
    "# Now we loaded a database of csv homesites to my harddrive  in Data in my Jays_stuff folder at my root directory\n",
    "\n",
    "# Load this numpy function\n",
    "\n",
    "from numpy import genfromtxt\n",
    "data = (genfromtxt('housing-data.csv', dtype = 'i8',\n",
    "                 delimiter = ',', skip_header = 1)).tolist()\n",
    "data"
   ]
  },
  {
   "cell_type": "code",
   "execution_count": 22,
   "metadata": {
    "collapsed": false
   },
   "outputs": [
    {
     "data": {
      "text/plain": [
       "[[None, 2104, 3, 70, 399900],\n",
       " [None, 1600, 3, 28, 329900],\n",
       " [None, 2400, 3, 44, 369000]]"
      ]
     },
     "execution_count": 22,
     "metadata": {},
     "output_type": "execute_result"
    }
   ],
   "source": [
    "# Once ingested, list the top 3 rows\n",
    "for d in data:\n",
    "    d.insert(0,None)\n",
    "data[0:3]"
   ]
  },
  {
   "cell_type": "code",
   "execution_count": 23,
   "metadata": {
    "collapsed": true
   },
   "outputs": [],
   "source": [
    "# Now we are going to loop thur every entry in our lists 'INSERT INTO houses VALUES (?,?,?,?,?)'\n",
    "\n",
    "for d in data:\n",
    "    c.execute('INSERT INTO houses VALUES (?,?,?,?,?)',d)\n",
    "conn.commit()"
   ]
  },
  {
   "cell_type": "code",
   "execution_count": 24,
   "metadata": {
    "collapsed": false
   },
   "outputs": [
    {
     "data": {
      "text/plain": [
       "[(1, 4000, 5, 22, 619000),\n",
       " (2, 4000, 5, 22, 619000),\n",
       " (3, 2390, 4, 34, 319000),\n",
       " (4, 1870, 3, 14, 289000),\n",
       " (5, 1505, 3, 90, 269000),\n",
       " (6, 2104, 3, 70, 399900),\n",
       " (7, 1600, 3, 28, 329900),\n",
       " (8, 2400, 3, 44, 369000),\n",
       " (9, 1416, 2, 49, 232000),\n",
       " (10, 3000, 4, 75, 539900),\n",
       " (11, 1985, 4, 61, 299900),\n",
       " (12, 1534, 3, 12, 314900),\n",
       " (13, 1427, 3, 57, 198999),\n",
       " (14, 1380, 3, 14, 212000),\n",
       " (15, 1494, 3, 15, 242500),\n",
       " (16, 1940, 4, 7, 239999),\n",
       " (17, 2000, 3, 27, 347000),\n",
       " (18, 1890, 3, 45, 329999),\n",
       " (19, 4478, 5, 49, 699900),\n",
       " (20, 1268, 3, 58, 259900),\n",
       " (21, 2300, 4, 77, 449900),\n",
       " (22, 1320, 2, 62, 299900),\n",
       " (23, 1236, 3, 78, 199900),\n",
       " (24, 2609, 4, 5, 499998),\n",
       " (25, 3031, 4, 21, 599000),\n",
       " (26, 1767, 3, 44, 252900),\n",
       " (27, 1888, 2, 79, 255000),\n",
       " (28, 1604, 3, 13, 242900),\n",
       " (29, 1962, 4, 53, 259900),\n",
       " (30, 3890, 3, 36, 573900),\n",
       " (31, 1100, 3, 60, 249900),\n",
       " (32, 1458, 3, 29, 464500),\n",
       " (33, 2526, 3, 13, 469000),\n",
       " (34, 2200, 3, 28, 475000),\n",
       " (35, 2637, 3, 25, 299900),\n",
       " (36, 1839, 2, 40, 349900),\n",
       " (37, 1000, 1, 5, 169900),\n",
       " (38, 2040, 4, 75, 314900),\n",
       " (39, 3137, 3, 67, 579900),\n",
       " (40, 1811, 4, 24, 285900),\n",
       " (41, 1437, 3, 50, 249900),\n",
       " (42, 1239, 3, 22, 229900),\n",
       " (43, 2132, 4, 28, 345000),\n",
       " (44, 4215, 4, 66, 549000),\n",
       " (45, 2162, 4, 43, 287000),\n",
       " (46, 1664, 2, 40, 368500),\n",
       " (47, 2238, 3, 37, 329900),\n",
       " (48, 2567, 4, 57, 314000),\n",
       " (49, 1200, 3, 76, 299000),\n",
       " (50, 852, 2, 70, 179900),\n",
       " (51, 1852, 4, 64, 299900),\n",
       " (52, 1203, 3, 11, 239500)]"
      ]
     },
     "execution_count": 24,
     "metadata": {},
     "output_type": "execute_result"
    }
   ],
   "source": [
    "results = c.execute('SELECT * FROM houses;')\n",
    "results.fetchall()"
   ]
  },
  {
   "cell_type": "code",
   "execution_count": 25,
   "metadata": {
    "collapsed": true
   },
   "outputs": [],
   "source": [
    "import pandas as pd\n",
    "from pandas.io import sql\n"
   ]
  },
  {
   "cell_type": "code",
   "execution_count": 26,
   "metadata": {
    "collapsed": false
   },
   "outputs": [
    {
     "data": {
      "text/html": [
       "<div>\n",
       "<table border=\"1\" class=\"dataframe\">\n",
       "  <thead>\n",
       "    <tr style=\"text-align: right;\">\n",
       "      <th></th>\n",
       "      <th>sqft</th>\n",
       "      <th>bdrms</th>\n",
       "      <th>age</th>\n",
       "      <th>price</th>\n",
       "    </tr>\n",
       "  </thead>\n",
       "  <tbody>\n",
       "    <tr>\n",
       "      <th>0</th>\n",
       "      <td>2104</td>\n",
       "      <td>3</td>\n",
       "      <td>70</td>\n",
       "      <td>399900</td>\n",
       "    </tr>\n",
       "    <tr>\n",
       "      <th>1</th>\n",
       "      <td>1600</td>\n",
       "      <td>3</td>\n",
       "      <td>28</td>\n",
       "      <td>329900</td>\n",
       "    </tr>\n",
       "    <tr>\n",
       "      <th>2</th>\n",
       "      <td>2400</td>\n",
       "      <td>3</td>\n",
       "      <td>44</td>\n",
       "      <td>369000</td>\n",
       "    </tr>\n",
       "    <tr>\n",
       "      <th>3</th>\n",
       "      <td>1416</td>\n",
       "      <td>2</td>\n",
       "      <td>49</td>\n",
       "      <td>232000</td>\n",
       "    </tr>\n",
       "    <tr>\n",
       "      <th>4</th>\n",
       "      <td>3000</td>\n",
       "      <td>4</td>\n",
       "      <td>75</td>\n",
       "      <td>539900</td>\n",
       "    </tr>\n",
       "  </tbody>\n",
       "</table>\n",
       "</div>"
      ],
      "text/plain": [
       "   sqft  bdrms  age   price\n",
       "0  2104      3   70  399900\n",
       "1  1600      3   28  329900\n",
       "2  2400      3   44  369000\n",
       "3  1416      2   49  232000\n",
       "4  3000      4   75  539900"
      ]
     },
     "execution_count": 26,
     "metadata": {},
     "output_type": "execute_result"
    }
   ],
   "source": [
    "data = pd.read_csv('housing-data.csv')\n",
    "data.head()"
   ]
  },
  {
   "cell_type": "code",
   "execution_count": 27,
   "metadata": {
    "collapsed": false
   },
   "outputs": [
    {
     "data": {
      "text/plain": [
       "<sqlite3.Connection at 0x106ea3770>"
      ]
     },
     "execution_count": 27,
     "metadata": {},
     "output_type": "execute_result"
    }
   ],
   "source": [
    "conn"
   ]
  },
  {
   "cell_type": "code",
   "execution_count": 29,
   "metadata": {
    "collapsed": false
   },
   "outputs": [],
   "source": [
    "# So we ask to take data from sql database, put it into a pandas datastructure called Pandas are cool\n",
    "\n",
    "data.to_sql('houses_pandas_are_cool',\n",
    "           con = conn,\n",
    "           if_exists = 'replace',\n",
    "            index=False)"
   ]
  },
  {
   "cell_type": "code",
   "execution_count": 31,
   "metadata": {
    "collapsed": false
   },
   "outputs": [
    {
     "data": {
      "text/plain": [
       "[(2104, 3, 70, 399900),\n",
       " (1600, 3, 28, 329900),\n",
       " (2400, 3, 44, 369000),\n",
       " (1416, 2, 49, 232000),\n",
       " (3000, 4, 75, 539900)]"
      ]
     },
     "execution_count": 31,
     "metadata": {},
     "output_type": "execute_result"
    }
   ],
   "source": [
    "results = c.execute('SELECT * FROM houses_pandas_are_cool;')\n",
    "results.fetchall()[0:5]"
   ]
  },
  {
   "cell_type": "code",
   "execution_count": 32,
   "metadata": {
    "collapsed": true
   },
   "outputs": [],
   "source": [
    "\n",
    "this_data_came_from_sql = sql.read_sql('SELECT * FROM houses_pandas_are_cool',\n",
    "                                      con=conn)"
   ]
  },
  {
   "cell_type": "code",
   "execution_count": 33,
   "metadata": {
    "collapsed": false
   },
   "outputs": [
    {
     "data": {
      "text/html": [
       "<div>\n",
       "<table border=\"1\" class=\"dataframe\">\n",
       "  <thead>\n",
       "    <tr style=\"text-align: right;\">\n",
       "      <th></th>\n",
       "      <th>sqft</th>\n",
       "      <th>bdrms</th>\n",
       "      <th>age</th>\n",
       "      <th>price</th>\n",
       "    </tr>\n",
       "  </thead>\n",
       "  <tbody>\n",
       "    <tr>\n",
       "      <th>0</th>\n",
       "      <td>2104</td>\n",
       "      <td>3</td>\n",
       "      <td>70</td>\n",
       "      <td>399900</td>\n",
       "    </tr>\n",
       "    <tr>\n",
       "      <th>1</th>\n",
       "      <td>1600</td>\n",
       "      <td>3</td>\n",
       "      <td>28</td>\n",
       "      <td>329900</td>\n",
       "    </tr>\n",
       "    <tr>\n",
       "      <th>2</th>\n",
       "      <td>2400</td>\n",
       "      <td>3</td>\n",
       "      <td>44</td>\n",
       "      <td>369000</td>\n",
       "    </tr>\n",
       "    <tr>\n",
       "      <th>3</th>\n",
       "      <td>1416</td>\n",
       "      <td>2</td>\n",
       "      <td>49</td>\n",
       "      <td>232000</td>\n",
       "    </tr>\n",
       "    <tr>\n",
       "      <th>4</th>\n",
       "      <td>3000</td>\n",
       "      <td>4</td>\n",
       "      <td>75</td>\n",
       "      <td>539900</td>\n",
       "    </tr>\n",
       "  </tbody>\n",
       "</table>\n",
       "</div>"
      ],
      "text/plain": [
       "   sqft  bdrms  age   price\n",
       "0  2104      3   70  399900\n",
       "1  1600      3   28  329900\n",
       "2  2400      3   44  369000\n",
       "3  1416      2   49  232000\n",
       "4  3000      4   75  539900"
      ]
     },
     "execution_count": 33,
     "metadata": {},
     "output_type": "execute_result"
    }
   ],
   "source": [
    "this_data_came_from_sql.head(5)"
   ]
  },
  {
   "cell_type": "code",
   "execution_count": 34,
   "metadata": {
    "collapsed": true
   },
   "outputs": [],
   "source": [
    "# want to define a function that will do the above\n",
    "\n",
    "def helper_function(command):\n",
    "    print sql.read_sql(command, con = conn)"
   ]
  },
  {
   "cell_type": "code",
   "execution_count": 35,
   "metadata": {
    "collapsed": false
   },
   "outputs": [
    {
     "name": "stdout",
     "output_type": "stream",
     "text": [
      "    sqft\n",
      "0   4000\n",
      "1   4000\n",
      "2   2390\n",
      "3   1870\n",
      "4   1505\n",
      "5   2104\n",
      "6   1600\n",
      "7   2400\n",
      "8   1416\n",
      "9   3000\n",
      "10  1985\n",
      "11  1534\n",
      "12  1427\n",
      "13  1380\n",
      "14  1494\n",
      "15  1940\n",
      "16  2000\n",
      "17  1890\n",
      "18  4478\n",
      "19  1268\n",
      "20  2300\n",
      "21  1320\n",
      "22  1236\n",
      "23  2609\n",
      "24  3031\n",
      "25  1767\n",
      "26  1888\n",
      "27  1604\n",
      "28  1962\n",
      "29  3890\n",
      "30  1100\n",
      "31  1458\n",
      "32  2526\n",
      "33  2200\n",
      "34  2637\n",
      "35  1839\n",
      "36  1000\n",
      "37  2040\n",
      "38  3137\n",
      "39  1811\n",
      "40  1437\n",
      "41  1239\n",
      "42  2132\n",
      "43  4215\n",
      "44  2162\n",
      "45  1664\n",
      "46  2238\n",
      "47  2567\n",
      "48  1200\n",
      "49   852\n",
      "50  1852\n",
      "51  1203\n"
     ]
    }
   ],
   "source": [
    "helper_function('SELECT sqft FROM houses')"
   ]
  },
  {
   "cell_type": "code",
   "execution_count": 38,
   "metadata": {
    "collapsed": false
   },
   "outputs": [
    {
     "name": "stdout",
     "output_type": "stream",
     "text": [
      "    pk  sqft  bdrms  age   price\n",
      "0    1  4000      5   22  619000\n",
      "1    2  4000      5   22  619000\n",
      "2    3  2390      4   34  319000\n",
      "3    4  1870      3   14  289000\n",
      "4    5  1505      3   90  269000\n",
      "5    6  2104      3   70  399900\n",
      "6    7  1600      3   28  329900\n",
      "7    8  2400      3   44  369000\n",
      "8    9  1416      2   49  232000\n",
      "9   10  3000      4   75  539900\n",
      "10  11  1985      4   61  299900\n",
      "11  12  1534      3   12  314900\n",
      "12  13  1427      3   57  198999\n",
      "13  14  1380      3   14  212000\n",
      "14  15  1494      3   15  242500\n",
      "15  16  1940      4    7  239999\n",
      "16  17  2000      3   27  347000\n",
      "17  18  1890      3   45  329999\n",
      "18  19  4478      5   49  699900\n",
      "19  20  1268      3   58  259900\n",
      "20  21  2300      4   77  449900\n",
      "21  22  1320      2   62  299900\n",
      "22  23  1236      3   78  199900\n",
      "23  24  2609      4    5  499998\n",
      "24  25  3031      4   21  599000\n",
      "25  26  1767      3   44  252900\n",
      "26  27  1888      2   79  255000\n",
      "27  28  1604      3   13  242900\n",
      "28  29  1962      4   53  259900\n",
      "29  30  3890      3   36  573900\n",
      "30  31  1100      3   60  249900\n",
      "31  32  1458      3   29  464500\n",
      "32  33  2526      3   13  469000\n",
      "33  34  2200      3   28  475000\n",
      "34  35  2637      3   25  299900\n",
      "35  36  1839      2   40  349900\n",
      "36  37  1000      1    5  169900\n",
      "37  38  2040      4   75  314900\n",
      "38  39  3137      3   67  579900\n",
      "39  40  1811      4   24  285900\n",
      "40  41  1437      3   50  249900\n",
      "41  42  1239      3   22  229900\n",
      "42  43  2132      4   28  345000\n",
      "43  44  4215      4   66  549000\n",
      "44  45  2162      4   43  287000\n",
      "45  46  1664      2   40  368500\n",
      "46  47  2238      3   37  329900\n",
      "47  48  2567      4   57  314000\n",
      "48  49  1200      3   76  299000\n",
      "49  50   852      2   70  179900\n",
      "50  51  1852      4   64  299900\n",
      "51  52  1203      3   11  239500\n"
     ]
    }
   ],
   "source": [
    "# We can get all the columns\n",
    "helper_function('SELECT * FROM houses')"
   ]
  },
  {
   "cell_type": "code",
   "execution_count": 40,
   "metadata": {
    "collapsed": false
   },
   "outputs": [
    {
     "name": "stdout",
     "output_type": "stream",
     "text": [
      "    age  sqft  bdrms\n",
      "0    22  4000      5\n",
      "1    22  4000      5\n",
      "2    34  2390      4\n",
      "3    14  1870      3\n",
      "4    90  1505      3\n",
      "5    70  2104      3\n",
      "6    28  1600      3\n",
      "7    44  2400      3\n",
      "8    49  1416      2\n",
      "9    75  3000      4\n",
      "10   61  1985      4\n",
      "11   12  1534      3\n",
      "12   57  1427      3\n",
      "13   14  1380      3\n",
      "14   15  1494      3\n",
      "15    7  1940      4\n",
      "16   27  2000      3\n",
      "17   45  1890      3\n",
      "18   49  4478      5\n",
      "19   58  1268      3\n",
      "20   77  2300      4\n",
      "21   62  1320      2\n",
      "22   78  1236      3\n",
      "23    5  2609      4\n",
      "24   21  3031      4\n",
      "25   44  1767      3\n",
      "26   79  1888      2\n",
      "27   13  1604      3\n",
      "28   53  1962      4\n",
      "29   36  3890      3\n",
      "30   60  1100      3\n",
      "31   29  1458      3\n",
      "32   13  2526      3\n",
      "33   28  2200      3\n",
      "34   25  2637      3\n",
      "35   40  1839      2\n",
      "36    5  1000      1\n",
      "37   75  2040      4\n",
      "38   67  3137      3\n",
      "39   24  1811      4\n",
      "40   50  1437      3\n",
      "41   22  1239      3\n",
      "42   28  2132      4\n",
      "43   66  4215      4\n",
      "44   43  2162      4\n",
      "45   40  1664      2\n",
      "46   37  2238      3\n",
      "47   57  2567      4\n",
      "48   76  1200      3\n",
      "49   70   852      2\n",
      "50   64  1852      4\n",
      "51   11  1203      3\n"
     ]
    }
   ],
   "source": [
    "helper_function('SELECT age, sqft, bdrms FROM houses')"
   ]
  },
  {
   "cell_type": "code",
   "execution_count": 41,
   "metadata": {
    "collapsed": false
   },
   "outputs": [
    {
     "name": "stdout",
     "output_type": "stream",
     "text": [
      "   pk  sqft  bdrms  age   price\n",
      "0   1  4000      5   22  619000\n",
      "1   2  4000      5   22  619000\n",
      "2   3  2390      4   34  319000\n",
      "3   4  1870      3   14  289000\n",
      "4   5  1505      3   90  269000\n",
      "5   6  2104      3   70  399900\n",
      "6   7  1600      3   28  329900\n",
      "7   8  2400      3   44  369000\n",
      "8   9  1416      2   49  232000\n",
      "9  10  3000      4   75  539900\n"
     ]
    }
   ],
   "source": [
    "# to grab some only the top 1o rows...\n",
    "helper_function('SELECT * FROM houses LIMIT 10;')"
   ]
  },
  {
   "cell_type": "code",
   "execution_count": 44,
   "metadata": {
    "collapsed": false
   },
   "outputs": [
    {
     "name": "stdout",
     "output_type": "stream",
     "text": [
      "   pk  sqft  bdrms  age   price\n",
      "0   3  2390      4   34  319000\n",
      "1  10  3000      4   75  539900\n",
      "2  11  1985      4   61  299900\n",
      "3  16  1940      4    7  239999\n",
      "4  21  2300      4   77  449900\n"
     ]
    }
   ],
   "source": [
    "# so we want to do a sort from all the columns, i want to see bdrms 4 and serve up the first 5 rows please\n",
    "helper_function('SELECT * FROM houses WHERE bdrms = 4 LIMIT 5;')"
   ]
  },
  {
   "cell_type": "code",
   "execution_count": 48,
   "metadata": {
    "collapsed": false
   },
   "outputs": [
    {
     "name": "stdout",
     "output_type": "stream",
     "text": [
      "   pk  sqft  bdrms  age   price\n",
      "0  11  1985      4   61  299900\n",
      "1  16  1940      4    7  239999\n",
      "2  29  1962      4   53  259900\n",
      "3  40  1811      4   24  285900\n",
      "4  45  2162      4   43  287000\n",
      "5  51  1852      4   64  299900\n"
     ]
    }
   ],
   "source": [
    "# multiple search limit 10 but only 5 correct answershelper_function('SELECT * FROM houses WHERE bdrms = 4 LIMIT 5;')\n",
    "helper_function('SELECT * FROM houses WHERE bdrms = 4 and price <300000 LIMIT 10;')"
   ]
  },
  {
   "cell_type": "code",
   "execution_count": 49,
   "metadata": {
    "collapsed": false
   },
   "outputs": [
    {
     "name": "stdout",
     "output_type": "stream",
     "text": [
      "   COUNT(*)\n",
      "0        52\n"
     ]
    }
   ],
   "source": [
    "# I want to get the count of all things\n",
    "helper_function('SELECT COUNT(*) FROM houses;')"
   ]
  },
  {
   "cell_type": "code",
   "execution_count": 50,
   "metadata": {
    "collapsed": false
   },
   "outputs": [
    {
     "name": "stdout",
     "output_type": "stream",
     "text": [
      "   AVG(sqft)  MIN(price)  MAX(price)\n",
      "0     1496.5      179900      368500\n"
     ]
    }
   ],
   "source": [
    "helper_function('SELECT AVG(sqft), MIN(price), MAX(price) FROM houses WHERE bdrms = 2;')"
   ]
  },
  {
   "cell_type": "code",
   "execution_count": 51,
   "metadata": {
    "collapsed": false
   },
   "outputs": [
    {
     "name": "stdout",
     "output_type": "stream",
     "text": [
      "   AVG(price)\n",
      "0    169900.0\n"
     ]
    }
   ],
   "source": [
    "#Q Whats the avg price per bedroom for a 1 bedrm apt?\n",
    "helper_function('SELECT AVG(price)FROM houses WHERE bdrms = 1;')"
   ]
  },
  {
   "cell_type": "code",
   "execution_count": 60,
   "metadata": {
    "collapsed": false
   },
   "outputs": [
    {
     "name": "stdout",
     "output_type": "stream",
     "text": [
      "    AVG(price)/2\n",
      "0  140433.333333\n",
      "   price_bdroom1    price_bdrm2\n",
      "0  140433.333333  280866.666667\n"
     ]
    }
   ],
   "source": [
    "#Q Whats the avg price per bedrrom for a 2 bedroom Apartment?\n",
    "helper_function('SELECT AVG(price)/2 FROM houses WHERE bdrms = 2;')\n",
    "\n",
    "# u can add in this code to get a new title using \"as\"\n",
    "helper_function('SELECT AVG(price)/2 as price_bdroom1, AVG(price) as price_bdrm2 FROM houses WHERE bdrms = 2;')"
   ]
  },
  {
   "cell_type": "code",
   "execution_count": 61,
   "metadata": {
    "collapsed": false
   },
   "outputs": [
    {
     "name": "stdout",
     "output_type": "stream",
     "text": [
      "   AVG(bdrms)\n",
      "0        3.25\n"
     ]
    }
   ],
   "source": [
    "#Q Whats the most frequent apt size in terms of number of bedrooms?\n",
    "helper_function('SELECT AVG(bdrms)FROM houses;')"
   ]
  },
  {
   "cell_type": "code",
   "execution_count": 64,
   "metadata": {
    "collapsed": false
   },
   "outputs": [
    {
     "name": "stdout",
     "output_type": "stream",
     "text": [
      "   bdrms  COUNT(*)\n",
      "0      1         1\n",
      "1      2         6\n",
      "2      3        27\n",
      "3      4        15\n",
      "4      5         3\n"
     ]
    }
   ],
   "source": [
    "helper_function('SELECT bdrms, COUNT(*) FROM houses GROUP BY bdrms;')"
   ]
  },
  {
   "cell_type": "code",
   "execution_count": 66,
   "metadata": {
    "collapsed": false
   },
   "outputs": [
    {
     "name": "stdout",
     "output_type": "stream",
     "text": [
      "   MAX(age)\n",
      "0        90\n",
      "   pk  sqft  bdrms  age   price\n",
      "0   5  1505      3   90  269000\n"
     ]
    }
   ],
   "source": [
    "# How old is the oldest 3 bedrm apt?\n",
    "\n",
    "helper_function('SELECT MAX(age)FROM houses WHERE bdrms = 3;')\n",
    "\n",
    "helper_function('SELECT * FROM houses WHERE bdrms = 3 and age =90;')"
   ]
  },
  {
   "cell_type": "code",
   "execution_count": 67,
   "metadata": {
    "collapsed": false
   },
   "outputs": [
    {
     "name": "stdout",
     "output_type": "stream",
     "text": [
      "   MIN(age)\n",
      "0         5\n"
     ]
    }
   ],
   "source": [
    "# How old is the newest Apt?\n",
    "helper_function('SELECT MIN(age)FROM houses;')"
   ]
  },
  {
   "cell_type": "code",
   "execution_count": 68,
   "metadata": {
    "collapsed": false
   },
   "outputs": [
    {
     "name": "stdout",
     "output_type": "stream",
     "text": [
      "    AVG(age)\n",
      "0  42.134615\n"
     ]
    }
   ],
   "source": [
    "# What is the avg age of the whole dataset\n",
    "helper_function('SELECT AVG(age)FROM houses;')"
   ]
  },
  {
   "cell_type": "code",
   "execution_count": null,
   "metadata": {
    "collapsed": true
   },
   "outputs": [],
   "source": []
  }
 ],
 "metadata": {
  "anaconda-cloud": {},
  "kernelspec": {
   "display_name": "Python [Root]",
   "language": "python",
   "name": "Python [Root]"
  },
  "language_info": {
   "codemirror_mode": {
    "name": "ipython",
    "version": 2
   },
   "file_extension": ".py",
   "mimetype": "text/x-python",
   "name": "python",
   "nbconvert_exporter": "python",
   "pygments_lexer": "ipython2",
   "version": "2.7.12"
  }
 },
 "nbformat": 4,
 "nbformat_minor": 0
}
